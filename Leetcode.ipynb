{
 "cells": [
  {
   "cell_type": "markdown",
   "id": "9e276f10",
   "metadata": {},
   "source": [
    "# 13. Roman to Integer (easy)\n"
   ]
  },
  {
   "cell_type": "code",
   "execution_count": 22,
   "id": "590280d3",
   "metadata": {},
   "outputs": [
    {
     "data": {
      "text/plain": [
       "1476"
      ]
     },
     "execution_count": 22,
     "metadata": {},
     "output_type": "execute_result"
    }
   ],
   "source": [
    "def romanToInt(s: str) -> int:\n",
    "        \n",
    "    values = {\"I\":1, \"V\":5, \"X\":10, \"L\":50, \"C\":100, \"D\":500, \"M\":1000}\n",
    "    numbers =[values[s[0]]]\n",
    "    for i in s[1:]:\n",
    "        if values[i] > numbers[-1]:\n",
    "            numbers[-1]*= -1\n",
    "        numbers.append(values[i])\n",
    "\n",
    "    return sum(numbers)"
   ]
  },
  {
   "cell_type": "markdown",
   "id": "87016d85",
   "metadata": {},
   "source": [
    "##  58. Length of Last Word (easy)"
   ]
  },
  {
   "cell_type": "code",
   "execution_count": 33,
   "id": "38f8ee71",
   "metadata": {},
   "outputs": [
    {
     "data": {
      "text/plain": [
       "0"
      ]
     },
     "execution_count": 33,
     "metadata": {},
     "output_type": "execute_result"
    }
   ],
   "source": [
    "def lengthOfLastWord(s: str) -> int:\n",
    "    # return len(s.split()[-1])\n",
    "    i=len(s)-1\n",
    "    count=0\n",
    "    condition = True\n",
    "    while condition and i>=0 :\n",
    "        if s[i] !=' ':\n",
    "            count+=1\n",
    "            i-=1\n",
    "        elif s[i]==' ' and count ==0:\n",
    "            i-=1\n",
    "        else:\n",
    "            condition = False\n",
    "    return count"
   ]
  },
  {
   "cell_type": "markdown",
   "id": "d68ef80e",
   "metadata": {},
   "source": [
    "## 14. Longest Common Prefix(easy) not done"
   ]
  },
  {
   "cell_type": "code",
   "execution_count": 41,
   "id": "b2e836ff",
   "metadata": {},
   "outputs": [],
   "source": [
    "strs = [\"flower\",\"flow\",\"flight\"]\n",
    "# count=0\n",
    "# while True:\n",
    "#     for i in strs:\n",
    "#         if strs[0][count] != strs[i][count]:\n",
    "#             if count ==0:\n",
    "#                 return \"\"\n",
    "#             else:\n",
    "#                 return strs[0][:count]\n",
    "def longestCommonPrefix( strs) -> str:\n",
    "        count=0\n",
    "        while True:\n",
    "            for i in strs:\n",
    "                if strs[0][count] != i[count]:\n",
    "                    if count ==0:\n",
    "                        return \"\"\n",
    "                    else:\n",
    "                        return strs[0][:count]\n",
    "            count+=1\n",
    "    "
   ]
  },
  {
   "cell_type": "markdown",
   "id": "ad4a4ea7",
   "metadata": {},
   "source": [
    "##  28. Find the Index of the First Occurrence in a String (easy)"
   ]
  },
  {
   "cell_type": "code",
   "execution_count": 50,
   "id": "477fc5f0",
   "metadata": {},
   "outputs": [
    {
     "data": {
      "text/plain": [
       "['he', 'o']"
      ]
     },
     "execution_count": 50,
     "metadata": {},
     "output_type": "execute_result"
    }
   ],
   "source": [
    "def strStr( haystack: str, needle: str) -> int:\n",
    "        \n",
    "        for i in range(0, len(haystack)):\n",
    "            if haystack[i:i+len(needle)] == needle:\n",
    "                return i\n",
    "            i+=1\n",
    "        return -1"
   ]
  },
  {
   "cell_type": "markdown",
   "id": "fd727a01",
   "metadata": {},
   "source": [
    "## 125. Valid Palindrome (easy)"
   ]
  },
  {
   "cell_type": "code",
   "execution_count": 63,
   "id": "87dda618",
   "metadata": {},
   "outputs": [
    {
     "data": {
      "text/plain": [
       "True"
      ]
     },
     "execution_count": 63,
     "metadata": {},
     "output_type": "execute_result"
    }
   ],
   "source": [
    "def isPalindrome(s: str) -> bool: #my answer\n",
    "        alphas=[]\n",
    "        for i in range(len(s)):\n",
    "            if s[i].isalpha() or s[i].isnumeric():\n",
    "                alphas.append(s[i].lower())\n",
    "        return alphas == alphas[::-1]\n",
    "\n",
    "def isPalindrome( s: str) -> bool: #better code\n",
    "        l = 0\n",
    "        r = len(s) - 1\n",
    "        while l < r:\n",
    "            if not s[l].isalnum():\n",
    "                l += 1\n",
    "            elif not s[r].isalnum():\n",
    "                r -= 1\n",
    "            elif s[l].lower() == s[r].lower():\n",
    "                l += 1\n",
    "                r -= 1\n",
    "            else:\n",
    "                return False\n",
    "\n",
    "        return True\n",
    "        \n",
    "\n",
    "        \n",
    "        \n",
    "    "
   ]
  },
  {
   "cell_type": "markdown",
   "id": "123d7000",
   "metadata": {},
   "source": [
    "## 392. Is Subsequence(easy) "
   ]
  },
  {
   "cell_type": "code",
   "execution_count": null,
   "id": "6f5ed83c",
   "metadata": {},
   "outputs": [],
   "source": [
    "s = \"abc\"\n",
    "t = \"ahbgdc\"\n",
    "\n",
    "def isSubsequence(s: str, t: str) -> bool: #my solution\n",
    "        i,j=0,0\n",
    "        if s=='':\n",
    "            return True\n",
    "        while i < len(s) and j < len(t):\n",
    "            if s[i] == t[j]:\n",
    "                if i == len(s)-1:\n",
    "                    return True\n",
    "                i+=1\n",
    "                j+=1\n",
    "            else:\n",
    "                j+=1\n",
    "        return False\n",
    "\n",
    "    "
   ]
  },
  {
   "cell_type": "markdown",
   "id": "e186205c",
   "metadata": {},
   "source": [
    "##  383. Ransom Note(easy)"
   ]
  },
  {
   "cell_type": "code",
   "execution_count": 1,
   "id": "14957663",
   "metadata": {},
   "outputs": [],
   "source": [
    "def canConstruct(ransomNote: str, magazine: str) -> bool: #my solution\n",
    "        _dict ={}\n",
    "        for i in ransomNote:\n",
    "            if i in _dict:\n",
    "                _dict[i]+=1\n",
    "            else:\n",
    "                _dict[i]=1\n",
    "        for i in magazine:\n",
    "            if i in _dict:\n",
    "                _dict[i]-=1\n",
    "                if _dict[i] ==0:\n",
    "                    del _dict[i]\n",
    "                    \n",
    "        return _dict=={}\n",
    "\n",
    "def canConstruct( ransomNote: str, magazine: str) -> bool: #efficient sol\n",
    "        for i in ransomNote :\n",
    "            if i not in magazine :\n",
    "                return False \n",
    "            magazine = magazine.replace(i,'',1)\n",
    "        return True \n",
    "        \n",
    "        "
   ]
  },
  {
   "cell_type": "markdown",
   "id": "c7b8d5ce",
   "metadata": {},
   "source": [
    "##  205. Isomorphic Strings(easy)"
   ]
  },
  {
   "cell_type": "code",
   "execution_count": 2,
   "id": "ca11f7b9",
   "metadata": {},
   "outputs": [],
   "source": [
    "def isIsomorphic( s: str, t: str) -> bool: #my solution\n",
    "    _dict1={}\n",
    "    _dict2={}\n",
    "    for i in range(len(s)):\n",
    "        if s[i] in _dict1:\n",
    "            if t[i]!=_dict1[s[i]]:\n",
    "                return False   \n",
    "        elif t[i] in _dict2:\n",
    "            if s[i] != _dict2[t[i]]:\n",
    "                return False\n",
    "        else:\n",
    "            _dict1[s[i]]=t[i]\n",
    "            _dict2[t[i]]=s[i]\n",
    "\n",
    "    return True\n",
    "\n",
    "def isIsomorphic(self, s, t): #better solution\n",
    "    map1 = []\n",
    "    map2 = []\n",
    "    for idx in s:\n",
    "        map1.append(s.index(idx))\n",
    "    for idx in t:\n",
    "        map2.append(t.index(idx))\n",
    "    if map1 == map2:\n",
    "        return True\n",
    "    return False\n",
    "\n",
    "def isIsomorphic(self, s: str, t: str) -> bool: #python3 solution\n",
    "        return [*map(s.index, s)] == [*map(t.index, t)]\n",
    "    "
   ]
  },
  {
   "cell_type": "markdown",
   "id": "522b8519",
   "metadata": {},
   "source": [
    "##  290. Word Pattern(easy)"
   ]
  },
  {
   "cell_type": "code",
   "execution_count": 4,
   "id": "f26df342",
   "metadata": {},
   "outputs": [],
   "source": [
    "def wordPattern( pattern: str, s: str) -> bool: #my solution\n",
    "    l2= s.split()\n",
    "    return [*map(pattern.index, pattern)]==[*map(l2.index, l2)]\n",
    "\n",
    "def wordPattern( pattern: str, s: str) -> bool: #better solution\n",
    "\n",
    "        s = s.split()\n",
    "\n",
    "        return (len(set(pattern)) ==\n",
    "                len(set(s)) ==\n",
    "                len(set(zip_longest(pattern,s))))"
   ]
  },
  {
   "cell_type": "markdown",
   "id": "1ea2b3b1",
   "metadata": {},
   "source": [
    "##  242. Valid Anagram(easy)"
   ]
  },
  {
   "cell_type": "code",
   "execution_count": 6,
   "id": "e8eeb21b",
   "metadata": {},
   "outputs": [
    {
     "data": {
      "text/plain": [
       "True"
      ]
     },
     "execution_count": 6,
     "metadata": {},
     "output_type": "execute_result"
    }
   ],
   "source": [
    "def isAnagram( s: str, t: str) -> bool: # my solution\n",
    "        return sorted(s) ==sorted(t)\n",
    "\n",
    "def isAnagram( s: str, t: str) -> bool: #best solution, counter is much faster than sorted\n",
    "        return Counter(s) == Counter(t) "
   ]
  },
  {
   "cell_type": "markdown",
   "id": "0ff42f6a",
   "metadata": {},
   "source": [
    "## 1. Two Sum(easy) "
   ]
  },
  {
   "cell_type": "code",
   "execution_count": 1,
   "id": "a9f21845",
   "metadata": {},
   "outputs": [
    {
     "ename": "NameError",
     "evalue": "name 'List' is not defined",
     "output_type": "error",
     "traceback": [
      "\u001b[0;31m---------------------------------------------------------------------------\u001b[0m",
      "\u001b[0;31mNameError\u001b[0m                                 Traceback (most recent call last)",
      "Cell \u001b[0;32mIn [1], line 1\u001b[0m\n\u001b[0;32m----> 1\u001b[0m \u001b[38;5;28;01mdef\u001b[39;00m \u001b[38;5;21mtwoSum\u001b[39m( nums: \u001b[43mList\u001b[49m[\u001b[38;5;28mint\u001b[39m], target: \u001b[38;5;28mint\u001b[39m) \u001b[38;5;241m-\u001b[39m\u001b[38;5;241m>\u001b[39m List[\u001b[38;5;28mint\u001b[39m]: \u001b[38;5;66;03m#my solution\u001b[39;00m\n\u001b[1;32m      2\u001b[0m     \u001b[38;5;28;01mfor\u001b[39;00m i \u001b[38;5;129;01min\u001b[39;00m \u001b[38;5;28mrange\u001b[39m(\u001b[38;5;28mlen\u001b[39m(nums)):\n\u001b[1;32m      3\u001b[0m         \u001b[38;5;28;01mif\u001b[39;00m target \u001b[38;5;241m-\u001b[39m nums[i] \u001b[38;5;129;01min\u001b[39;00m nums[i\u001b[38;5;241m+\u001b[39m\u001b[38;5;241m1\u001b[39m:]:\n",
      "\u001b[0;31mNameError\u001b[0m: name 'List' is not defined"
     ]
    }
   ],
   "source": [
    "def twoSum( nums: List[int], target: int) -> List[int]: #my solution\n",
    "    for i in range(len(nums)):\n",
    "        if target - nums[i] in nums[i+1:]:\n",
    "            return [i, nums[i+1:].index(target-nums[i])+i+1]\n",
    "\n",
    "        \n",
    "def twoSum(nums: List[int], target: int) -> List[int]: #same logic but better\n",
    "    numMap = {}\n",
    "    n = len(nums)\n",
    "\n",
    "    # Build the hash table\n",
    "    for i in range(n):\n",
    "        numMap[nums[i]] = i\n",
    "\n",
    "    # Find the complement\n",
    "    for i in range(n):\n",
    "        complement = target - nums[i]\n",
    "        if complement in numMap and numMap[complement] != i:\n",
    "            return [i, numMap[complement]]\n",
    "\n",
    "    return []  # No solution found\n"
   ]
  },
  {
   "cell_type": "markdown",
   "id": "a4d8d5a8",
   "metadata": {},
   "source": [
    "##  202. Happy Number(easy)"
   ]
  },
  {
   "cell_type": "code",
   "execution_count": 2,
   "id": "fc7ce881",
   "metadata": {},
   "outputs": [],
   "source": [
    "def isHappy( n: int) -> bool: #my solution\n",
    "    values =[]\n",
    "    def sumofsquare(m:int):\n",
    "        m= str(m)\n",
    "        count=0\n",
    "        for i in m:\n",
    "            count+= int(i)**2\n",
    "        return count\n",
    "\n",
    "    while True:\n",
    "        n= sumofsquare(n)\n",
    "        if n==1:\n",
    "            return True\n",
    "        if n in values:\n",
    "            return False\n",
    "        values.append(n)\n",
    "\n",
    "def isHappy(self, n: int) -> bool: #almost same logic but much faster\n",
    "        \n",
    "    seen_numbers=set()\n",
    "    while n not in seen_numbers:\n",
    "        print(n)\n",
    "        seen_numbers.add(n)\n",
    "        string=str(n)\n",
    "        squares_sum=0\n",
    "        for i in string:\n",
    "            squares_sum+=pow(int(i),2)\n",
    "        if squares_sum==1:\n",
    "            return True\n",
    "        n=squares_sum\n",
    "    return False\n",
    "\n",
    "\n",
    "        "
   ]
  },
  {
   "cell_type": "markdown",
   "id": "3fc7ad51",
   "metadata": {},
   "source": [
    "##  219. Contains Duplicate II(easy)"
   ]
  },
  {
   "cell_type": "code",
   "execution_count": 3,
   "id": "23af4d08",
   "metadata": {},
   "outputs": [
    {
     "ename": "NameError",
     "evalue": "name 'List' is not defined",
     "output_type": "error",
     "traceback": [
      "\u001b[0;31m---------------------------------------------------------------------------\u001b[0m",
      "\u001b[0;31mNameError\u001b[0m                                 Traceback (most recent call last)",
      "Cell \u001b[0;32mIn [3], line 1\u001b[0m\n\u001b[0;32m----> 1\u001b[0m \u001b[38;5;28;01mdef\u001b[39;00m \u001b[38;5;21mcontainsNearbyDuplicate\u001b[39m( nums: \u001b[43mList\u001b[49m[\u001b[38;5;28mint\u001b[39m], k: \u001b[38;5;28mint\u001b[39m) \u001b[38;5;241m-\u001b[39m\u001b[38;5;241m>\u001b[39m \u001b[38;5;28mbool\u001b[39m: \u001b[38;5;66;03m#my solution has redundant data allocation\u001b[39;00m\n\u001b[1;32m      2\u001b[0m         _dict\u001b[38;5;241m=\u001b[39m{}\n\u001b[1;32m      3\u001b[0m         \u001b[38;5;28;01mfor\u001b[39;00m i \u001b[38;5;129;01min\u001b[39;00m \u001b[38;5;28mrange\u001b[39m(\u001b[38;5;28mlen\u001b[39m(nums)):\n",
      "\u001b[0;31mNameError\u001b[0m: name 'List' is not defined"
     ]
    }
   ],
   "source": [
    "def containsNearbyDuplicate( nums: List[int], k: int) -> bool: #my solution has redundant data allocation\n",
    "        _dict={}\n",
    "        for i in range(len(nums)):\n",
    "            if nums[i] in _dict:\n",
    "                if i-_dict[nums[i]][-1]<=k:\n",
    "                    return True\n",
    "                else:\n",
    "                    _dict[nums[i]].append(i)\n",
    "                \n",
    "            else:\n",
    "                _dict[nums[i]] = [i]\n",
    "        return False\n",
    "\n",
    "def containsNearbyDuplicate( nums: List[int], k: int) -> bool: #this solution is efficient in both space and time\n",
    "        _dict={}\n",
    "        for i in range(len(nums)):\n",
    "            if (nums[i] in _dict) and i-_dict[nums[i]]<=k:\n",
    "                    return True \n",
    "            _dict[nums[i]] = i\n",
    "        return False\n",
    "\n",
    "    \n",
    "\n",
    "\n",
    "\n",
    "\n",
    "\n",
    "\n",
    "\n",
    "    "
   ]
  },
  {
   "cell_type": "markdown",
   "id": "4fd384a5",
   "metadata": {},
   "source": [
    "## 20. Valid Parentheses(easy)"
   ]
  },
  {
   "cell_type": "code",
   "execution_count": 6,
   "id": "48e4de4c",
   "metadata": {},
   "outputs": [],
   "source": [
    "def isValid( s: str) -> bool: #my solution\n",
    "        _dict ={\"(\":\")\",  \"[\":\"]\", \"{\":\"}\"}\n",
    "        ans=[]\n",
    "        for i in s:\n",
    "            if i in _dict.values():\n",
    "                if not ans:\n",
    "                    return False\n",
    "                if _dict[ans[-1]] != i:\n",
    "                    return False\n",
    "                else:\n",
    "                    ans.pop()\n",
    "            else:\n",
    "                ans.append(i)\n",
    "        return ans ==[]\n",
    "\n",
    "def isValid( s): #better solution but same logic\n",
    "       \n",
    "        opcl = dict(('()', '[]', '{}'))\n",
    "        # Create stack data structure...\n",
    "        stack = []\n",
    "        # Traverse each charater in input string...\n",
    "        for idx in s:\n",
    "            # If open parentheses are present, append it to stack...\n",
    "            if idx in '([{':\n",
    "                stack.append(idx)\n",
    "            # If the character is closing parentheses, check that the same type opening parentheses is being pushed to the stack or not...\n",
    "            # If not, we need to return false...\n",
    "            elif len(stack) == 0 or idx != opcl[stack.pop()]:\n",
    "                return False\n",
    "        # At last, we check if the stack is empty or not...\n",
    "        # If the stack is empty it means every opened parenthesis is being closed and we can return true, otherwise we return false...\n",
    "        return len(stack) == 0"
   ]
  },
  {
   "cell_type": "markdown",
   "id": "b63fd287",
   "metadata": {},
   "source": [
    "##  141. Linked List Cycle(easy)"
   ]
  },
  {
   "cell_type": "code",
   "execution_count": 7,
   "id": "23c75727",
   "metadata": {},
   "outputs": [
    {
     "ename": "NameError",
     "evalue": "name 'Optional' is not defined",
     "output_type": "error",
     "traceback": [
      "\u001b[0;31m---------------------------------------------------------------------------\u001b[0m",
      "\u001b[0;31mNameError\u001b[0m                                 Traceback (most recent call last)",
      "Cell \u001b[0;32mIn [7], line 1\u001b[0m\n\u001b[0;32m----> 1\u001b[0m \u001b[38;5;28;01mdef\u001b[39;00m \u001b[38;5;21mhasCycle\u001b[39m(head: \u001b[43mOptional\u001b[49m[ListNode]) \u001b[38;5;241m-\u001b[39m\u001b[38;5;241m>\u001b[39m \u001b[38;5;28mbool\u001b[39m: \u001b[38;5;66;03m#dumb and very slow\u001b[39;00m\n\u001b[1;32m      2\u001b[0m         x \u001b[38;5;241m=\u001b[39m[]\n\u001b[1;32m      3\u001b[0m         \u001b[38;5;28;01mwhile\u001b[39;00m \u001b[38;5;28;01mTrue\u001b[39;00m:\n",
      "\u001b[0;31mNameError\u001b[0m: name 'Optional' is not defined"
     ]
    }
   ],
   "source": [
    "def hasCycle(head: Optional[ListNode]) -> bool: #dumb and very slow\n",
    "        x =[]\n",
    "        while True:\n",
    "            if head and head.next:\n",
    "                if head in x:\n",
    "                    return True\n",
    "                x.append(head)\n",
    "                head = head.next\n",
    "\n",
    "            else:\n",
    "                return False\n",
    "def hasCycle(head: Optional[ListNode]) -> bool: #smart and very fast\n",
    "        fast=head\n",
    "        slow=head\n",
    "        while(fast!=None and fast.next!=None):\n",
    "            fast=fast.next.next\n",
    "            slow=slow.next\n",
    "            if(fast==slow):\n",
    "                return True\n",
    "        return False\n"
   ]
  },
  {
   "cell_type": "markdown",
   "id": "d945dc50",
   "metadata": {},
   "source": [
    "##  21. Merge Two Sorted Lists(easy)"
   ]
  },
  {
   "cell_type": "code",
   "execution_count": null,
   "id": "bc43db64",
   "metadata": {},
   "outputs": [],
   "source": [
    "# Definition for singly-linked list.\n",
    "# class ListNode:\n",
    "#     def __init__(self, val=0, next=None):\n",
    "#         self.val = val\n",
    "#         self.next = next\n",
    "class Solution: #my solution\n",
    "    def mergeTwoLists(self, list1: Optional[ListNode], list2: Optional[ListNode]) -> Optional[ListNode]:\n",
    "        _ans =ListNode()\n",
    "        ans= _ans #to store the head position\n",
    "        while list1 and list2: \n",
    "            if list1.val <=list2.val:\n",
    "                ans.next = list1\n",
    "                list1=list1.next\n",
    "            else:\n",
    "                ans.next=list2\n",
    "                list2=list2.next\n",
    "            ans=ans.next\n",
    "\n",
    "        if list1:\n",
    "            ans.next = list1\n",
    "        if list2:\n",
    "            ans.next= list2\n",
    "        return _ans.next\n",
    "            "
   ]
  },
  {
   "cell_type": "markdown",
   "id": "b49bf431",
   "metadata": {},
   "source": [
    "## 104. Maximum Depth of Binary Tree(easy)"
   ]
  },
  {
   "cell_type": "code",
   "execution_count": null,
   "id": "57f59d99",
   "metadata": {},
   "outputs": [],
   "source": [
    "# Definition for a binary tree node.\n",
    "# class TreeNode:\n",
    "#     def __init__(self, val=0, left=None, right=None):\n",
    "#         self.val = val\n",
    "#         self.left = left\n",
    "#         self.right = right\n",
    "class Solution: #used recursive function to calculate the depth\n",
    "    def maxDepth(self, root: Optional[TreeNode]) -> int:\n",
    "\n",
    "        def depth(root,count=0):\n",
    "            if root :\n",
    "                count +=1\n",
    "                count_l = depth(root.left,count )\n",
    "                count_r = depth(root.right,count)\n",
    "                if count_l<=count_r:\n",
    "                    return count_r\n",
    "                return count_l\n",
    "            return count\n",
    "        \n",
    "        return depth(root=root)\n",
    "\n",
    "class Solution: #very optimised solution\n",
    "    def maxDepth(self, root):\n",
    "        if not root:\n",
    "            return 0\n",
    "        else:\n",
    "            left_depth = self.maxDepth(root.left)\n",
    "            right_depth = self.maxDepth(root.right)\n",
    "            return max(left_depth, right_depth) + 1\n"
   ]
  },
  {
   "cell_type": "markdown",
   "id": "7bb14441",
   "metadata": {},
   "source": [
    "##  100. Same Tree(easy)"
   ]
  },
  {
   "cell_type": "code",
   "execution_count": null,
   "id": "41c7f1d1",
   "metadata": {},
   "outputs": [],
   "source": [
    "while p and q:\n",
    "    if p.val != q.val:\n",
    "        return False\n",
    "    self.isSameTree(p.left, q.left)\n",
    "    self.isSameTree(p.right, q.right)\n",
    "return True\n"
   ]
  },
  {
   "cell_type": "markdown",
   "id": "3a4c43d6",
   "metadata": {},
   "source": [
    "## 228. Summary Ranges"
   ]
  },
  {
   "cell_type": "code",
   "execution_count": null,
   "id": "bb7f0251",
   "metadata": {},
   "outputs": [],
   "source": [
    "class Solution:\n",
    "    def summaryRanges(self, nums: List[int]) -> List[str]:\n",
    "        if len(nums)==1:\n",
    "            return [f\"{nums[0]}\"]\n",
    "        if len(nums)==0:\n",
    "            return []\n",
    "        ans =[]\n",
    "        fn=nums[0]   \n",
    "        for i in range(1, len(nums)+1):\n",
    "\n",
    "            if i <=len(nums)-1:\n",
    "                if nums[i] != nums[i-1]+1:\n",
    "                    if fn == nums[i-1]:\n",
    "                        ans.append(f\"{fn}\")\n",
    "                    else:\n",
    "                        ans.append(f\"{fn}->{nums[i-1]}\")\n",
    "                    fn=nums[i]\n",
    "            else:\n",
    "                if nums[i-2] != nums[i-1]-1:\n",
    "                    ans.append(f\"{nums[i-1]}\")\n",
    "                else:\n",
    "                    ans.append(f\"{fn}->{nums[i-1]}\")\n",
    "            i+=1\n",
    "        \n",
    "        return ans\n",
    "\n",
    "class Solution: ##easy and optimised solution\n",
    "    def summaryRanges(self, nums: List[int]) -> List[str]:\n",
    "        if nums == []:\n",
    "            return []\n",
    "\n",
    "        res = [[nums[0], nums[0]]]\n",
    "        for i in range(1, len(nums)):\n",
    "            if nums[i] == res[-1][-1] + 1:\n",
    "                res[-1][-1] = nums[i]\n",
    "            else:\n",
    "                res.append([nums[i], nums[i]])\n",
    "\n",
    "        res_str = []\n",
    "        for interval in res:\n",
    "            if interval[0] == interval[1]:\n",
    "                res_str.append(str(interval[0]))\n",
    "            else:\n",
    "                res_str.append(str(interval[0]) + '->' + str(interval[1]))\n",
    "        \n",
    "        return res_str"
   ]
  },
  {
   "cell_type": "markdown",
   "id": "feb06b4d",
   "metadata": {},
   "source": [
    "## 637. Average of Levels in Binary Tree"
   ]
  },
  {
   "cell_type": "code",
   "execution_count": null,
   "id": "23a165d7",
   "metadata": {},
   "outputs": [],
   "source": [
    "class Solution:\n",
    "    def averageOfLevels(self, root: Optional[TreeNode]) -> List[float]:\n",
    "        values ={}\n",
    "        i=0\n",
    "        def return_dict(root, pos, values:dict):\n",
    "            if str(root.val):\n",
    "                if pos in values.keys():\n",
    "                    values[pos].append(root.val)\n",
    "                else:\n",
    "                    values[pos]= [root.val]\n",
    "            if (root.left) :\n",
    "                return_dict(root.left, pos+1, values)\n",
    "            if (root.right):\n",
    "                return_dict(root.right, pos+1, values)\n",
    "\n",
    "            return values\n",
    "        values = return_dict(root, i, values)\n",
    "        return [mean(l) for l in values.values()]\n",
    "    \n",
    "class Solution: ##easy and better solution\n",
    "    def averageOfLevels(self, root: Optional[TreeNode]) -> List[float]:\n",
    "        level_sum, level_count = [], []\n",
    "        def dfs(root, height):\n",
    "            if not root:\n",
    "                return\n",
    "            if height > len(level_sum):\n",
    "                level_sum.append(root.val)\n",
    "                level_count.append(1)\n",
    "            else:\n",
    "                level_sum[height-1] += root.val\n",
    "                level_count[height-1] += 1\n",
    "            dfs(root.left, height+1)\n",
    "            dfs(root.right, height+1)\n",
    "\n",
    "        result = dfs(root, 1)\n",
    "        return [level_sum[i]/level_count[i] for i in range(len(level_sum))]"
   ]
  },
  {
   "cell_type": "markdown",
   "id": "a90bd69e",
   "metadata": {},
   "source": [
    "## 35. Search Insert Position"
   ]
  },
  {
   "cell_type": "code",
   "execution_count": null,
   "id": "240e2b44",
   "metadata": {},
   "outputs": [],
   "source": [
    "class Solution:\n",
    "    def searchInsert(self, nums: List[int], target: int) -> int:\n",
    "        left = 0\n",
    "        right = len(nums)\n",
    "\n",
    "        if nums[left] >= target:\n",
    "            return 0\n",
    "        if nums[right-1] < target:\n",
    "            return right\n",
    "\n",
    "        while True:\n",
    "            if  right-left !=1:\n",
    "                if (left+right)%2==0  :\n",
    "                    n = (left+right)//2\n",
    "                else:\n",
    "                    n=(left+right-1)//2 \n",
    "            else:\n",
    "                return left+1\n",
    "            print(n)\n",
    "\n",
    "\n",
    "            if nums[n] > target:\n",
    "                right= n\n",
    "            elif nums[n] < target:\n",
    "                left = n\n",
    "            else:\n",
    "                return n\n",
    "            \n",
    "class Solution: ##easy and clean solution\n",
    "    def searchInsert(self, nums: List[int], target: int) -> int:\n",
    "        left, right = 0, len(nums) - 1\n",
    "        \n",
    "        while left <= right:\n",
    "            mid = left + (right - left) // 2\n",
    "            \n",
    "            if nums[mid] == target:\n",
    "                return mid\n",
    "            elif nums[mid] < target:\n",
    "                left = mid + 1\n",
    "            else:\n",
    "                right = mid - 1\n",
    "        \n",
    "        return left"
   ]
  },
  {
   "cell_type": "markdown",
   "id": "80352581",
   "metadata": {},
   "source": [
    "## 67. Add Binary"
   ]
  },
  {
   "cell_type": "code",
   "execution_count": null,
   "id": "3c816366",
   "metadata": {},
   "outputs": [],
   "source": [
    "class Solution:\n",
    "    def addBinary(self, a: str, b: str) -> str:\n",
    "        ans=''\n",
    "        n =0\n",
    "        i, j = len(a)-1, len(b)-1\n",
    "        \n",
    "        while i >=0 or j >=0:\n",
    "             \n",
    "            if i >=0 and j>=0:\n",
    "                sum = int(a[i])+int(b[j])\n",
    "            if i>=0 and  j<0:\n",
    "                sum =int(a[i])\n",
    "            if i<0 and j>=0:\n",
    "                sum=int(b[j])\n",
    "\n",
    "            temp=sum+n \n",
    "            n= (temp)//2\n",
    "            ans = str(temp%2)+ans\n",
    "            # if sum+n ==0:\n",
    "            #     ans ='0'+ans\n",
    "            # elif sum+n ==1:\n",
    "            #     ans ='1'+ans\n",
    "            #     n=0\n",
    "            # elif sum+n ==2:\n",
    "            #     ans ='0'+ans\n",
    "            #     n=1\n",
    "            # elif sum+n ==3:\n",
    "            #     ans ='1'+ans\n",
    "            #     n=1\n",
    "            # print(ans)\n",
    "            i-=1\n",
    "            j-=1\n",
    "        if n==1:\n",
    "            return str(n)+ans\n",
    "        return ans\n",
    "    \n",
    "class Solution: ##clean and clear solution but almost same logic\n",
    "      def addBinary(self, a: str, b: str) -> str:\n",
    "        s = []\n",
    "        carry = 0\n",
    "        i = len(a) - 1\n",
    "        j = len(b) - 1\n",
    "\n",
    "        while i >= 0 or j >= 0 or carry:\n",
    "          if i >= 0:\n",
    "            carry += int(a[i])\n",
    "            i -= 1\n",
    "          if j >= 0:\n",
    "            carry += int(b[j])\n",
    "            j -= 1\n",
    "          s.append(str(carry % 2))\n",
    "          carry //= 2\n",
    "\n",
    "        return ''.join(reversed(s))"
   ]
  },
  {
   "cell_type": "markdown",
   "id": "64f66088",
   "metadata": {},
   "source": [
    "## 190. Reverse Bits"
   ]
  },
  {
   "cell_type": "code",
   "execution_count": null,
   "id": "973661c8",
   "metadata": {},
   "outputs": [],
   "source": [
    "def reverseBits( n: int) -> int:\n",
    "        sum=0\n",
    "        count =0\n",
    "        while n != 0:\n",
    "            r = n%2 \n",
    "            n=n//2\n",
    "            sum = sum*2+r\n",
    "            count+=1\n",
    "        \n",
    "        return sum*(2**(32-count))\n",
    "\n",
    "def reverseBits( n: int) -> int: #best solution\n",
    "        ans = 0\n",
    "\n",
    "        for i in range(32):\n",
    "            ans |= (n & 1) << (31 - i)\n",
    "            n >>= 1\n",
    "\n",
    "        return ans"
   ]
  },
  {
   "cell_type": "markdown",
   "id": "ae70c00e",
   "metadata": {},
   "source": [
    "## 191. Number of 1 Bits"
   ]
  },
  {
   "cell_type": "code",
   "execution_count": 1,
   "id": "43de76f3",
   "metadata": {},
   "outputs": [],
   "source": [
    "class Solution:\n",
    "    def hammingWeight(self, n: int) -> int:\n",
    "        count=0\n",
    "        while n!=0:\n",
    "            r = n%2\n",
    "            if r==1:\n",
    "                count+=1\n",
    "            n=n//2\n",
    "        return count\n",
    "\n",
    "#best solutions\n",
    "class Solution:\n",
    "    def hammingWeight(self, n: int) -> int:\n",
    "        count = 0\n",
    "        while n != 0:\n",
    "            n &= (n - 1)\n",
    "            count += 1\n",
    "        return count\n",
    "\n",
    "class Solution:\n",
    "    def hammingWeight(self, n: int) -> int:\n",
    "        count = 0\n",
    "        while n != 0:\n",
    "            count += n & 1\n",
    "            n >>= 1\n",
    "        return count\n"
   ]
  },
  {
   "cell_type": "markdown",
   "id": "4dfb4934",
   "metadata": {},
   "source": [
    "## 136. Single Number"
   ]
  },
  {
   "cell_type": "code",
   "execution_count": 5,
   "id": "f290ddc2",
   "metadata": {},
   "outputs": [
    {
     "ename": "NameError",
     "evalue": "name 'List' is not defined",
     "output_type": "error",
     "traceback": [
      "\u001b[0;31m---------------------------------------------------------------------------\u001b[0m",
      "\u001b[0;31mNameError\u001b[0m                                 Traceback (most recent call last)",
      "Cell \u001b[0;32mIn [5], line 1\u001b[0m\n\u001b[0;32m----> 1\u001b[0m \u001b[38;5;28;01mclass\u001b[39;00m \u001b[38;5;21;01mSolution\u001b[39;00m:\n\u001b[1;32m      2\u001b[0m     \u001b[38;5;28;01mdef\u001b[39;00m \u001b[38;5;21msingleNumber\u001b[39m(\u001b[38;5;28mself\u001b[39m, nums: List[\u001b[38;5;28mint\u001b[39m]) \u001b[38;5;241m-\u001b[39m\u001b[38;5;241m>\u001b[39m \u001b[38;5;28mint\u001b[39m:\n\u001b[1;32m      5\u001b[0m         \u001b[38;5;28;01mreturn\u001b[39;00m \u001b[38;5;241m2\u001b[39m\u001b[38;5;241m*\u001b[39m\u001b[38;5;28msum\u001b[39m(\u001b[38;5;28mlist\u001b[39m(\u001b[38;5;28mset\u001b[39m(nums)))\u001b[38;5;241m-\u001b[39m\u001b[38;5;28msum\u001b[39m(nums)\n",
      "Cell \u001b[0;32mIn [5], line 2\u001b[0m, in \u001b[0;36mSolution\u001b[0;34m()\u001b[0m\n\u001b[1;32m      1\u001b[0m \u001b[38;5;28;01mclass\u001b[39;00m \u001b[38;5;21;01mSolution\u001b[39;00m:\n\u001b[0;32m----> 2\u001b[0m     \u001b[38;5;28;01mdef\u001b[39;00m \u001b[38;5;21msingleNumber\u001b[39m(\u001b[38;5;28mself\u001b[39m, nums: \u001b[43mList\u001b[49m[\u001b[38;5;28mint\u001b[39m]) \u001b[38;5;241m-\u001b[39m\u001b[38;5;241m>\u001b[39m \u001b[38;5;28mint\u001b[39m:\n\u001b[1;32m      5\u001b[0m         \u001b[38;5;28;01mreturn\u001b[39;00m \u001b[38;5;241m2\u001b[39m\u001b[38;5;241m*\u001b[39m\u001b[38;5;28msum\u001b[39m(\u001b[38;5;28mlist\u001b[39m(\u001b[38;5;28mset\u001b[39m(nums)))\u001b[38;5;241m-\u001b[39m\u001b[38;5;28msum\u001b[39m(nums)\n",
      "\u001b[0;31mNameError\u001b[0m: name 'List' is not defined"
     ]
    }
   ],
   "source": [
    "class Solution:\n",
    "    def singleNumber(self, nums: List[int]) -> int:\n",
    "        \n",
    "        \n",
    "        return 2*sum(list(set(nums)))-sum(nums)\n",
    "\n",
    "#best solution\n",
    "class Solution(object):\n",
    "    def singleNumber(self, nums):\n",
    "        result = 0\n",
    "        for num in nums:\n",
    "            result ^= num\n",
    "        return result\n",
    "\n",
    "    \n"
   ]
  },
  {
   "cell_type": "markdown",
   "id": "c0f0cd64",
   "metadata": {},
   "source": [
    "## 9. Palindrome Number"
   ]
  },
  {
   "cell_type": "code",
   "execution_count": null,
   "id": "b5fd4fd6",
   "metadata": {},
   "outputs": [],
   "source": [
    "class Solution:\n",
    "    def isPalindrome(self, x: int) -> bool:\n",
    "        return str(x) == str(x)[::-1] and x >=0\n",
    "    \n",
    "# better solution\n",
    "class Solution:\n",
    "    def isPalindrome(self, x: int) -> bool:\n",
    "        temp=0\n",
    "        c=0\n",
    "        new=x\n",
    "        for i in range(0,len(str(x))):\n",
    "            c=x%10\n",
    "            x//=10\n",
    "            temp=temp*10+c\n",
    "        if temp==new:\n",
    "            return True\n",
    "        else:\n",
    "            return False\n"
   ]
  },
  {
   "cell_type": "markdown",
   "id": "aa9a8e0f",
   "metadata": {},
   "source": [
    "## 66. Plus One"
   ]
  },
  {
   "cell_type": "code",
   "execution_count": null,
   "id": "a190b67c",
   "metadata": {},
   "outputs": [],
   "source": [
    "class Solution:\n",
    "    def plusOne(self, digits: List[int]) -> List[int]:\n",
    "#         not a great solution\n",
    "        # i=len(digits)-1\n",
    "        # while i >=0:\n",
    "        #     digits[i]+=1\n",
    "        #     if digits[i] ==10:\n",
    "        #         digits[i]=0\n",
    "        #         i-=1\n",
    "        #     else:\n",
    "        #         return digits\n",
    "        # digits.insert(0,1)\n",
    "        # return digits\n",
    "        \n",
    "        \n",
    "        sum =0\n",
    "        ans =[]\n",
    "        for i in digits:\n",
    "            sum =sum*10+i\n",
    "        sum+=1\n",
    "        while sum >0:\n",
    "            r = sum%10\n",
    "            sum= sum//10\n",
    "            ans.insert(0,r)\n",
    "        return ans\n",
    "    \n",
    "# better solution\n",
    "class Solution:\n",
    "    def plusOne(self, digits: List[int]) -> List[int]:\n",
    "        for i in reversed(range(len(digits))):\n",
    "            if digits[i] == 9:\n",
    "                digits[i] = 0\n",
    "            else:\n",
    "                digits[i] += 1\n",
    "                return digits\n",
    "        return [1] + digits\n"
   ]
  },
  {
   "cell_type": "markdown",
   "id": "e7c72cba",
   "metadata": {},
   "source": [
    "## 69. Sqrt(x)"
   ]
  },
  {
   "cell_type": "code",
   "execution_count": 1,
   "id": "c1faefa4",
   "metadata": {},
   "outputs": [],
   "source": [
    "\n",
    "# worst solution ever\n",
    "class Solution:\n",
    "    def mySqrt(self, x: int) -> int:\n",
    "        \n",
    "\n",
    "        for i in range(x//2+2):\n",
    "            if (i+1)*(i+1) > x and i*i <=x:\n",
    "                return i\n",
    "            i+=1\n",
    "\n",
    "# best solution\n",
    "class Solution:\n",
    "    def mySqrt(self, x: int) -> int:\n",
    "        if x < 4: return 1 if x else 0\n",
    "        s, e, m = 1, x, -1\n",
    "        while(s <= e):\n",
    "            m = (s + e)//2\n",
    "            if m*m == x:\n",
    "                return m\n",
    "            elif m*m > x:\n",
    "                e = m - 1\n",
    "            else:\n",
    "                s = m + 1\n",
    "        return m - 1 if m * m > x else m\n",
    "        "
   ]
  },
  {
   "cell_type": "markdown",
   "id": "f885a2ba",
   "metadata": {},
   "source": [
    "## 70. Climbing Stairs"
   ]
  },
  {
   "cell_type": "code",
   "execution_count": null,
   "id": "dce731ca",
   "metadata": {},
   "outputs": [],
   "source": [
    "class Solution:\n",
    "    def climbStairs(self, n: int) -> int:\n",
    "        count=[1,2]\n",
    "        while len(count) < n:\n",
    "            count.append(count[len(count)-1]+count[len(count)-2])\n",
    "        return count[n-1] \n",
    "\n",
    "    \n",
    "# better solution(Applied recursion)\n",
    "class Solution:\n",
    "    def climbStairs(self, n: int) -> int:\n",
    "        if n == 0 or n == 1:\n",
    "            return 1\n",
    "        return self.climbStairs(n-1) + self.climbStairs(n-2)"
   ]
  },
  {
   "cell_type": "markdown",
   "id": "5d0367b8",
   "metadata": {},
   "source": [
    "##  88.Merge Sorted Array"
   ]
  },
  {
   "cell_type": "code",
   "execution_count": null,
   "id": "5886f86e",
   "metadata": {},
   "outputs": [],
   "source": [
    "class Solution:\n",
    "    def merge(self, nums1: List[int], m: int, nums2: List[int], n: int) -> None:\n",
    "        \"\"\"\n",
    "        Do not return anything, modify nums1 in-place instead.\n",
    "        \"\"\"\n",
    "       \n",
    "        i=0\n",
    "        j=0\n",
    "        if m==0:\n",
    "            nums1 [:] = nums2\n",
    "            return nums1\n",
    "        if n==0:\n",
    "            return nums1\n",
    "        \n",
    "        while j<n and i<m:\n",
    "            if nums2[j] <= nums1[i]:\n",
    "                nums1.insert(i, nums2[j])\n",
    "                nums1.pop()\n",
    "                m+=1\n",
    "                j+=1\n",
    "            i+=1\n",
    "        \n",
    "        if i>=m:\n",
    "            nums1[m:] =nums2[j:]\n",
    "        return nums1\n",
    "\n",
    "\n",
    "#best solution\n",
    "class Solution(object):\n",
    "    def merge(self, nums1, m, nums2, n):\n",
    "        \"\"\"\n",
    "        :type nums1: List[int]\n",
    "        :type m: int\n",
    "        :type nums2: List[int]\n",
    "        :type n: int\n",
    "        :rtype: None Do not return anything, modify nums1 in-place instead.\n",
    "        \"\"\"\n",
    "        if n == 0 :return\n",
    "        len1 = len(nums1)\n",
    "        end_idx = len1-1\n",
    "        while n > 0 and m > 0 :\n",
    "            if nums2[n-1] >= nums1[m-1]:\n",
    "                nums1[end_idx] = nums2[n-1]\n",
    "                n-=1\n",
    "            else:\n",
    "                nums1[end_idx] = nums1[m-1]\n",
    "                m-=1\n",
    "            end_idx-=1\n",
    "        while n > 0:\n",
    "            nums1[end_idx] = nums2[n-1]\n",
    "            n-=1\n",
    "            end_idx-=1"
   ]
  },
  {
   "cell_type": "markdown",
   "id": "4ebf3af2",
   "metadata": {},
   "source": [
    "## 121. Best Time to Buy and Sell Stock"
   ]
  },
  {
   "cell_type": "code",
   "execution_count": null,
   "id": "67e08349",
   "metadata": {},
   "outputs": [],
   "source": [
    "class Solution: #works but extremely slow\n",
    "    def maxProfit(self, prices: List[int]) -> int:\n",
    "        max=0\n",
    "        j=1\n",
    "        while j <=len(prices)-1:\n",
    "            diff =[ prices[i+j]- prices[i] for i in range(len(prices)-j)]\n",
    "            for i in diff:\n",
    "                if i>=max:\n",
    "                    max=i\n",
    "            j+=1\n",
    "        return max\n",
    "    \n",
    "class Solution:\n",
    "    def maxProfit(self, prices:List[int]) ->int:\n",
    "        profit =0\n",
    "        buy = prices[0]\n",
    "        for i in prices:\n",
    "            if i < buy:\n",
    "                buy =i\n",
    "            elif profit < i- buy:\n",
    "                profit = i-buy\n",
    "        return profit"
   ]
  },
  {
   "cell_type": "markdown",
   "id": "3f401e8d",
   "metadata": {},
   "source": [
    "## 14. Longest Common Prefix"
   ]
  },
  {
   "cell_type": "code",
   "execution_count": 1,
   "id": "f4c5ca14",
   "metadata": {},
   "outputs": [
    {
     "ename": "NameError",
     "evalue": "name 'List' is not defined",
     "output_type": "error",
     "traceback": [
      "\u001b[0;31m---------------------------------------------------------------------------\u001b[0m",
      "\u001b[0;31mNameError\u001b[0m                                 Traceback (most recent call last)",
      "Cell \u001b[0;32mIn [1], line 1\u001b[0m\n\u001b[0;32m----> 1\u001b[0m \u001b[38;5;28;01mclass\u001b[39;00m \u001b[38;5;21;01mSolution\u001b[39;00m:\n\u001b[1;32m      2\u001b[0m     \u001b[38;5;28;01mdef\u001b[39;00m \u001b[38;5;21mlongestCommonPrefix\u001b[39m(\u001b[38;5;28mself\u001b[39m, strs: List[\u001b[38;5;28mstr\u001b[39m]) \u001b[38;5;241m-\u001b[39m\u001b[38;5;241m>\u001b[39m \u001b[38;5;28mstr\u001b[39m:\n\u001b[1;32m      3\u001b[0m         size \u001b[38;5;241m=\u001b[39m \u001b[38;5;28mlen\u001b[39m(strs)\n",
      "Cell \u001b[0;32mIn [1], line 2\u001b[0m, in \u001b[0;36mSolution\u001b[0;34m()\u001b[0m\n\u001b[1;32m      1\u001b[0m \u001b[38;5;28;01mclass\u001b[39;00m \u001b[38;5;21;01mSolution\u001b[39;00m:\n\u001b[0;32m----> 2\u001b[0m     \u001b[38;5;28;01mdef\u001b[39;00m \u001b[38;5;21mlongestCommonPrefix\u001b[39m(\u001b[38;5;28mself\u001b[39m, strs: \u001b[43mList\u001b[49m[\u001b[38;5;28mstr\u001b[39m]) \u001b[38;5;241m-\u001b[39m\u001b[38;5;241m>\u001b[39m \u001b[38;5;28mstr\u001b[39m:\n\u001b[1;32m      3\u001b[0m         size \u001b[38;5;241m=\u001b[39m \u001b[38;5;28mlen\u001b[39m(strs)\n\u001b[1;32m      4\u001b[0m         strs\u001b[38;5;241m.\u001b[39msort()\n",
      "\u001b[0;31mNameError\u001b[0m: name 'List' is not defined"
     ]
    }
   ],
   "source": [
    "class Solution:\n",
    "    def longestCommonPrefix(self, strs: List[str]) -> str:\n",
    "        size = len(strs)\n",
    "        strs.sort()\n",
    "\n",
    "        if len(strs)==0:\n",
    "            return ''\n",
    "        if len(strs) ==1:\n",
    "            return strs[0]\n",
    "        \n",
    "        if strs[0]:\n",
    "\n",
    "            min_len = min(len(strs[0]), len(strs[size-1]))\n",
    "            i=0\n",
    "            while i <min_len:\n",
    "                if strs[0][i] != strs[-1][i]:\n",
    "                    return strs[0][:i]\n",
    "                i+=1\n",
    "            return strs[0][:i+1]\n",
    "        else:\n",
    "            return ''\n",
    "        \n",
    "class Solution:  ##better solution\n",
    "    def longestCommonPrefix(self, v: List[str]) -> str:\n",
    "        ans=\"\"\n",
    "        v=sorted(v)\n",
    "        first=v[0]\n",
    "        last=v[-1]\n",
    "        for i in range(min(len(first),len(last))):\n",
    "            if(first[i]!=last[i]):\n",
    "                return ans\n",
    "            ans+=first[i]\n",
    "        return ans "
   ]
  },
  {
   "cell_type": "markdown",
   "id": "6efbf7ba",
   "metadata": {},
   "source": [
    "## 100. Same Tree"
   ]
  },
  {
   "cell_type": "code",
   "execution_count": null,
   "id": "26364803",
   "metadata": {},
   "outputs": [],
   "source": [
    "# Definition for a binary tree node.\n",
    "# class TreeNode:\n",
    "#     def __init__(self, val=0, left=None, right=None):\n",
    "#         self.val = val\n",
    "#         self.left = left\n",
    "#         self.right = right\n",
    "class Solution:\n",
    "    def isSameTree(self, p: Optional[TreeNode], q: Optional[TreeNode]) -> bool:\n",
    "        if not p and not q:\n",
    "            return True\n",
    "        if not p  and q:\n",
    "            return False\n",
    "        if not q and p:\n",
    "            return False\n",
    "\n",
    "        if (p and q):\n",
    "\n",
    "            if p.val == q.val and self.isSameTree(p.left, q.left) and self.isSameTree(p.right, q.right) :\n",
    "                return True\n",
    "            else:\n",
    "                return False\n",
    "            \n",
    "\n",
    "#cleaner and better solution\n",
    "class Solution:\n",
    "    def isSameTree(self, p: Optional[TreeNode], q: Optional[TreeNode]) -> bool:\n",
    "        if not p and not q:\n",
    "            return True\n",
    "        elif not p  :\n",
    "            return False\n",
    "        elif not q :\n",
    "            return False\n",
    "\n",
    "\n",
    "\n",
    "        elif p.val == q.val and self.isSameTree(p.left, q.left) and self.isSameTree(p.right, q.right) :\n",
    "            return True\n",
    "        else:\n",
    "            return False"
   ]
  },
  {
   "cell_type": "markdown",
   "id": "eb04876e",
   "metadata": {},
   "source": [
    "## 226. Invert Binary Tree"
   ]
  },
  {
   "cell_type": "code",
   "execution_count": null,
   "id": "2fa31473",
   "metadata": {},
   "outputs": [],
   "source": [
    "class Solution: \n",
    "    def invertTree(self, root: Optional[TreeNode]) -> Optional[TreeNode]:\n",
    "        if root:\n",
    "            root.left, root.right = root.right, root.left\n",
    "            self.invertTree(root.left)\n",
    "            self.invertTree(root.right)\n",
    "        return root\n",
    "    \n",
    "class Solution: #better solution\n",
    "    def invertTree(self, root: Optional[TreeNode]) -> Optional[TreeNode]:\n",
    "        if not root: #Base Case\n",
    "            return root\n",
    "        self.invertTree(root.left) #Call the left substree\n",
    "        self.invertTree(root.right)  #Call the right substree\n",
    "        # Swap the nodes\n",
    "        root.left, root.right = root.right, root.left\n",
    "        return root # Return the root\n",
    "\n"
   ]
  },
  {
   "cell_type": "markdown",
   "id": "abbabda5",
   "metadata": {},
   "source": [
    "## 112. Path Sum"
   ]
  },
  {
   "cell_type": "code",
   "execution_count": 3,
   "id": "6ce1b91a",
   "metadata": {},
   "outputs": [
    {
     "ename": "NameError",
     "evalue": "name 'Optional' is not defined",
     "output_type": "error",
     "traceback": [
      "\u001b[0;31m---------------------------------------------------------------------------\u001b[0m",
      "\u001b[0;31mNameError\u001b[0m                                 Traceback (most recent call last)",
      "Cell \u001b[0;32mIn [3], line 7\u001b[0m\n\u001b[1;32m      1\u001b[0m \u001b[38;5;66;03m# Definition for a binary tree node.\u001b[39;00m\n\u001b[1;32m      2\u001b[0m \u001b[38;5;66;03m# class TreeNode:\u001b[39;00m\n\u001b[1;32m      3\u001b[0m \u001b[38;5;66;03m#     def __init__(self, val=0, left=None, right=None):\u001b[39;00m\n\u001b[1;32m      4\u001b[0m \u001b[38;5;66;03m#         self.val = val\u001b[39;00m\n\u001b[1;32m      5\u001b[0m \u001b[38;5;66;03m#         self.left = left\u001b[39;00m\n\u001b[1;32m      6\u001b[0m \u001b[38;5;66;03m#         self.right = right\u001b[39;00m\n\u001b[0;32m----> 7\u001b[0m \u001b[38;5;28;01mclass\u001b[39;00m \u001b[38;5;21;01mSolution\u001b[39;00m:\n\u001b[1;32m      8\u001b[0m     \u001b[38;5;28;01mdef\u001b[39;00m \u001b[38;5;21mhasPathSum\u001b[39m(\u001b[38;5;28mself\u001b[39m, root: Optional[TreeNode], targetSum: \u001b[38;5;28mint\u001b[39m) \u001b[38;5;241m-\u001b[39m\u001b[38;5;241m>\u001b[39m \u001b[38;5;28mbool\u001b[39m:\n\u001b[1;32m      9\u001b[0m         count \u001b[38;5;241m=\u001b[39m\u001b[38;5;241m0\u001b[39m\n",
      "Cell \u001b[0;32mIn [3], line 8\u001b[0m, in \u001b[0;36mSolution\u001b[0;34m()\u001b[0m\n\u001b[1;32m      7\u001b[0m \u001b[38;5;28;01mclass\u001b[39;00m \u001b[38;5;21;01mSolution\u001b[39;00m:\n\u001b[0;32m----> 8\u001b[0m     \u001b[38;5;28;01mdef\u001b[39;00m \u001b[38;5;21mhasPathSum\u001b[39m(\u001b[38;5;28mself\u001b[39m, root: \u001b[43mOptional\u001b[49m[TreeNode], targetSum: \u001b[38;5;28mint\u001b[39m) \u001b[38;5;241m-\u001b[39m\u001b[38;5;241m>\u001b[39m \u001b[38;5;28mbool\u001b[39m:\n\u001b[1;32m      9\u001b[0m         count \u001b[38;5;241m=\u001b[39m\u001b[38;5;241m0\u001b[39m\n\u001b[1;32m     10\u001b[0m         \u001b[38;5;28;01mif\u001b[39;00m root:\n",
      "\u001b[0;31mNameError\u001b[0m: name 'Optional' is not defined"
     ]
    }
   ],
   "source": [
    "# Definition for a binary tree node.\n",
    "# class TreeNode:\n",
    "#     def __init__(self, val=0, left=None, right=None):\n",
    "#         self.val = val\n",
    "#         self.left = left\n",
    "#         self.right = right\n",
    "class Solution:\n",
    "    def hasPathSum(self, root: Optional[TreeNode], targetSum: int) -> bool:\n",
    "        count =0\n",
    "        if root:\n",
    "            print(targetSum, root.val)    \n",
    "            if root.val == targetSum and not root.left and not root.right:\n",
    "                return 1\n",
    "            if root.left :\n",
    "                count+=self.hasPathSum(root.left, targetSum-root.val)\n",
    "            if root.right:\n",
    "                count+=self.hasPathSum(root.right, targetSum-root.val)\n",
    "        return count\n",
    "\n",
    "    \n",
    "# best solution\n",
    "\n",
    "\n",
    "class Solution:\n",
    "    def hasPathSum(self, root: Optional[TreeNode], targetSum: int) -> bool:\n",
    "        if not root:\n",
    "            return False\n",
    "        \n",
    "        if not root.left and not root.right:\n",
    "            return targetSum == root.val\n",
    "        \n",
    "        left_sum = self.hasPathSum(root.left, targetSum - root.val)\n",
    "        right_sum = self.hasPathSum(root.right, targetSum - root.val)\n",
    "        \n",
    "        return left_sum or right_sum"
   ]
  },
  {
   "cell_type": "markdown",
   "id": "0c1c87fe-958b-4729-83c7-0d597d4e79c1",
   "metadata": {},
   "source": [
    "# Two pointers"
   ]
  },
  {
   "cell_type": "markdown",
   "id": "286d33fa-4659-413f-b1e8-9ab5ae59e8f1",
   "metadata": {},
   "source": [
    "## 2465 \n",
    "### follows 2 pointers, sort the array and start 2 pointers from beginning and end of the array.\n"
   ]
  },
  {
   "cell_type": "code",
   "execution_count": 7,
   "id": "445ebefe-6e2f-4eca-910c-83a404fe3279",
   "metadata": {},
   "outputs": [],
   "source": [
    "class Solution:\n",
    "    def merge(self, left, right):\n",
    "\n",
    "        i,j=0\n",
    "        result =0\n",
    "        while i<len(left) and j < len(right):\n",
    "            if left[i] <right[j]:\n",
    "                result.append(left[i])\n",
    "                i+=1\n",
    "            else:\n",
    "                result.append(right[i])\n",
    "                j+=1\n",
    "        result += nums2[j:]\n",
    "        result+=nums1[i:]\n",
    "\n",
    "        return result\n",
    "    \n",
    "    def merge_sort(self,nums):\n",
    "\n",
    "            if len(nums)<=1:\n",
    "                return nums\n",
    "\n",
    "            mid = len(nums)//2\n",
    "\n",
    "            merge_left = self.merge_sort(nums[:mid])\n",
    "            merge_right = self.merge_sort(nums[mid:])\n",
    "\n",
    "            return self.merge(merge_left, merge_right)\n",
    "    def distinctAverages(self, nums):\n",
    "        \"\"\"\n",
    "        :type nums: List[int]\n",
    "        :rtype: int\n",
    "        \"\"\"\n",
    "        \n",
    "        # nums = self.merge_sort(nums)\n",
    "        nums = sorted(nums)\n",
    "        i,j= 0,len(nums)-1\n",
    "        avgs =set()\n",
    "        while i<=j:\n",
    "            avg = (nums[i]+nums[j])/2\n",
    "            i+=1\n",
    "            j-=1\n",
    "            avgs.add(avg)\n",
    "        return len(avgs)"
   ]
  },
  {
   "cell_type": "markdown",
   "id": "4d975386-5d7f-4d31-aff7-f21f861fc640",
   "metadata": {},
   "source": [
    "## 26. Remove Duplicates from Sorted Array"
   ]
  },
  {
   "cell_type": "code",
   "execution_count": 15,
   "id": "966ccfb0-34be-4c06-9d06-3722e2164ca5",
   "metadata": {},
   "outputs": [],
   "source": [
    "class Solution:\n",
    "    def removeDuplicates(self, nums) -> int:\n",
    "        i,j, count =0,0,0\n",
    "        \n",
    "        while j <=len(nums)-1:\n",
    "            if nums[i] != nums[j]:\n",
    "                nums[i+1]=nums[j]\n",
    "                i+=1\n",
    "                count+=1\n",
    "            j+=1\n",
    "\n",
    "        return count+1"
   ]
  },
  {
   "cell_type": "markdown",
   "id": "d39d7d1e-31a3-40b6-8c05-5d7efce1ba70",
   "metadata": {},
   "source": [
    "## 28. Find the Index of the First Occurrence in a String"
   ]
  },
  {
   "cell_type": "code",
   "execution_count": 18,
   "id": "d5daa61b-71ff-425a-84ac-0bc3ad913d22",
   "metadata": {},
   "outputs": [],
   "source": [
    "class Solution:\n",
    "    def strStr(self, haystack: str, needle: str) -> int:\n",
    "        n = len(needle)\n",
    "        h= len(haystack)\n",
    "        if h < n:\n",
    "            return -1\n",
    "        \n",
    "        i,j = 0, n-1\n",
    "        while j<=h-1:\n",
    "            if haystack[i:j+1] == needle:\n",
    "                return i\n",
    "            i+=1\n",
    "            j+=1\n",
    "        return -1\n",
    "        "
   ]
  },
  {
   "cell_type": "markdown",
   "id": "eea4fdc9-1fec-4f0a-ad62-69effe296003",
   "metadata": {},
   "source": [
    "## 1455. Check If a Word Occurs As a Prefix of Any Word in a Sentence"
   ]
  },
  {
   "cell_type": "code",
   "execution_count": 21,
   "id": "b6677377-5921-42df-8b2d-034927616118",
   "metadata": {},
   "outputs": [],
   "source": [
    "class Solution:\n",
    "    def isPrefixOfWord(self, sentence: str, searchWord: str) -> int:\n",
    "        n= len(searchWord)\n",
    "        words = sentence.split(' ')\n",
    "        # searchWords = [searchWord, f\" {searchWord}\"]\n",
    "        # n = len(searchWord)\n",
    "        # i,j =0, n-1\n",
    "\n",
    "        # while j<len(n):\n",
    "        #     if sentence[i:j]== searchWord:\n",
    "                \n",
    "        #         return i\n",
    "        #     else:\n",
    "        #         i\n",
    "        for i in range(len(words)):\n",
    "            if searchWord == words[i][:n]:\n",
    "                return i+1\n",
    "        return -1\n"
   ]
  },
  {
   "cell_type": "markdown",
   "id": "9272177a-6f6e-4572-b580-dc868efbd904",
   "metadata": {},
   "source": [
    "## 2511. Maximum Enemy Forts That Can Be Captured"
   ]
  },
  {
   "cell_type": "code",
   "execution_count": 24,
   "id": "d0620bfc-f039-4832-9b28-1b39cd468bc6",
   "metadata": {},
   "outputs": [
    {
     "ename": "NameError",
     "evalue": "name 'List' is not defined",
     "output_type": "error",
     "traceback": [
      "\u001b[0;31m---------------------------------------------------------------------------\u001b[0m",
      "\u001b[0;31mNameError\u001b[0m                                 Traceback (most recent call last)",
      "Cell \u001b[0;32mIn[24], line 1\u001b[0m\n\u001b[0;32m----> 1\u001b[0m \u001b[38;5;28;01mclass\u001b[39;00m \u001b[38;5;21;01mSolution\u001b[39;00m:\n\u001b[1;32m      2\u001b[0m     \u001b[38;5;28;01mdef\u001b[39;00m \u001b[38;5;21mcaptureForts\u001b[39m(\u001b[38;5;28mself\u001b[39m, forts: List[\u001b[38;5;28mint\u001b[39m]) \u001b[38;5;241m-\u001b[39m\u001b[38;5;241m>\u001b[39m \u001b[38;5;28mint\u001b[39m:\n\u001b[1;32m      3\u001b[0m         \u001b[38;5;28;01mif\u001b[39;00m \u001b[38;5;28mlen\u001b[39m(forts)\u001b[38;5;241m==\u001b[39m\u001b[38;5;241m1\u001b[39m:\n",
      "Cell \u001b[0;32mIn[24], line 2\u001b[0m, in \u001b[0;36mSolution\u001b[0;34m()\u001b[0m\n\u001b[1;32m      1\u001b[0m \u001b[38;5;28;01mclass\u001b[39;00m \u001b[38;5;21;01mSolution\u001b[39;00m:\n\u001b[0;32m----> 2\u001b[0m     \u001b[38;5;28;01mdef\u001b[39;00m \u001b[38;5;21mcaptureForts\u001b[39m(\u001b[38;5;28mself\u001b[39m, forts: List[\u001b[38;5;28mint\u001b[39m]) \u001b[38;5;241m-\u001b[39m\u001b[38;5;241m>\u001b[39m \u001b[38;5;28mint\u001b[39m:\n\u001b[1;32m      3\u001b[0m         \u001b[38;5;28;01mif\u001b[39;00m \u001b[38;5;28mlen\u001b[39m(forts)\u001b[38;5;241m==\u001b[39m\u001b[38;5;241m1\u001b[39m:\n\u001b[1;32m      4\u001b[0m             \u001b[38;5;28;01mreturn\u001b[39;00m \u001b[38;5;241m0\u001b[39m\n",
      "\u001b[0;31mNameError\u001b[0m: name 'List' is not defined"
     ]
    }
   ],
   "source": [
    "class Solution:\n",
    "    def captureForts(self, forts: List[int]) -> int:\n",
    "        if len(forts)==1:\n",
    "            return 0\n",
    "        i,j=0,1\n",
    "        captured =0\n",
    "        while j< len(forts):\n",
    "            if forts[i]+forts[j]==0 and forts[i]!=0:\n",
    "                captured = max(captured, j-i-1)\n",
    "                i=j\n",
    "            elif forts[j]!=0:\n",
    "                i=j\n",
    "            else:\n",
    "                pass\n",
    "\n",
    "                \n",
    "            j+=1\n",
    "        return captured"
   ]
  },
  {
   "cell_type": "markdown",
   "id": "9dda197d-e0af-4cf5-8461-8317204a4027",
   "metadata": {},
   "source": [
    "## 557. Reverse Words in a String III"
   ]
  },
  {
   "cell_type": "code",
   "execution_count": 27,
   "id": "67432641-3938-49e6-92a2-86981a26c1c3",
   "metadata": {},
   "outputs": [],
   "source": [
    "class Solution:\n",
    "    def reverseWords(self, s: str) -> str:\n",
    "        s = s[::-1]\n",
    "        reverse_words = s.split(' ')[::-1]\n",
    "        return ' '.join(reverse_words)"
   ]
  },
  {
   "cell_type": "markdown",
   "id": "a9e1c6a4-d997-45a4-a66f-99e95ba2718d",
   "metadata": {},
   "source": [
    "## 1961. Check If String Is a Prefix of Array"
   ]
  },
  {
   "cell_type": "code",
   "execution_count": 30,
   "id": "8c052daf-9f4c-4a4b-bafe-518d8d29a460",
   "metadata": {},
   "outputs": [
    {
     "ename": "NameError",
     "evalue": "name 'List' is not defined",
     "output_type": "error",
     "traceback": [
      "\u001b[0;31m---------------------------------------------------------------------------\u001b[0m",
      "\u001b[0;31mNameError\u001b[0m                                 Traceback (most recent call last)",
      "Cell \u001b[0;32mIn[30], line 1\u001b[0m\n\u001b[0;32m----> 1\u001b[0m \u001b[38;5;28;01mclass\u001b[39;00m \u001b[38;5;21;01mSolution\u001b[39;00m:\n\u001b[1;32m      2\u001b[0m     \u001b[38;5;28;01mdef\u001b[39;00m \u001b[38;5;21misPrefixString\u001b[39m(\u001b[38;5;28mself\u001b[39m, s: \u001b[38;5;28mstr\u001b[39m, words: List[\u001b[38;5;28mstr\u001b[39m]) \u001b[38;5;241m-\u001b[39m\u001b[38;5;241m>\u001b[39m \u001b[38;5;28mbool\u001b[39m:\n\u001b[1;32m      3\u001b[0m         prefix \u001b[38;5;241m=\u001b[39m\u001b[38;5;124m'\u001b[39m\u001b[38;5;124m'\u001b[39m\n",
      "Cell \u001b[0;32mIn[30], line 2\u001b[0m, in \u001b[0;36mSolution\u001b[0;34m()\u001b[0m\n\u001b[1;32m      1\u001b[0m \u001b[38;5;28;01mclass\u001b[39;00m \u001b[38;5;21;01mSolution\u001b[39;00m:\n\u001b[0;32m----> 2\u001b[0m     \u001b[38;5;28;01mdef\u001b[39;00m \u001b[38;5;21misPrefixString\u001b[39m(\u001b[38;5;28mself\u001b[39m, s: \u001b[38;5;28mstr\u001b[39m, words: List[\u001b[38;5;28mstr\u001b[39m]) \u001b[38;5;241m-\u001b[39m\u001b[38;5;241m>\u001b[39m \u001b[38;5;28mbool\u001b[39m:\n\u001b[1;32m      3\u001b[0m         prefix \u001b[38;5;241m=\u001b[39m\u001b[38;5;124m'\u001b[39m\u001b[38;5;124m'\u001b[39m\n\u001b[1;32m      4\u001b[0m         \u001b[38;5;28;01mfor\u001b[39;00m i \u001b[38;5;129;01min\u001b[39;00m words:\n",
      "\u001b[0;31mNameError\u001b[0m: name 'List' is not defined"
     ]
    }
   ],
   "source": [
    "class Solution:\n",
    "    def isPrefixString(self, s: str, words: List[str]) -> bool:\n",
    "        prefix =''\n",
    "        for i in words:\n",
    "            prefix +=i\n",
    "            if prefix == s:\n",
    "                return True\n",
    "        return False"
   ]
  },
  {
   "cell_type": "markdown",
   "id": "81e1fd17-c220-4704-a041-5b6a3a9008f4",
   "metadata": {},
   "source": [
    "## 2540. Minimum Common Value"
   ]
  },
  {
   "cell_type": "code",
   "execution_count": 33,
   "id": "5b947217-d86c-4c62-8702-4d4b702ea016",
   "metadata": {},
   "outputs": [
    {
     "ename": "NameError",
     "evalue": "name 'List' is not defined",
     "output_type": "error",
     "traceback": [
      "\u001b[0;31m---------------------------------------------------------------------------\u001b[0m",
      "\u001b[0;31mNameError\u001b[0m                                 Traceback (most recent call last)",
      "Cell \u001b[0;32mIn[33], line 1\u001b[0m\n\u001b[0;32m----> 1\u001b[0m \u001b[38;5;28;01mclass\u001b[39;00m \u001b[38;5;21;01mSolution\u001b[39;00m:\n\u001b[1;32m      2\u001b[0m     \u001b[38;5;28;01mdef\u001b[39;00m \u001b[38;5;21mgetCommon\u001b[39m(\u001b[38;5;28mself\u001b[39m, nums1: List[\u001b[38;5;28mint\u001b[39m], nums2: List[\u001b[38;5;28mint\u001b[39m]) \u001b[38;5;241m-\u001b[39m\u001b[38;5;241m>\u001b[39m \u001b[38;5;28mint\u001b[39m:\n\u001b[1;32m      3\u001b[0m         i,j\u001b[38;5;241m=\u001b[39m\u001b[38;5;241m0\u001b[39m,\u001b[38;5;241m0\u001b[39m\n",
      "Cell \u001b[0;32mIn[33], line 2\u001b[0m, in \u001b[0;36mSolution\u001b[0;34m()\u001b[0m\n\u001b[1;32m      1\u001b[0m \u001b[38;5;28;01mclass\u001b[39;00m \u001b[38;5;21;01mSolution\u001b[39;00m:\n\u001b[0;32m----> 2\u001b[0m     \u001b[38;5;28;01mdef\u001b[39;00m \u001b[38;5;21mgetCommon\u001b[39m(\u001b[38;5;28mself\u001b[39m, nums1: List[\u001b[38;5;28mint\u001b[39m], nums2: List[\u001b[38;5;28mint\u001b[39m]) \u001b[38;5;241m-\u001b[39m\u001b[38;5;241m>\u001b[39m \u001b[38;5;28mint\u001b[39m:\n\u001b[1;32m      3\u001b[0m         i,j\u001b[38;5;241m=\u001b[39m\u001b[38;5;241m0\u001b[39m,\u001b[38;5;241m0\u001b[39m\n\u001b[1;32m      4\u001b[0m         l1, l2\u001b[38;5;241m=\u001b[39m \u001b[38;5;28mlen\u001b[39m(nums1),\u001b[38;5;28mlen\u001b[39m(nums2)\n",
      "\u001b[0;31mNameError\u001b[0m: name 'List' is not defined"
     ]
    }
   ],
   "source": [
    "class Solution:\n",
    "    def getCommon(self, nums1: List[int], nums2: List[int]) -> int:\n",
    "        i,j=0,0\n",
    "        l1, l2= len(nums1),len(nums2)\n",
    "        while i< l1 and j<l2:\n",
    "            n1, n2= nums1[i], nums2[j]\n",
    "            if n1==n2 :\n",
    "                return n1\n",
    "            elif n1< n2:\n",
    "                i+=1\n",
    "            else :\n",
    "                j+=1\n",
    "           \n",
    "        return -1"
   ]
  },
  {
   "cell_type": "markdown",
   "id": "08861e11-0341-4749-99a6-fdc2fc40f46f",
   "metadata": {},
   "source": [
    "## 2000. Reverse Prefix of Word"
   ]
  },
  {
   "cell_type": "code",
   "execution_count": 36,
   "id": "666679e8-fbbc-4f7e-b136-ae1259636795",
   "metadata": {},
   "outputs": [],
   "source": [
    "class Solution:\n",
    "    def reversePrefix(self, word: str, ch: str) -> str:\n",
    "        if ch not in word:\n",
    "            return word\n",
    "        words = word.split(ch,1)\n",
    "        result=''\n",
    "        word_=words[0]\n",
    "        j=len(word_)-1\n",
    "        while j>=0:\n",
    "            result += word_[j]\n",
    "            j-=1\n",
    "\n",
    "        return ch+result+''.join(words[1:])"
   ]
  },
  {
   "cell_type": "markdown",
   "id": "5d561512-fce9-44b4-99c9-875c1eb8ff62",
   "metadata": {},
   "source": [
    "## 2903. Find Indices With Index and Value Difference I"
   ]
  },
  {
   "cell_type": "code",
   "execution_count": 1,
   "id": "2a76ef28-14c5-497c-8b13-4bcc91f04aa5",
   "metadata": {},
   "outputs": [
    {
     "ename": "NameError",
     "evalue": "name 'List' is not defined",
     "output_type": "error",
     "traceback": [
      "\u001b[0;31m---------------------------------------------------------------------------\u001b[0m",
      "\u001b[0;31mNameError\u001b[0m                                 Traceback (most recent call last)",
      "Cell \u001b[0;32mIn[1], line 1\u001b[0m\n\u001b[0;32m----> 1\u001b[0m \u001b[38;5;28;01mclass\u001b[39;00m\u001b[38;5;250m \u001b[39m\u001b[38;5;21;01mSolution\u001b[39;00m:\n\u001b[1;32m      2\u001b[0m     \u001b[38;5;28;01mdef\u001b[39;00m\u001b[38;5;250m \u001b[39m\u001b[38;5;21mfindIndices\u001b[39m(\u001b[38;5;28mself\u001b[39m, nums: List[\u001b[38;5;28mint\u001b[39m], indexDifference: \u001b[38;5;28mint\u001b[39m, valueDifference: \u001b[38;5;28mint\u001b[39m) \u001b[38;5;241m-\u001b[39m\u001b[38;5;241m>\u001b[39m List[\u001b[38;5;28mint\u001b[39m]:\n\u001b[1;32m      4\u001b[0m         \u001b[38;5;28;01mfor\u001b[39;00m i \u001b[38;5;129;01min\u001b[39;00m \u001b[38;5;28mrange\u001b[39m(\u001b[38;5;241m0\u001b[39m, \u001b[38;5;28mlen\u001b[39m(nums)\u001b[38;5;241m-\u001b[39mindexDifference):\n",
      "Cell \u001b[0;32mIn[1], line 2\u001b[0m, in \u001b[0;36mSolution\u001b[0;34m()\u001b[0m\n\u001b[1;32m      1\u001b[0m \u001b[38;5;28;01mclass\u001b[39;00m\u001b[38;5;250m \u001b[39m\u001b[38;5;21;01mSolution\u001b[39;00m:\n\u001b[0;32m----> 2\u001b[0m     \u001b[38;5;28;01mdef\u001b[39;00m\u001b[38;5;250m \u001b[39m\u001b[38;5;21mfindIndices\u001b[39m(\u001b[38;5;28mself\u001b[39m, nums: \u001b[43mList\u001b[49m[\u001b[38;5;28mint\u001b[39m], indexDifference: \u001b[38;5;28mint\u001b[39m, valueDifference: \u001b[38;5;28mint\u001b[39m) \u001b[38;5;241m-\u001b[39m\u001b[38;5;241m>\u001b[39m List[\u001b[38;5;28mint\u001b[39m]:\n\u001b[1;32m      4\u001b[0m         \u001b[38;5;28;01mfor\u001b[39;00m i \u001b[38;5;129;01min\u001b[39;00m \u001b[38;5;28mrange\u001b[39m(\u001b[38;5;241m0\u001b[39m, \u001b[38;5;28mlen\u001b[39m(nums)\u001b[38;5;241m-\u001b[39mindexDifference):\n\u001b[1;32m      5\u001b[0m             j \u001b[38;5;241m=\u001b[39m i\u001b[38;5;241m+\u001b[39mindexDifference\n",
      "\u001b[0;31mNameError\u001b[0m: name 'List' is not defined"
     ]
    }
   ],
   "source": [
    "class Solution:\n",
    "    def findIndices(self, nums: List[int], indexDifference: int, valueDifference: int) -> List[int]:\n",
    "\n",
    "        for i in range(0, len(nums)-indexDifference):\n",
    "            j = i+indexDifference\n",
    "            while i <=j and j < len(nums):\n",
    "            \n",
    "                if nums[j]-nums[i] >= valueDifference or nums[i]-nums[j] >= valueDifference:\n",
    "                    return [i,j]\n",
    "                else:\n",
    "                    j+=1\n",
    "            i+=1\n",
    "\n",
    "        return [-1,-1]"
   ]
  },
  {
   "cell_type": "markdown",
   "id": "24db7e87-3f73-4016-aca1-7a1eecc452f6",
   "metadata": {},
   "source": [
    "## 125. Valid Palindrome"
   ]
  },
  {
   "cell_type": "code",
   "execution_count": 2,
   "id": "7de38b14-d2fb-4405-97ed-1c5284499dc1",
   "metadata": {},
   "outputs": [],
   "source": [
    "class Solution:\n",
    "    def isPalindrome(self, s: str) -> bool:\n",
    "\n",
    "        s = [i for i in s if i.isalnum()]\n",
    "        s=''.join(s).lower()\n",
    "        # print(s)\n",
    "        # i, j= 0, len(s)-1\n",
    "\n",
    "        # while i<=j:\n",
    "        #     if s[i]==s[j]:\n",
    "        #         i+=1\n",
    "        #         j-=1\n",
    "        #     else:\n",
    "        #         return False\n",
    "        \n",
    "        # return True\n",
    "\n",
    "        if s== s[::-1]:\n",
    "            return True\n",
    "        return False\n",
    "        \n",
    "        "
   ]
  },
  {
   "cell_type": "markdown",
   "id": "41044b07-2c4f-4193-b2bf-9859552e2023",
   "metadata": {},
   "source": [
    "## 2562. Find the Array Concatenation Value"
   ]
  },
  {
   "cell_type": "code",
   "execution_count": 3,
   "id": "7ed61352-6d8d-4c5a-ad24-50071df143bc",
   "metadata": {},
   "outputs": [
    {
     "ename": "NameError",
     "evalue": "name 'List' is not defined",
     "output_type": "error",
     "traceback": [
      "\u001b[0;31m---------------------------------------------------------------------------\u001b[0m",
      "\u001b[0;31mNameError\u001b[0m                                 Traceback (most recent call last)",
      "Cell \u001b[0;32mIn[3], line 1\u001b[0m\n\u001b[0;32m----> 1\u001b[0m \u001b[38;5;28;01mclass\u001b[39;00m\u001b[38;5;250m \u001b[39m\u001b[38;5;21;01mSolution\u001b[39;00m:\n\u001b[1;32m      2\u001b[0m     \u001b[38;5;28;01mdef\u001b[39;00m\u001b[38;5;250m \u001b[39m\u001b[38;5;21mfindTheArrayConcVal\u001b[39m(\u001b[38;5;28mself\u001b[39m, nums: List[\u001b[38;5;28mint\u001b[39m]) \u001b[38;5;241m-\u001b[39m\u001b[38;5;241m>\u001b[39m \u001b[38;5;28mint\u001b[39m:\n\u001b[1;32m      3\u001b[0m         conc \u001b[38;5;241m=\u001b[39m\u001b[38;5;241m0\u001b[39m\n",
      "Cell \u001b[0;32mIn[3], line 2\u001b[0m, in \u001b[0;36mSolution\u001b[0;34m()\u001b[0m\n\u001b[1;32m      1\u001b[0m \u001b[38;5;28;01mclass\u001b[39;00m\u001b[38;5;250m \u001b[39m\u001b[38;5;21;01mSolution\u001b[39;00m:\n\u001b[0;32m----> 2\u001b[0m     \u001b[38;5;28;01mdef\u001b[39;00m\u001b[38;5;250m \u001b[39m\u001b[38;5;21mfindTheArrayConcVal\u001b[39m(\u001b[38;5;28mself\u001b[39m, nums: \u001b[43mList\u001b[49m[\u001b[38;5;28mint\u001b[39m]) \u001b[38;5;241m-\u001b[39m\u001b[38;5;241m>\u001b[39m \u001b[38;5;28mint\u001b[39m:\n\u001b[1;32m      3\u001b[0m         conc \u001b[38;5;241m=\u001b[39m\u001b[38;5;241m0\u001b[39m\n\u001b[1;32m      4\u001b[0m         i,j\u001b[38;5;241m=\u001b[39m \u001b[38;5;241m0\u001b[39m, \u001b[38;5;28mlen\u001b[39m(nums)\u001b[38;5;241m-\u001b[39m\u001b[38;5;241m1\u001b[39m\n",
      "\u001b[0;31mNameError\u001b[0m: name 'List' is not defined"
     ]
    }
   ],
   "source": [
    "class Solution:\n",
    "    def findTheArrayConcVal(self, nums: List[int]) -> int:\n",
    "        conc =0\n",
    "        i,j= 0, len(nums)-1\n",
    "        \n",
    "        while i<j:\n",
    "            conc += int(str(nums[i])+str(nums[j]))\n",
    "            i+=1\n",
    "            j-=1\n",
    "        if i==j:\n",
    "            return conc+nums[i]\n",
    "        return conc"
   ]
  },
  {
   "cell_type": "markdown",
   "id": "384e9eda-e379-4bd3-bf79-c15047e5140f",
   "metadata": {},
   "source": [
    "## 11. Container With Most Water(medium)"
   ]
  },
  {
   "cell_type": "code",
   "execution_count": 4,
   "id": "d7128bd4-3c74-4e73-bea6-49edefc183be",
   "metadata": {},
   "outputs": [
    {
     "ename": "NameError",
     "evalue": "name 'List' is not defined",
     "output_type": "error",
     "traceback": [
      "\u001b[0;31m---------------------------------------------------------------------------\u001b[0m",
      "\u001b[0;31mNameError\u001b[0m                                 Traceback (most recent call last)",
      "Cell \u001b[0;32mIn[4], line 1\u001b[0m\n\u001b[0;32m----> 1\u001b[0m \u001b[38;5;28;01mclass\u001b[39;00m\u001b[38;5;250m \u001b[39m\u001b[38;5;21;01mSolution\u001b[39;00m:\n\u001b[1;32m      2\u001b[0m     \u001b[38;5;28;01mdef\u001b[39;00m\u001b[38;5;250m \u001b[39m\u001b[38;5;21mmaxArea\u001b[39m(\u001b[38;5;28mself\u001b[39m, height: List[\u001b[38;5;28mint\u001b[39m]) \u001b[38;5;241m-\u001b[39m\u001b[38;5;241m>\u001b[39m \u001b[38;5;28mint\u001b[39m:\n\u001b[1;32m      4\u001b[0m         i, j\u001b[38;5;241m=\u001b[39m \u001b[38;5;241m0\u001b[39m, \u001b[38;5;28mlen\u001b[39m(height)\u001b[38;5;241m-\u001b[39m\u001b[38;5;241m1\u001b[39m\n",
      "Cell \u001b[0;32mIn[4], line 2\u001b[0m, in \u001b[0;36mSolution\u001b[0;34m()\u001b[0m\n\u001b[1;32m      1\u001b[0m \u001b[38;5;28;01mclass\u001b[39;00m\u001b[38;5;250m \u001b[39m\u001b[38;5;21;01mSolution\u001b[39;00m:\n\u001b[0;32m----> 2\u001b[0m     \u001b[38;5;28;01mdef\u001b[39;00m\u001b[38;5;250m \u001b[39m\u001b[38;5;21mmaxArea\u001b[39m(\u001b[38;5;28mself\u001b[39m, height: \u001b[43mList\u001b[49m[\u001b[38;5;28mint\u001b[39m]) \u001b[38;5;241m-\u001b[39m\u001b[38;5;241m>\u001b[39m \u001b[38;5;28mint\u001b[39m:\n\u001b[1;32m      4\u001b[0m         i, j\u001b[38;5;241m=\u001b[39m \u001b[38;5;241m0\u001b[39m, \u001b[38;5;28mlen\u001b[39m(height)\u001b[38;5;241m-\u001b[39m\u001b[38;5;241m1\u001b[39m\n\u001b[1;32m      5\u001b[0m         area\u001b[38;5;241m=\u001b[39m \u001b[38;5;28mmin\u001b[39m(height[i], height[j])\u001b[38;5;241m*\u001b[39m(j\u001b[38;5;241m-\u001b[39mi)\n",
      "\u001b[0;31mNameError\u001b[0m: name 'List' is not defined"
     ]
    }
   ],
   "source": [
    "class Solution:\n",
    "    def maxArea(self, height: List[int]) -> int:\n",
    "\n",
    "        i, j= 0, len(height)-1\n",
    "        area= min(height[i], height[j])*(j-i)\n",
    "        \n",
    "        while i <j :\n",
    "\n",
    "            if height[i]<height[j]:\n",
    "                i+=1\n",
    "                \n",
    "            else:\n",
    "                j-=1\n",
    "            \n",
    "            area = max(area,min(height[i], height[j])*(j-i))\n",
    "\n",
    "        return area"
   ]
  },
  {
   "cell_type": "markdown",
   "id": "b11f1d91-494c-430f-bca8-a7086239775b",
   "metadata": {},
   "source": [
    "## 524. Longest Word in Dictionary through Deleting"
   ]
  },
  {
   "cell_type": "code",
   "execution_count": 6,
   "id": "bc201711-9b5a-477a-8c01-a24f0b8793a1",
   "metadata": {},
   "outputs": [
    {
     "ename": "NameError",
     "evalue": "name 'List' is not defined",
     "output_type": "error",
     "traceback": [
      "\u001b[0;31m---------------------------------------------------------------------------\u001b[0m",
      "\u001b[0;31mNameError\u001b[0m                                 Traceback (most recent call last)",
      "Cell \u001b[0;32mIn[6], line 1\u001b[0m\n\u001b[0;32m----> 1\u001b[0m \u001b[38;5;28;01mclass\u001b[39;00m\u001b[38;5;250m \u001b[39m\u001b[38;5;21;01mSolution\u001b[39;00m:\n\u001b[1;32m      2\u001b[0m     \u001b[38;5;28;01mdef\u001b[39;00m\u001b[38;5;250m \u001b[39m\u001b[38;5;21mfindLongestWord\u001b[39m(\u001b[38;5;28mself\u001b[39m, s: \u001b[38;5;28mstr\u001b[39m, dictionary: List[\u001b[38;5;28mstr\u001b[39m]) \u001b[38;5;241m-\u001b[39m\u001b[38;5;241m>\u001b[39m \u001b[38;5;28mstr\u001b[39m:\n\u001b[1;32m      3\u001b[0m         i,j \u001b[38;5;241m=\u001b[39m\u001b[38;5;241m0\u001b[39m,\u001b[38;5;241m0\u001b[39m\n",
      "Cell \u001b[0;32mIn[6], line 2\u001b[0m, in \u001b[0;36mSolution\u001b[0;34m()\u001b[0m\n\u001b[1;32m      1\u001b[0m \u001b[38;5;28;01mclass\u001b[39;00m\u001b[38;5;250m \u001b[39m\u001b[38;5;21;01mSolution\u001b[39;00m:\n\u001b[0;32m----> 2\u001b[0m     \u001b[38;5;28;01mdef\u001b[39;00m\u001b[38;5;250m \u001b[39m\u001b[38;5;21mfindLongestWord\u001b[39m(\u001b[38;5;28mself\u001b[39m, s: \u001b[38;5;28mstr\u001b[39m, dictionary: \u001b[43mList\u001b[49m[\u001b[38;5;28mstr\u001b[39m]) \u001b[38;5;241m-\u001b[39m\u001b[38;5;241m>\u001b[39m \u001b[38;5;28mstr\u001b[39m:\n\u001b[1;32m      3\u001b[0m         i,j \u001b[38;5;241m=\u001b[39m\u001b[38;5;241m0\u001b[39m,\u001b[38;5;241m0\u001b[39m\n\u001b[1;32m      4\u001b[0m         rank\u001b[38;5;241m=\u001b[39m\u001b[38;5;241m0\u001b[39m\n",
      "\u001b[0;31mNameError\u001b[0m: name 'List' is not defined"
     ]
    }
   ],
   "source": [
    "class Solution:\n",
    "    def findLongestWord(self, s: str, dictionary: List[str]) -> str:\n",
    "        i,j =0,0\n",
    "        rank=0\n",
    "        # index=''\n",
    "        word_=''\n",
    "        for word in dictionary:\n",
    "            i,j=0,0\n",
    "            # new_rank=0\n",
    "\n",
    "            while i<len(s) and j <len(word):\n",
    "                if s[i]==word[j]:\n",
    "                    # new_rank+= 10**(len(s)-i-1)\n",
    "                    j+=1\n",
    "                i+=1\n",
    "            if j == len(word):\n",
    "                if len(word_)< len(word):\n",
    "                    word_=word\n",
    "                elif len(word_)==len(word):\n",
    "                    word_ = sorted([word, word_])[0]\n",
    "\n",
    "                # ranks.append(new_rank)\n",
    "                # rank =max(rank, new_rank)\n",
    "                # words.append(word)\n",
    "                # if rank<new_rank:\n",
    "                #     index = word\n",
    "                #     rank= new_rank\n",
    "\n",
    "            # else:\n",
    "                # ranks.append(0)\n",
    "            \n",
    "        return  word_\n",
    "## optimised method is to sort the words in by length, if lenght is same then alphabhetically\n"
   ]
  },
  {
   "cell_type": "markdown",
   "id": "608ca60a-848e-4610-a2c7-f3953d732691",
   "metadata": {},
   "source": [
    "## 15. 3Sum"
   ]
  },
  {
   "cell_type": "code",
   "execution_count": 7,
   "id": "57045f99-051d-4b59-8c2f-660ce44c0f86",
   "metadata": {},
   "outputs": [
    {
     "ename": "NameError",
     "evalue": "name 'List' is not defined",
     "output_type": "error",
     "traceback": [
      "\u001b[0;31m---------------------------------------------------------------------------\u001b[0m",
      "\u001b[0;31mNameError\u001b[0m                                 Traceback (most recent call last)",
      "Cell \u001b[0;32mIn[7], line 42\u001b[0m\n\u001b[1;32m      1\u001b[0m \u001b[38;5;66;03m# class Solution:\u001b[39;00m\n\u001b[1;32m      2\u001b[0m \u001b[38;5;66;03m#     def threeSum(self, nums: List[int]) -> List[List[int]]:\u001b[39;00m\n\u001b[1;32m      3\u001b[0m \u001b[38;5;66;03m#         results =[]\u001b[39;00m\n\u001b[0;32m   (...)\u001b[0m\n\u001b[1;32m     39\u001b[0m \n\u001b[1;32m     40\u001b[0m \u001b[38;5;66;03m#         return results\u001b[39;00m\n\u001b[0;32m---> 42\u001b[0m \u001b[38;5;28;01mclass\u001b[39;00m\u001b[38;5;250m \u001b[39m\u001b[38;5;21;01mSolution\u001b[39;00m:\n\u001b[1;32m     43\u001b[0m     \u001b[38;5;28;01mdef\u001b[39;00m\u001b[38;5;250m \u001b[39m\u001b[38;5;21mthreeSum\u001b[39m(\u001b[38;5;28mself\u001b[39m, nums: List[\u001b[38;5;28mint\u001b[39m]) \u001b[38;5;241m-\u001b[39m\u001b[38;5;241m>\u001b[39m List[List[\u001b[38;5;28mint\u001b[39m]]:\n\u001b[1;32m     44\u001b[0m         results \u001b[38;5;241m=\u001b[39m []\n",
      "Cell \u001b[0;32mIn[7], line 43\u001b[0m, in \u001b[0;36mSolution\u001b[0;34m()\u001b[0m\n\u001b[1;32m     42\u001b[0m \u001b[38;5;28;01mclass\u001b[39;00m\u001b[38;5;250m \u001b[39m\u001b[38;5;21;01mSolution\u001b[39;00m:\n\u001b[0;32m---> 43\u001b[0m     \u001b[38;5;28;01mdef\u001b[39;00m\u001b[38;5;250m \u001b[39m\u001b[38;5;21mthreeSum\u001b[39m(\u001b[38;5;28mself\u001b[39m, nums: \u001b[43mList\u001b[49m[\u001b[38;5;28mint\u001b[39m]) \u001b[38;5;241m-\u001b[39m\u001b[38;5;241m>\u001b[39m List[List[\u001b[38;5;28mint\u001b[39m]]:\n\u001b[1;32m     44\u001b[0m         results \u001b[38;5;241m=\u001b[39m []\n\u001b[1;32m     45\u001b[0m         nums\u001b[38;5;241m.\u001b[39msort()\n",
      "\u001b[0;31mNameError\u001b[0m: name 'List' is not defined"
     ]
    }
   ],
   "source": [
    "# class Solution:\n",
    "#     def threeSum(self, nums: List[int]) -> List[List[int]]:\n",
    "#         results =[]\n",
    "#         n=len(nums)\n",
    "#         nums.sort()\n",
    "#         # temp_i=\n",
    "#         for i in range(n):\n",
    "#             if i > 0 and nums[i] == nums[i - 1]:  # Skip duplicate i's\n",
    "#                 continue\n",
    "\n",
    "#             # if nums[i] == temp_i:\n",
    "#             #     i+=1\n",
    "#             # temp_i=nums[i]\n",
    "#             sum = -1*nums[i]\n",
    "#             j,k=i+1, len(nums)-1\n",
    "#             while j<k:\n",
    "                \n",
    "#                 if nums[j]+nums[k]==sum:\n",
    "                    \n",
    "#                     results.append([nums[i], nums[j], nums[k]])\n",
    "                    \n",
    "#                     j+=1\n",
    "#                     k-=1\n",
    "                    \n",
    "#                 if nums[j]+nums[k]< sum:\n",
    "                    \n",
    "#                     j+=1\n",
    "#                 if nums[j]+nums[k]> sum:\n",
    "                   \n",
    "#                     k-=1\n",
    "\n",
    "#         # seen = set()\n",
    "#         # unique = []\n",
    "#         # for item in results:\n",
    "#         #     t = tuple(item)\n",
    "#         #     if t not in seen:\n",
    "#         #         seen.add(t)\n",
    "#         #         unique.append(item)\n",
    "\n",
    "#         return results\n",
    "                \n",
    "class Solution:\n",
    "    def threeSum(self, nums: List[int]) -> List[List[int]]:\n",
    "        results = []\n",
    "        nums.sort()\n",
    "\n",
    "        for i in range(len(nums)):\n",
    "            if i > 0 and nums[i] == nums[i - 1]:  # Skip duplicate i's\n",
    "                continue\n",
    "\n",
    "            j, k = i + 1, len(nums) - 1\n",
    "            while j < k:\n",
    "                total = nums[i] + nums[j] + nums[k]\n",
    "                if total == 0:\n",
    "                    results.append([nums[i], nums[j], nums[k]])\n",
    "\n",
    "                    j += 1\n",
    "                    k -= 1\n",
    "\n",
    "                    # Skip duplicate j's\n",
    "                    while j < k and nums[j] == nums[j - 1]:\n",
    "                        j += 1\n",
    "\n",
    "                    # Skip duplicate k's\n",
    "                    while j < k and nums[k] == nums[k + 1]:\n",
    "                        k -= 1\n",
    "\n",
    "                elif total < 0:\n",
    "                    j += 1\n",
    "                else:\n",
    "                    k -= 1\n",
    "\n",
    "        return results\n",
    "\n",
    "\n",
    "# commented is my code\n",
    "                    \n",
    "            \n",
    "\n",
    "\n",
    "\n",
    "\n",
    "\n",
    "\n",
    "\n",
    "\n",
    "        "
   ]
  },
  {
   "cell_type": "markdown",
   "id": "17871920-7db7-4f38-b9cc-366864686206",
   "metadata": {},
   "source": [
    "## 16. 3Sum Closest"
   ]
  },
  {
   "cell_type": "code",
   "execution_count": 8,
   "id": "9cdf4395-74d9-44c3-8539-81d008bf0ed2",
   "metadata": {},
   "outputs": [
    {
     "ename": "NameError",
     "evalue": "name 'List' is not defined",
     "output_type": "error",
     "traceback": [
      "\u001b[0;31m---------------------------------------------------------------------------\u001b[0m",
      "\u001b[0;31mNameError\u001b[0m                                 Traceback (most recent call last)",
      "Cell \u001b[0;32mIn[8], line 1\u001b[0m\n\u001b[0;32m----> 1\u001b[0m \u001b[38;5;28;01mclass\u001b[39;00m\u001b[38;5;250m \u001b[39m\u001b[38;5;21;01mSolution\u001b[39;00m:\n\u001b[1;32m      2\u001b[0m     \u001b[38;5;28;01mdef\u001b[39;00m\u001b[38;5;250m \u001b[39m\u001b[38;5;21mthreeSumClosest\u001b[39m(\u001b[38;5;28mself\u001b[39m, nums: List[\u001b[38;5;28mint\u001b[39m], target: \u001b[38;5;28mint\u001b[39m) \u001b[38;5;241m-\u001b[39m\u001b[38;5;241m>\u001b[39m \u001b[38;5;28mint\u001b[39m:\n\u001b[1;32m      3\u001b[0m         nums\u001b[38;5;241m.\u001b[39msort()\n",
      "Cell \u001b[0;32mIn[8], line 2\u001b[0m, in \u001b[0;36mSolution\u001b[0;34m()\u001b[0m\n\u001b[1;32m      1\u001b[0m \u001b[38;5;28;01mclass\u001b[39;00m\u001b[38;5;250m \u001b[39m\u001b[38;5;21;01mSolution\u001b[39;00m:\n\u001b[0;32m----> 2\u001b[0m     \u001b[38;5;28;01mdef\u001b[39;00m\u001b[38;5;250m \u001b[39m\u001b[38;5;21mthreeSumClosest\u001b[39m(\u001b[38;5;28mself\u001b[39m, nums: \u001b[43mList\u001b[49m[\u001b[38;5;28mint\u001b[39m], target: \u001b[38;5;28mint\u001b[39m) \u001b[38;5;241m-\u001b[39m\u001b[38;5;241m>\u001b[39m \u001b[38;5;28mint\u001b[39m:\n\u001b[1;32m      3\u001b[0m         nums\u001b[38;5;241m.\u001b[39msort()\n\u001b[1;32m      4\u001b[0m         n \u001b[38;5;241m=\u001b[39m\u001b[38;5;28mlen\u001b[39m(nums)\n",
      "\u001b[0;31mNameError\u001b[0m: name 'List' is not defined"
     ]
    }
   ],
   "source": [
    "class Solution:\n",
    "    def threeSumClosest(self, nums: List[int], target: int) -> int:\n",
    "        nums.sort()\n",
    "        n =len(nums)\n",
    "        best_total= nums[-3]+nums[-2]+nums[-1]\n",
    "\n",
    "        for i in range(n):\n",
    "            j, k =i+1, n-1\n",
    "            diff = best_total- target\n",
    "            \n",
    "\n",
    "            while j<k:\n",
    "                total = nums[i]+nums[j]+nums[k]\n",
    "                new_diff = total-target\n",
    "                if abs(diff)>= abs(new_diff):\n",
    "                    diff = new_diff\n",
    "                    best_total=total\n",
    "\n",
    "                if target == best_total:\n",
    "                    return best_total\n",
    "                if target < total:\n",
    "                    k-=1\n",
    "                if target>total:\n",
    "                    j+=1\n",
    "            \n",
    "        return best_total"
   ]
  },
  {
   "cell_type": "markdown",
   "id": "c68177cb-ded9-46ae-9b33-143df8c12598",
   "metadata": {},
   "source": [
    "## 1721. Swapping Nodes in a Linked List"
   ]
  },
  {
   "cell_type": "code",
   "execution_count": 11,
   "id": "6127cf7a-4aa1-4104-84a0-050a1e576f0d",
   "metadata": {},
   "outputs": [
    {
     "ename": "NameError",
     "evalue": "name 'Optional' is not defined",
     "output_type": "error",
     "traceback": [
      "\u001b[0;31m---------------------------------------------------------------------------\u001b[0m",
      "\u001b[0;31mNameError\u001b[0m                                 Traceback (most recent call last)",
      "Cell \u001b[0;32mIn[11], line 6\u001b[0m\n\u001b[1;32m      1\u001b[0m \u001b[38;5;66;03m# Definition for singly-linked list.\u001b[39;00m\n\u001b[1;32m      2\u001b[0m \u001b[38;5;66;03m# class ListNode:\u001b[39;00m\n\u001b[1;32m      3\u001b[0m \u001b[38;5;66;03m#     def __init__(self, val=0, next=None):\u001b[39;00m\n\u001b[1;32m      4\u001b[0m \u001b[38;5;66;03m#         self.val = val\u001b[39;00m\n\u001b[1;32m      5\u001b[0m \u001b[38;5;66;03m#         self.next = next\u001b[39;00m\n\u001b[0;32m----> 6\u001b[0m \u001b[38;5;28;01mclass\u001b[39;00m\u001b[38;5;250m \u001b[39m\u001b[38;5;21;01mSolution\u001b[39;00m:\n\u001b[1;32m      7\u001b[0m     \u001b[38;5;28;01mdef\u001b[39;00m\u001b[38;5;250m \u001b[39m\u001b[38;5;21mswapNodes\u001b[39m(\u001b[38;5;28mself\u001b[39m, head: Optional[ListNode], k: \u001b[38;5;28mint\u001b[39m) \u001b[38;5;241m-\u001b[39m\u001b[38;5;241m>\u001b[39m Optional[ListNode]:\n\u001b[1;32m     10\u001b[0m         length \u001b[38;5;241m=\u001b[39m\u001b[38;5;241m0\u001b[39m\n",
      "Cell \u001b[0;32mIn[11], line 7\u001b[0m, in \u001b[0;36mSolution\u001b[0;34m()\u001b[0m\n\u001b[1;32m      6\u001b[0m \u001b[38;5;28;01mclass\u001b[39;00m\u001b[38;5;250m \u001b[39m\u001b[38;5;21;01mSolution\u001b[39;00m:\n\u001b[0;32m----> 7\u001b[0m     \u001b[38;5;28;01mdef\u001b[39;00m\u001b[38;5;250m \u001b[39m\u001b[38;5;21mswapNodes\u001b[39m(\u001b[38;5;28mself\u001b[39m, head: \u001b[43mOptional\u001b[49m[ListNode], k: \u001b[38;5;28mint\u001b[39m) \u001b[38;5;241m-\u001b[39m\u001b[38;5;241m>\u001b[39m Optional[ListNode]:\n\u001b[1;32m     10\u001b[0m         length \u001b[38;5;241m=\u001b[39m\u001b[38;5;241m0\u001b[39m\n\u001b[1;32m     11\u001b[0m         head_\u001b[38;5;241m=\u001b[39m head\n",
      "\u001b[0;31mNameError\u001b[0m: name 'Optional' is not defined"
     ]
    }
   ],
   "source": [
    "# Definition for singly-linked list.\n",
    "# class ListNode:\n",
    "#     def __init__(self, val=0, next=None):\n",
    "#         self.val = val\n",
    "#         self.next = next\n",
    "class Solution:\n",
    "    def swapNodes(self, head: Optional[ListNode], k: int) -> Optional[ListNode]:\n",
    "\n",
    "\n",
    "        length =0\n",
    "        head_= head\n",
    "        values=[]\n",
    "        while head_.next:\n",
    "            length +=1\n",
    "            values.append(head_.val)\n",
    "            \n",
    "            head_=head_.next\n",
    "        values.append(head_.val)\n",
    "        \n",
    "        values = [values[k-1], values[-k]]\n",
    "        # print(values)\n",
    "        head_=head \n",
    "        pos =0\n",
    "        while head_:\n",
    "            if pos ==k-1:\n",
    "                head_.val=values[-1]\n",
    "            if pos ==length+1-k:\n",
    "                head_.val = values[0]\n",
    "            head_=head_.next\n",
    "            pos+=1\n",
    "        \n",
    "        return head\n",
    "\n",
    "# class Solution:\n",
    "#     def swapNodes(self, head: Optional[ListNode], k: int) -> Optional[ListNode]:\n",
    "#         # Find kth node from left\n",
    "#         l = r = head\n",
    "#         for _ in range(k-1):\n",
    "#             l = l.next\n",
    "#         # Find kth node from right\n",
    "#         # by finding tail node\n",
    "#         tail = l\n",
    "#         while tail.next:\n",
    "#             r, tail = r.next, tail.next\n",
    "#         # Swap values and return\n",
    "#         l.val, r.val = r.val, l.val\n",
    "#         return head\n",
    "\n",
    "\n",
    "# commented code is optimised code"
   ]
  },
  {
   "cell_type": "markdown",
   "id": "f086580f-c1ea-4494-8f7a-cef8d2ea7ccd",
   "metadata": {},
   "source": []
  },
  {
   "cell_type": "markdown",
   "id": "060e5688-85e4-4fd2-97bf-d4f9ab4aba90",
   "metadata": {},
   "source": [
    "## 19. Remove Nth Node From End of List(Medium)"
   ]
  },
  {
   "cell_type": "code",
   "execution_count": 12,
   "id": "72809999-6b41-41b6-9c85-575c1988cf44",
   "metadata": {},
   "outputs": [
    {
     "ename": "NameError",
     "evalue": "name 'Optional' is not defined",
     "output_type": "error",
     "traceback": [
      "\u001b[0;31m---------------------------------------------------------------------------\u001b[0m",
      "\u001b[0;31mNameError\u001b[0m                                 Traceback (most recent call last)",
      "Cell \u001b[0;32mIn[12], line 6\u001b[0m\n\u001b[1;32m      1\u001b[0m \u001b[38;5;66;03m# Definition for singly-linked list.\u001b[39;00m\n\u001b[1;32m      2\u001b[0m \u001b[38;5;66;03m# class ListNode:\u001b[39;00m\n\u001b[1;32m      3\u001b[0m \u001b[38;5;66;03m#     def __init__(self, val=0, next=None):\u001b[39;00m\n\u001b[1;32m      4\u001b[0m \u001b[38;5;66;03m#         self.val = val\u001b[39;00m\n\u001b[1;32m      5\u001b[0m \u001b[38;5;66;03m#         self.next = next\u001b[39;00m\n\u001b[0;32m----> 6\u001b[0m \u001b[38;5;28;01mclass\u001b[39;00m\u001b[38;5;250m \u001b[39m\u001b[38;5;21;01mSolution\u001b[39;00m:\n\u001b[1;32m      7\u001b[0m     \u001b[38;5;28;01mdef\u001b[39;00m\u001b[38;5;250m \u001b[39m\u001b[38;5;21mremoveNthFromEnd\u001b[39m(\u001b[38;5;28mself\u001b[39m, head: Optional[ListNode], n: \u001b[38;5;28mint\u001b[39m) \u001b[38;5;241m-\u001b[39m\u001b[38;5;241m>\u001b[39m Optional[ListNode]:\n\u001b[1;32m      9\u001b[0m         length \u001b[38;5;241m=\u001b[39m\u001b[38;5;241m1\u001b[39m\n",
      "Cell \u001b[0;32mIn[12], line 7\u001b[0m, in \u001b[0;36mSolution\u001b[0;34m()\u001b[0m\n\u001b[1;32m      6\u001b[0m \u001b[38;5;28;01mclass\u001b[39;00m\u001b[38;5;250m \u001b[39m\u001b[38;5;21;01mSolution\u001b[39;00m:\n\u001b[0;32m----> 7\u001b[0m     \u001b[38;5;28;01mdef\u001b[39;00m\u001b[38;5;250m \u001b[39m\u001b[38;5;21mremoveNthFromEnd\u001b[39m(\u001b[38;5;28mself\u001b[39m, head: \u001b[43mOptional\u001b[49m[ListNode], n: \u001b[38;5;28mint\u001b[39m) \u001b[38;5;241m-\u001b[39m\u001b[38;5;241m>\u001b[39m Optional[ListNode]:\n\u001b[1;32m      9\u001b[0m         length \u001b[38;5;241m=\u001b[39m\u001b[38;5;241m1\u001b[39m\n\u001b[1;32m     10\u001b[0m         s\u001b[38;5;241m=\u001b[39m head\n",
      "\u001b[0;31mNameError\u001b[0m: name 'Optional' is not defined"
     ]
    }
   ],
   "source": [
    "# Definition for singly-linked list.\n",
    "# class ListNode:\n",
    "#     def __init__(self, val=0, next=None):\n",
    "#         self.val = val\n",
    "#         self.next = next\n",
    "class Solution:\n",
    "    def removeNthFromEnd(self, head: Optional[ListNode], n: int) -> Optional[ListNode]:\n",
    "\n",
    "        length =1\n",
    "        s= head\n",
    "        while length <n+1 and s.next:\n",
    "            length +=1\n",
    "            s=s.next\n",
    "        \n",
    "        if length == n  and not s.next:\n",
    "            return head.next\n",
    "        \n",
    "        e= s\n",
    "        s =head\n",
    "\n",
    "        # print(s.val, e.val)\n",
    "        while e.next:\n",
    "            s,e = s.next, e.next\n",
    "        \n",
    "            # print(s.val, e.val)\n",
    "        \n",
    "        temp =s.next.next\n",
    "        s.next =temp\n",
    "\n",
    "        return head\n"
   ]
  },
  {
   "cell_type": "markdown",
   "id": "f7e6988b-f020-44c1-86bf-ec730a044e78",
   "metadata": {},
   "source": [
    "## 2491. Divide Players Into Teams of Equal Skill"
   ]
  },
  {
   "cell_type": "code",
   "execution_count": 13,
   "id": "f06bfa80-c7c1-4aff-b101-91803fa03344",
   "metadata": {},
   "outputs": [
    {
     "ename": "NameError",
     "evalue": "name 'List' is not defined",
     "output_type": "error",
     "traceback": [
      "\u001b[0;31m---------------------------------------------------------------------------\u001b[0m",
      "\u001b[0;31mNameError\u001b[0m                                 Traceback (most recent call last)",
      "Cell \u001b[0;32mIn[13], line 1\u001b[0m\n\u001b[0;32m----> 1\u001b[0m \u001b[38;5;28;01mclass\u001b[39;00m\u001b[38;5;250m \u001b[39m\u001b[38;5;21;01mSolution\u001b[39;00m:\n\u001b[1;32m      2\u001b[0m     \u001b[38;5;28;01mdef\u001b[39;00m\u001b[38;5;250m \u001b[39m\u001b[38;5;21mdividePlayers\u001b[39m(\u001b[38;5;28mself\u001b[39m, skill: List[\u001b[38;5;28mint\u001b[39m]) \u001b[38;5;241m-\u001b[39m\u001b[38;5;241m>\u001b[39m \u001b[38;5;28mint\u001b[39m:\n\u001b[1;32m      3\u001b[0m         skill\u001b[38;5;241m.\u001b[39msort()\n",
      "Cell \u001b[0;32mIn[13], line 2\u001b[0m, in \u001b[0;36mSolution\u001b[0;34m()\u001b[0m\n\u001b[1;32m      1\u001b[0m \u001b[38;5;28;01mclass\u001b[39;00m\u001b[38;5;250m \u001b[39m\u001b[38;5;21;01mSolution\u001b[39;00m:\n\u001b[0;32m----> 2\u001b[0m     \u001b[38;5;28;01mdef\u001b[39;00m\u001b[38;5;250m \u001b[39m\u001b[38;5;21mdividePlayers\u001b[39m(\u001b[38;5;28mself\u001b[39m, skill: \u001b[43mList\u001b[49m[\u001b[38;5;28mint\u001b[39m]) \u001b[38;5;241m-\u001b[39m\u001b[38;5;241m>\u001b[39m \u001b[38;5;28mint\u001b[39m:\n\u001b[1;32m      3\u001b[0m         skill\u001b[38;5;241m.\u001b[39msort()\n\u001b[1;32m      4\u001b[0m         chemistry \u001b[38;5;241m=\u001b[39m\u001b[38;5;241m0\u001b[39m\n",
      "\u001b[0;31mNameError\u001b[0m: name 'List' is not defined"
     ]
    }
   ],
   "source": [
    "class Solution:\n",
    "    def dividePlayers(self, skill: List[int]) -> int:\n",
    "        skill.sort()\n",
    "        chemistry =0\n",
    "        skill_sum = skill[0]+skill[-1]\n",
    "        i,j =0, len(skill)-1\n",
    "        while i < j:\n",
    "            if skill_sum != skill[i]+skill[j]:\n",
    "                return -1\n",
    "            chemistry += skill[i]*skill[j]\n",
    "            \n",
    "            i+=1\n",
    "            j-=1\n",
    "        \n",
    "        return chemistry"
   ]
  },
  {
   "cell_type": "markdown",
   "id": "b5aa3eb1-e927-4b73-a7e0-acf75255dd34",
   "metadata": {},
   "source": [
    "## 1471. The k Strongest Values in an Array"
   ]
  },
  {
   "cell_type": "code",
   "execution_count": 1,
   "id": "925fc8f8-59bf-4352-80b9-7697620740d4",
   "metadata": {},
   "outputs": [
    {
     "ename": "NameError",
     "evalue": "name 'List' is not defined",
     "output_type": "error",
     "traceback": [
      "\u001b[0;31m---------------------------------------------------------------------------\u001b[0m",
      "\u001b[0;31mNameError\u001b[0m                                 Traceback (most recent call last)",
      "Cell \u001b[0;32mIn[1], line 1\u001b[0m\n\u001b[0;32m----> 1\u001b[0m \u001b[38;5;28;01mclass\u001b[39;00m\u001b[38;5;250m \u001b[39m\u001b[38;5;21;01mSolution\u001b[39;00m:\n\u001b[1;32m      2\u001b[0m     \u001b[38;5;28;01mdef\u001b[39;00m\u001b[38;5;250m \u001b[39m\u001b[38;5;21mgetStrongest\u001b[39m(\u001b[38;5;28mself\u001b[39m, arr: List[\u001b[38;5;28mint\u001b[39m], k: \u001b[38;5;28mint\u001b[39m) \u001b[38;5;241m-\u001b[39m\u001b[38;5;241m>\u001b[39m List[\u001b[38;5;28mint\u001b[39m]:\n\u001b[1;32m      3\u001b[0m         arr\u001b[38;5;241m.\u001b[39msort()\n",
      "Cell \u001b[0;32mIn[1], line 2\u001b[0m, in \u001b[0;36mSolution\u001b[0;34m()\u001b[0m\n\u001b[1;32m      1\u001b[0m \u001b[38;5;28;01mclass\u001b[39;00m\u001b[38;5;250m \u001b[39m\u001b[38;5;21;01mSolution\u001b[39;00m:\n\u001b[0;32m----> 2\u001b[0m     \u001b[38;5;28;01mdef\u001b[39;00m\u001b[38;5;250m \u001b[39m\u001b[38;5;21mgetStrongest\u001b[39m(\u001b[38;5;28mself\u001b[39m, arr: \u001b[43mList\u001b[49m[\u001b[38;5;28mint\u001b[39m], k: \u001b[38;5;28mint\u001b[39m) \u001b[38;5;241m-\u001b[39m\u001b[38;5;241m>\u001b[39m List[\u001b[38;5;28mint\u001b[39m]:\n\u001b[1;32m      3\u001b[0m         arr\u001b[38;5;241m.\u001b[39msort()\n\u001b[1;32m      4\u001b[0m         n \u001b[38;5;241m=\u001b[39m\u001b[38;5;28mlen\u001b[39m(arr)\n",
      "\u001b[0;31mNameError\u001b[0m: name 'List' is not defined"
     ]
    }
   ],
   "source": [
    "class Solution:\n",
    "    def getStrongest(self, arr: List[int], k: int) -> List[int]:\n",
    "        arr.sort()\n",
    "        n =len(arr)\n",
    "        m = arr[(n-1)//2]\n",
    "        strong_arr=[]\n",
    "        \n",
    "        i,j =0, n-1\n",
    "        while len(strong_arr)< k:\n",
    "            if abs(arr[i]-m)> abs(arr[j]-m):\n",
    "                strong_arr.append(arr[i])\n",
    "                i+=1\n",
    "            else:\n",
    "                strong_arr.append(arr[j])\n",
    "                j-=1\n",
    "        \n",
    "        return strong_arr"
   ]
  },
  {
   "cell_type": "markdown",
   "id": "ef5aad17-05bf-480c-946b-d7cbfedeacac",
   "metadata": {},
   "source": [
    "## Prefix sum\n"
   ]
  },
  {
   "cell_type": "markdown",
   "id": "1df7661c-e3f1-4055-9ba9-b66fa4866eca",
   "metadata": {},
   "source": [
    "## 1422. Maximum Score After Splitting a String"
   ]
  },
  {
   "cell_type": "code",
   "execution_count": 2,
   "id": "a7b78304-82ad-4fe5-a5f9-19de565fe5ad",
   "metadata": {},
   "outputs": [],
   "source": [
    "class Solution:\n",
    "    def maxScore(self, s: str) -> int:\n",
    "        zero_count, one_count =0,0\n",
    "        zeros = []\n",
    "        ones = []        \n",
    "        for i in s:\n",
    "            if i =='0':\n",
    "                zero_count+=1\n",
    "            else:\n",
    "                one_count+=1\n",
    "            zeros.append(zero_count)\n",
    "            ones.append(one_count)  \n",
    "\n",
    "        ones =[ one_count-i for i in ones]\n",
    "        return max([zeros[i]+ones[i] for i in range(len(zeros)-1)])"
   ]
  },
  {
   "cell_type": "markdown",
   "id": "ac4f2c0a-60e5-4cee-ba47-de8fa5dd57d0",
   "metadata": {},
   "source": [
    "## 2485: finf pivot number\n"
   ]
  },
  {
   "cell_type": "code",
   "execution_count": 3,
   "id": "189a8b02-64c0-47a7-909e-f4982f2aa352",
   "metadata": {},
   "outputs": [],
   "source": [
    "class Solution:\n",
    "    # def \n",
    "    def pivotInteger(self, n: int) -> int:\n",
    "        if n==1:\n",
    "            return 1\n",
    "        count=0\n",
    "        sums=[]\n",
    "        for i in range(1,n+1):\n",
    "            count+=i\n",
    "            sums.append(count)\n",
    "        \n",
    "        for j in range(1, n):\n",
    "            if count-sums[j] == sums[j-1]:\n",
    "                return j+1\n",
    "        return -1\n",
    "        # sum_of_numbers = lambda x : x*(x+1)/2 \n",
    "\n",
    "        # max_sum = sum_of_numbers(n)\n",
    "        # for i in range(1,n+1):\n",
    "        #     if max_sum - sum_of_numbers(i) == sum_of_numbers(i-1):\n",
    "        #         return i\n",
    "        # return -1"
   ]
  },
  {
   "cell_type": "markdown",
   "id": "72330e8e-cd58-4db9-bef6-1b06c8172d1b",
   "metadata": {},
   "source": [
    "## 1991. Find the Middle Index in Array"
   ]
  },
  {
   "cell_type": "code",
   "execution_count": 4,
   "id": "e9d4ad6d-1bb4-46ea-89de-1b91f84b1692",
   "metadata": {},
   "outputs": [
    {
     "ename": "NameError",
     "evalue": "name 'List' is not defined",
     "output_type": "error",
     "traceback": [
      "\u001b[0;31m---------------------------------------------------------------------------\u001b[0m",
      "\u001b[0;31mNameError\u001b[0m                                 Traceback (most recent call last)",
      "Cell \u001b[0;32mIn[4], line 1\u001b[0m\n\u001b[0;32m----> 1\u001b[0m \u001b[38;5;28;01mclass\u001b[39;00m\u001b[38;5;250m \u001b[39m\u001b[38;5;21;01mSolution\u001b[39;00m:\n\u001b[1;32m      2\u001b[0m     \u001b[38;5;28;01mdef\u001b[39;00m\u001b[38;5;250m \u001b[39m\u001b[38;5;21mfindMiddleIndex\u001b[39m(\u001b[38;5;28mself\u001b[39m, nums: List[\u001b[38;5;28mint\u001b[39m]) \u001b[38;5;241m-\u001b[39m\u001b[38;5;241m>\u001b[39m \u001b[38;5;28mint\u001b[39m:\n\u001b[1;32m      3\u001b[0m         sums \u001b[38;5;241m=\u001b[39m[\u001b[38;5;241m0\u001b[39m]\n",
      "Cell \u001b[0;32mIn[4], line 2\u001b[0m, in \u001b[0;36mSolution\u001b[0;34m()\u001b[0m\n\u001b[1;32m      1\u001b[0m \u001b[38;5;28;01mclass\u001b[39;00m\u001b[38;5;250m \u001b[39m\u001b[38;5;21;01mSolution\u001b[39;00m:\n\u001b[0;32m----> 2\u001b[0m     \u001b[38;5;28;01mdef\u001b[39;00m\u001b[38;5;250m \u001b[39m\u001b[38;5;21mfindMiddleIndex\u001b[39m(\u001b[38;5;28mself\u001b[39m, nums: \u001b[43mList\u001b[49m[\u001b[38;5;28mint\u001b[39m]) \u001b[38;5;241m-\u001b[39m\u001b[38;5;241m>\u001b[39m \u001b[38;5;28mint\u001b[39m:\n\u001b[1;32m      3\u001b[0m         sums \u001b[38;5;241m=\u001b[39m[\u001b[38;5;241m0\u001b[39m]\n\u001b[1;32m      4\u001b[0m         count\u001b[38;5;241m=\u001b[39m\u001b[38;5;241m0\u001b[39m\n",
      "\u001b[0;31mNameError\u001b[0m: name 'List' is not defined"
     ]
    }
   ],
   "source": [
    "class Solution:\n",
    "    def findMiddleIndex(self, nums: List[int]) -> int:\n",
    "        sums =[0]\n",
    "        count=0\n",
    "        for i in nums:\n",
    "            count+=i\n",
    "            sums.append(count)\n",
    "        for i in range(1, len(nums)+1):\n",
    "            if count- sums[i]== sums[i-1]:\n",
    "                return i-1\n",
    "        return -1"
   ]
  },
  {
   "cell_type": "markdown",
   "id": "bf2d8f43-21e8-47a2-9a48-dd4540d5edb6",
   "metadata": {},
   "source": [
    "## 3354. Make Array Elements Equal to Zero"
   ]
  },
  {
   "cell_type": "code",
   "execution_count": 5,
   "id": "ab440386-4a03-42ae-a872-c2d9b3c43fe3",
   "metadata": {},
   "outputs": [
    {
     "ename": "NameError",
     "evalue": "name 'List' is not defined",
     "output_type": "error",
     "traceback": [
      "\u001b[0;31m---------------------------------------------------------------------------\u001b[0m",
      "\u001b[0;31mNameError\u001b[0m                                 Traceback (most recent call last)",
      "Cell \u001b[0;32mIn[5], line 1\u001b[0m\n\u001b[0;32m----> 1\u001b[0m \u001b[38;5;28;01mclass\u001b[39;00m\u001b[38;5;250m \u001b[39m\u001b[38;5;21;01mSolution\u001b[39;00m:\n\u001b[1;32m      2\u001b[0m     \u001b[38;5;28;01mdef\u001b[39;00m\u001b[38;5;250m \u001b[39m\u001b[38;5;21mcountValidSelections\u001b[39m(\u001b[38;5;28mself\u001b[39m, nums: List[\u001b[38;5;28mint\u001b[39m]) \u001b[38;5;241m-\u001b[39m\u001b[38;5;241m>\u001b[39m \u001b[38;5;28mint\u001b[39m:\n\u001b[1;32m      4\u001b[0m         count\u001b[38;5;241m=\u001b[39m\u001b[38;5;241m0\u001b[39m\n",
      "Cell \u001b[0;32mIn[5], line 2\u001b[0m, in \u001b[0;36mSolution\u001b[0;34m()\u001b[0m\n\u001b[1;32m      1\u001b[0m \u001b[38;5;28;01mclass\u001b[39;00m\u001b[38;5;250m \u001b[39m\u001b[38;5;21;01mSolution\u001b[39;00m:\n\u001b[0;32m----> 2\u001b[0m     \u001b[38;5;28;01mdef\u001b[39;00m\u001b[38;5;250m \u001b[39m\u001b[38;5;21mcountValidSelections\u001b[39m(\u001b[38;5;28mself\u001b[39m, nums: \u001b[43mList\u001b[49m[\u001b[38;5;28mint\u001b[39m]) \u001b[38;5;241m-\u001b[39m\u001b[38;5;241m>\u001b[39m \u001b[38;5;28mint\u001b[39m:\n\u001b[1;32m      4\u001b[0m         count\u001b[38;5;241m=\u001b[39m\u001b[38;5;241m0\u001b[39m\n\u001b[1;32m      5\u001b[0m         sums\u001b[38;5;241m=\u001b[39m[]\n",
      "\u001b[0;31mNameError\u001b[0m: name 'List' is not defined"
     ]
    }
   ],
   "source": [
    "class Solution:\n",
    "    def countValidSelections(self, nums: List[int]) -> int:\n",
    "\n",
    "        count=0\n",
    "        sums=[]\n",
    "        zeros =[]\n",
    "        for i in range(len(nums)):\n",
    "            count+=nums[i]\n",
    "            sums.append(count)\n",
    "            if nums[i]==0:\n",
    "                zeros.append(i)\n",
    "        outputs=0\n",
    "        # print(zeros, sums)\n",
    "        for i in zeros:\n",
    "            if count-sums[i]==sums[i]:\n",
    "        \n",
    "                outputs+=2\n",
    "            if count-sums[i] == sums[i]-1:\n",
    "                outputs+=1\n",
    "            if count-sums[i] == sums[i]+1:\n",
    "                outputs+=1\n",
    "        return outputs"
   ]
  },
  {
   "cell_type": "markdown",
   "id": "2df71d31-1e12-4511-aa69-74d36f9a1174",
   "metadata": {},
   "source": [
    "## 3364. Minimum Positive Sum Subarray"
   ]
  },
  {
   "cell_type": "code",
   "execution_count": 6,
   "id": "ced4112e-73a2-465a-aa9b-a9f5d1433c32",
   "metadata": {},
   "outputs": [
    {
     "ename": "NameError",
     "evalue": "name 'List' is not defined",
     "output_type": "error",
     "traceback": [
      "\u001b[0;31m---------------------------------------------------------------------------\u001b[0m",
      "\u001b[0;31mNameError\u001b[0m                                 Traceback (most recent call last)",
      "Cell \u001b[0;32mIn[6], line 2\u001b[0m\n\u001b[1;32m      1\u001b[0m \u001b[38;5;28;01mimport\u001b[39;00m\u001b[38;5;250m \u001b[39m\u001b[38;5;21;01mmath\u001b[39;00m\n\u001b[0;32m----> 2\u001b[0m \u001b[38;5;28;01mclass\u001b[39;00m\u001b[38;5;250m \u001b[39m\u001b[38;5;21;01mSolution\u001b[39;00m:\n\u001b[1;32m      3\u001b[0m     \u001b[38;5;28;01mdef\u001b[39;00m\u001b[38;5;250m \u001b[39m\u001b[38;5;21mminimumSumSubarray\u001b[39m(\u001b[38;5;28mself\u001b[39m, nums: List[\u001b[38;5;28mint\u001b[39m], l: \u001b[38;5;28mint\u001b[39m, r: \u001b[38;5;28mint\u001b[39m) \u001b[38;5;241m-\u001b[39m\u001b[38;5;241m>\u001b[39m \u001b[38;5;28mint\u001b[39m:\n\u001b[1;32m      4\u001b[0m         prefix_sum\u001b[38;5;241m=\u001b[39m\u001b[38;5;241m0\u001b[39m\n",
      "Cell \u001b[0;32mIn[6], line 3\u001b[0m, in \u001b[0;36mSolution\u001b[0;34m()\u001b[0m\n\u001b[1;32m      2\u001b[0m \u001b[38;5;28;01mclass\u001b[39;00m\u001b[38;5;250m \u001b[39m\u001b[38;5;21;01mSolution\u001b[39;00m:\n\u001b[0;32m----> 3\u001b[0m     \u001b[38;5;28;01mdef\u001b[39;00m\u001b[38;5;250m \u001b[39m\u001b[38;5;21mminimumSumSubarray\u001b[39m(\u001b[38;5;28mself\u001b[39m, nums: \u001b[43mList\u001b[49m[\u001b[38;5;28mint\u001b[39m], l: \u001b[38;5;28mint\u001b[39m, r: \u001b[38;5;28mint\u001b[39m) \u001b[38;5;241m-\u001b[39m\u001b[38;5;241m>\u001b[39m \u001b[38;5;28mint\u001b[39m:\n\u001b[1;32m      4\u001b[0m         prefix_sum\u001b[38;5;241m=\u001b[39m\u001b[38;5;241m0\u001b[39m\n\u001b[1;32m      5\u001b[0m         prefix_sums \u001b[38;5;241m=\u001b[39m[\u001b[38;5;241m0\u001b[39m]\n",
      "\u001b[0;31mNameError\u001b[0m: name 'List' is not defined"
     ]
    }
   ],
   "source": [
    "import math\n",
    "class Solution:\n",
    "    def minimumSumSubarray(self, nums: List[int], l: int, r: int) -> int:\n",
    "        prefix_sum=0\n",
    "        prefix_sums =[0]\n",
    "        for i in nums:\n",
    "            prefix_sum+=i\n",
    "            prefix_sums.append(prefix_sum)\n",
    "        \n",
    "        \n",
    "        \n",
    "        i = 0\n",
    "        j= i+l\n",
    "        pos_sum = math.inf\n",
    "    \n",
    "        while i<j and j < len(prefix_sums):\n",
    "            while j <= min(i+r, len(prefix_sums)-1):\n",
    "                \n",
    "                if prefix_sums[j]-prefix_sums[i] > 0:\n",
    "                    \n",
    "                    pos_sum =min(pos_sum, prefix_sums[j]-prefix_sums[i])\n",
    "                j+=1\n",
    "\n",
    "            i+=1\n",
    "            j=i+l\n",
    "        \n",
    "        if pos_sum == math.inf:\n",
    "            return -1\n",
    "        return pos_sum\n",
    "        "
   ]
  },
  {
   "cell_type": "markdown",
   "id": "d021ce26-5e8c-4b25-8ead-a9825e1451e8",
   "metadata": {},
   "source": [
    "## 1480. Running Sum of 1d Array"
   ]
  },
  {
   "cell_type": "code",
   "execution_count": 7,
   "id": "f9e00378-6acc-4d9c-b43d-cfe7035baba7",
   "metadata": {},
   "outputs": [
    {
     "ename": "NameError",
     "evalue": "name 'List' is not defined",
     "output_type": "error",
     "traceback": [
      "\u001b[0;31m---------------------------------------------------------------------------\u001b[0m",
      "\u001b[0;31mNameError\u001b[0m                                 Traceback (most recent call last)",
      "Cell \u001b[0;32mIn[7], line 1\u001b[0m\n\u001b[0;32m----> 1\u001b[0m \u001b[38;5;28;01mclass\u001b[39;00m\u001b[38;5;250m \u001b[39m\u001b[38;5;21;01mSolution\u001b[39;00m:\n\u001b[1;32m      2\u001b[0m     \u001b[38;5;28;01mdef\u001b[39;00m\u001b[38;5;250m \u001b[39m\u001b[38;5;21mrunningSum\u001b[39m(\u001b[38;5;28mself\u001b[39m, nums: List[\u001b[38;5;28mint\u001b[39m]) \u001b[38;5;241m-\u001b[39m\u001b[38;5;241m>\u001b[39m List[\u001b[38;5;28mint\u001b[39m]:\n\u001b[1;32m      3\u001b[0m         running_sums\u001b[38;5;241m=\u001b[39m[]\n",
      "Cell \u001b[0;32mIn[7], line 2\u001b[0m, in \u001b[0;36mSolution\u001b[0;34m()\u001b[0m\n\u001b[1;32m      1\u001b[0m \u001b[38;5;28;01mclass\u001b[39;00m\u001b[38;5;250m \u001b[39m\u001b[38;5;21;01mSolution\u001b[39;00m:\n\u001b[0;32m----> 2\u001b[0m     \u001b[38;5;28;01mdef\u001b[39;00m\u001b[38;5;250m \u001b[39m\u001b[38;5;21mrunningSum\u001b[39m(\u001b[38;5;28mself\u001b[39m, nums: \u001b[43mList\u001b[49m[\u001b[38;5;28mint\u001b[39m]) \u001b[38;5;241m-\u001b[39m\u001b[38;5;241m>\u001b[39m List[\u001b[38;5;28mint\u001b[39m]:\n\u001b[1;32m      3\u001b[0m         running_sums\u001b[38;5;241m=\u001b[39m[]\n\u001b[1;32m      4\u001b[0m         running_sum \u001b[38;5;241m=\u001b[39m\u001b[38;5;241m0\u001b[39m\n",
      "\u001b[0;31mNameError\u001b[0m: name 'List' is not defined"
     ]
    }
   ],
   "source": [
    "class Solution:\n",
    "    def runningSum(self, nums: List[int]) -> List[int]:\n",
    "        running_sums=[]\n",
    "        running_sum =0\n",
    "        for i in nums:\n",
    "            running_sum+=i\n",
    "            running_sums.append(running_sum)\n",
    "        return running_sums"
   ]
  },
  {
   "cell_type": "markdown",
   "id": "894218b5-6d45-4a03-aca3-e38297845f6a",
   "metadata": {},
   "source": [
    "## 3432. Count Partitions with Even Sum Difference"
   ]
  },
  {
   "cell_type": "code",
   "execution_count": 8,
   "id": "817b5774-2d38-4886-95e4-dba25fea9218",
   "metadata": {},
   "outputs": [
    {
     "ename": "NameError",
     "evalue": "name 'List' is not defined",
     "output_type": "error",
     "traceback": [
      "\u001b[0;31m---------------------------------------------------------------------------\u001b[0m",
      "\u001b[0;31mNameError\u001b[0m                                 Traceback (most recent call last)",
      "Cell \u001b[0;32mIn[8], line 1\u001b[0m\n\u001b[0;32m----> 1\u001b[0m \u001b[38;5;28;01mclass\u001b[39;00m\u001b[38;5;250m \u001b[39m\u001b[38;5;21;01mSolution\u001b[39;00m:\n\u001b[1;32m      2\u001b[0m     \u001b[38;5;28;01mdef\u001b[39;00m\u001b[38;5;250m \u001b[39m\u001b[38;5;21mcountPartitions\u001b[39m(\u001b[38;5;28mself\u001b[39m, nums: List[\u001b[38;5;28mint\u001b[39m]) \u001b[38;5;241m-\u001b[39m\u001b[38;5;241m>\u001b[39m \u001b[38;5;28mint\u001b[39m:\n\u001b[1;32m      3\u001b[0m         prefix_sum\u001b[38;5;241m=\u001b[39m\u001b[38;5;241m0\u001b[39m\n",
      "Cell \u001b[0;32mIn[8], line 2\u001b[0m, in \u001b[0;36mSolution\u001b[0;34m()\u001b[0m\n\u001b[1;32m      1\u001b[0m \u001b[38;5;28;01mclass\u001b[39;00m\u001b[38;5;250m \u001b[39m\u001b[38;5;21;01mSolution\u001b[39;00m:\n\u001b[0;32m----> 2\u001b[0m     \u001b[38;5;28;01mdef\u001b[39;00m\u001b[38;5;250m \u001b[39m\u001b[38;5;21mcountPartitions\u001b[39m(\u001b[38;5;28mself\u001b[39m, nums: \u001b[43mList\u001b[49m[\u001b[38;5;28mint\u001b[39m]) \u001b[38;5;241m-\u001b[39m\u001b[38;5;241m>\u001b[39m \u001b[38;5;28mint\u001b[39m:\n\u001b[1;32m      3\u001b[0m         prefix_sum\u001b[38;5;241m=\u001b[39m\u001b[38;5;241m0\u001b[39m\n\u001b[1;32m      4\u001b[0m         prefix_sums \u001b[38;5;241m=\u001b[39m[]\n",
      "\u001b[0;31mNameError\u001b[0m: name 'List' is not defined"
     ]
    }
   ],
   "source": [
    "class Solution:\n",
    "    def countPartitions(self, nums: List[int]) -> int:\n",
    "        prefix_sum=0\n",
    "        prefix_sums =[]\n",
    "\n",
    "        for i in nums:\n",
    "            prefix_sum+=i\n",
    "            prefix_sums.append(prefix_sum)\n",
    "\n",
    "        count=0\n",
    "        for i in prefix_sums[:-1]:\n",
    "            if ((prefix_sum-2*i)%2)==0 :\n",
    "                count+=1\n",
    "\n",
    "        return count       "
   ]
  },
  {
   "cell_type": "markdown",
   "id": "47636708-b2f1-43bf-8c7c-f50a3f4f778b",
   "metadata": {},
   "source": [
    "## 2574. Left and Right Sum Differences"
   ]
  },
  {
   "cell_type": "code",
   "execution_count": 9,
   "id": "753c161e-369f-43d9-9d1a-8923af0db530",
   "metadata": {},
   "outputs": [
    {
     "ename": "NameError",
     "evalue": "name 'List' is not defined",
     "output_type": "error",
     "traceback": [
      "\u001b[0;31m---------------------------------------------------------------------------\u001b[0m",
      "\u001b[0;31mNameError\u001b[0m                                 Traceback (most recent call last)",
      "Cell \u001b[0;32mIn[9], line 1\u001b[0m\n\u001b[0;32m----> 1\u001b[0m \u001b[38;5;28;01mclass\u001b[39;00m\u001b[38;5;250m \u001b[39m\u001b[38;5;21;01mSolution\u001b[39;00m:\n\u001b[1;32m      2\u001b[0m     \u001b[38;5;28;01mdef\u001b[39;00m\u001b[38;5;250m \u001b[39m\u001b[38;5;21mleftRightDifference\u001b[39m(\u001b[38;5;28mself\u001b[39m, nums: List[\u001b[38;5;28mint\u001b[39m]) \u001b[38;5;241m-\u001b[39m\u001b[38;5;241m>\u001b[39m List[\u001b[38;5;28mint\u001b[39m]:\n\u001b[1;32m      3\u001b[0m         prefix_sum\u001b[38;5;241m=\u001b[39m\u001b[38;5;241m0\u001b[39m\n",
      "Cell \u001b[0;32mIn[9], line 2\u001b[0m, in \u001b[0;36mSolution\u001b[0;34m()\u001b[0m\n\u001b[1;32m      1\u001b[0m \u001b[38;5;28;01mclass\u001b[39;00m\u001b[38;5;250m \u001b[39m\u001b[38;5;21;01mSolution\u001b[39;00m:\n\u001b[0;32m----> 2\u001b[0m     \u001b[38;5;28;01mdef\u001b[39;00m\u001b[38;5;250m \u001b[39m\u001b[38;5;21mleftRightDifference\u001b[39m(\u001b[38;5;28mself\u001b[39m, nums: \u001b[43mList\u001b[49m[\u001b[38;5;28mint\u001b[39m]) \u001b[38;5;241m-\u001b[39m\u001b[38;5;241m>\u001b[39m List[\u001b[38;5;28mint\u001b[39m]:\n\u001b[1;32m      3\u001b[0m         prefix_sum\u001b[38;5;241m=\u001b[39m\u001b[38;5;241m0\u001b[39m\n\u001b[1;32m      4\u001b[0m         prefix_sums\u001b[38;5;241m=\u001b[39m[\u001b[38;5;241m0\u001b[39m]\n",
      "\u001b[0;31mNameError\u001b[0m: name 'List' is not defined"
     ]
    }
   ],
   "source": [
    "class Solution:\n",
    "    def leftRightDifference(self, nums: List[int]) -> List[int]:\n",
    "        prefix_sum=0\n",
    "        prefix_sums=[0]\n",
    "        for i in nums:\n",
    "            prefix_sum +=i\n",
    "            prefix_sums.append(prefix_sum)\n",
    "        prefix_sums.append(0)\n",
    "\n",
    "        # print(prefix_sums)\n",
    "        results=[]\n",
    "\n",
    "        for i in range(1, len(nums)+1):\n",
    "            results.append(abs(prefix_sums[i-1] - (prefix_sum - prefix_sums[i])))\n",
    "        return results"
   ]
  },
  {
   "cell_type": "markdown",
   "id": "7a796b6b-e113-4b17-bbd7-1466117d02b7",
   "metadata": {},
   "source": [
    "## 724. Find Pivot Index"
   ]
  },
  {
   "cell_type": "code",
   "execution_count": 10,
   "id": "c4fb6a61-7b9c-4423-a92c-d8f9c829aed8",
   "metadata": {},
   "outputs": [
    {
     "ename": "NameError",
     "evalue": "name 'List' is not defined",
     "output_type": "error",
     "traceback": [
      "\u001b[0;31m---------------------------------------------------------------------------\u001b[0m",
      "\u001b[0;31mNameError\u001b[0m                                 Traceback (most recent call last)",
      "Cell \u001b[0;32mIn[10], line 1\u001b[0m\n\u001b[0;32m----> 1\u001b[0m \u001b[38;5;28;01mclass\u001b[39;00m\u001b[38;5;250m \u001b[39m\u001b[38;5;21;01mSolution\u001b[39;00m:\n\u001b[1;32m      2\u001b[0m     \u001b[38;5;28;01mdef\u001b[39;00m\u001b[38;5;250m \u001b[39m\u001b[38;5;21mpivotIndex\u001b[39m(\u001b[38;5;28mself\u001b[39m, nums: List[\u001b[38;5;28mint\u001b[39m]) \u001b[38;5;241m-\u001b[39m\u001b[38;5;241m>\u001b[39m \u001b[38;5;28mint\u001b[39m:\n\u001b[1;32m      3\u001b[0m         total_sum \u001b[38;5;241m=\u001b[39m \u001b[38;5;28msum\u001b[39m(nums)\n",
      "Cell \u001b[0;32mIn[10], line 2\u001b[0m, in \u001b[0;36mSolution\u001b[0;34m()\u001b[0m\n\u001b[1;32m      1\u001b[0m \u001b[38;5;28;01mclass\u001b[39;00m\u001b[38;5;250m \u001b[39m\u001b[38;5;21;01mSolution\u001b[39;00m:\n\u001b[0;32m----> 2\u001b[0m     \u001b[38;5;28;01mdef\u001b[39;00m\u001b[38;5;250m \u001b[39m\u001b[38;5;21mpivotIndex\u001b[39m(\u001b[38;5;28mself\u001b[39m, nums: \u001b[43mList\u001b[49m[\u001b[38;5;28mint\u001b[39m]) \u001b[38;5;241m-\u001b[39m\u001b[38;5;241m>\u001b[39m \u001b[38;5;28mint\u001b[39m:\n\u001b[1;32m      3\u001b[0m         total_sum \u001b[38;5;241m=\u001b[39m \u001b[38;5;28msum\u001b[39m(nums)\n\u001b[1;32m      4\u001b[0m         left_sum \u001b[38;5;241m=\u001b[39m\u001b[38;5;241m0\u001b[39m\n",
      "\u001b[0;31mNameError\u001b[0m: name 'List' is not defined"
     ]
    }
   ],
   "source": [
    "class Solution:\n",
    "    def pivotIndex(self, nums: List[int]) -> int:\n",
    "        total_sum = sum(nums)\n",
    "        left_sum =0\n",
    "\n",
    "        for  i in range(len(nums)):\n",
    "            if left_sum == total_sum-left_sum -nums[i]:\n",
    "                return i\n",
    "            left_sum+=nums[i]\n",
    "        \n",
    "        return -1"
   ]
  },
  {
   "cell_type": "markdown",
   "id": "b050b998-cbb2-44b0-b6ca-12e75d45691e",
   "metadata": {},
   "source": [
    "## 1423. Maximum Points You Can Obtain from Cards"
   ]
  },
  {
   "cell_type": "code",
   "execution_count": 11,
   "id": "a6760369-a6cc-47ac-bdaf-90f347abf9bc",
   "metadata": {},
   "outputs": [
    {
     "ename": "NameError",
     "evalue": "name 'List' is not defined",
     "output_type": "error",
     "traceback": [
      "\u001b[0;31m---------------------------------------------------------------------------\u001b[0m",
      "\u001b[0;31mNameError\u001b[0m                                 Traceback (most recent call last)",
      "Cell \u001b[0;32mIn[11], line 1\u001b[0m\n\u001b[0;32m----> 1\u001b[0m \u001b[38;5;28;01mclass\u001b[39;00m\u001b[38;5;250m \u001b[39m\u001b[38;5;21;01mSolution\u001b[39;00m:\n\u001b[1;32m      2\u001b[0m     \u001b[38;5;28;01mdef\u001b[39;00m\u001b[38;5;250m \u001b[39m\u001b[38;5;21mmaxScore\u001b[39m(\u001b[38;5;28mself\u001b[39m, cardPoints: List[\u001b[38;5;28mint\u001b[39m], k: \u001b[38;5;28mint\u001b[39m) \u001b[38;5;241m-\u001b[39m\u001b[38;5;241m>\u001b[39m \u001b[38;5;28mint\u001b[39m:\n\u001b[1;32m      3\u001b[0m         \u001b[38;5;28;01mif\u001b[39;00m \u001b[38;5;28mlen\u001b[39m(cardPoints)\u001b[38;5;241m==\u001b[39mk:\n",
      "Cell \u001b[0;32mIn[11], line 2\u001b[0m, in \u001b[0;36mSolution\u001b[0;34m()\u001b[0m\n\u001b[1;32m      1\u001b[0m \u001b[38;5;28;01mclass\u001b[39;00m\u001b[38;5;250m \u001b[39m\u001b[38;5;21;01mSolution\u001b[39;00m:\n\u001b[0;32m----> 2\u001b[0m     \u001b[38;5;28;01mdef\u001b[39;00m\u001b[38;5;250m \u001b[39m\u001b[38;5;21mmaxScore\u001b[39m(\u001b[38;5;28mself\u001b[39m, cardPoints: \u001b[43mList\u001b[49m[\u001b[38;5;28mint\u001b[39m], k: \u001b[38;5;28mint\u001b[39m) \u001b[38;5;241m-\u001b[39m\u001b[38;5;241m>\u001b[39m \u001b[38;5;28mint\u001b[39m:\n\u001b[1;32m      3\u001b[0m         \u001b[38;5;28;01mif\u001b[39;00m \u001b[38;5;28mlen\u001b[39m(cardPoints)\u001b[38;5;241m==\u001b[39mk:\n\u001b[1;32m      4\u001b[0m             \u001b[38;5;28;01mreturn\u001b[39;00m \u001b[38;5;28msum\u001b[39m(cardPoints)\n",
      "\u001b[0;31mNameError\u001b[0m: name 'List' is not defined"
     ]
    }
   ],
   "source": [
    "class Solution:\n",
    "    def maxScore(self, cardPoints: List[int], k: int) -> int:\n",
    "        if len(cardPoints)==k:\n",
    "            return sum(cardPoints)\n",
    "        \n",
    "        i,j, count =0,-1, 0\n",
    "        prefix_sum, suffix_sum=0,0\n",
    "        prefix_sums, suffix_sums =[0], [0]\n",
    "\n",
    "\n",
    "        while count<k:\n",
    "            prefix_sum +=cardPoints[i]\n",
    "            suffix_sum += cardPoints[j]\n",
    "\n",
    "            prefix_sums.append(prefix_sum)\n",
    "            suffix_sums.append(suffix_sum)\n",
    "\n",
    "            i+=1\n",
    "            j-=1\n",
    "        \n",
    "            count+=1\n",
    "        \n",
    "        # print(prefix_sums, suffix_sums)\n",
    "        \n",
    "        \n",
    "        i, j =0,k\n",
    "        max_sum = -float(inf)\n",
    "\n",
    "        while i < len(prefix_sums) and j >=0:\n",
    "            max_sum = max(max_sum, prefix_sums[i]+suffix_sums[j])\n",
    "            i+=1\n",
    "            j-=1\n",
    "        \n",
    "        return max_sum\n",
    "\n",
    "# class Solution:\n",
    "#     def maxScore(self, nums: List[int], k: int) -> int:\n",
    "#         lsum=sum(nums[:k])\n",
    "#         rsum=0\n",
    "#         mx=sum(nums[:k])\n",
    "#         n=len(nums)\n",
    "#         ind=n-1\n",
    "#         rsum=0\n",
    "#         for i in range(k-1,-1,-1):\n",
    "#             lsum-=nums[i]\n",
    "#             rsum+=nums[ind]\n",
    "#             ind-=1\n",
    "#             mx=max(mx,lsum+rsum)\n",
    "#         return mx\n",
    "\n",
    "# commented code is optimised code\n",
    "\n",
    "        "
   ]
  },
  {
   "cell_type": "markdown",
   "id": "10b28aa0-3e4c-4a3b-8bb1-d5cfaa6a5269",
   "metadata": {},
   "source": [
    "## 3028. Ant on the Boundary"
   ]
  },
  {
   "cell_type": "code",
   "execution_count": 1,
   "id": "7f77c260-303b-49fb-8859-b71b0943d11b",
   "metadata": {},
   "outputs": [
    {
     "ename": "NameError",
     "evalue": "name 'List' is not defined",
     "output_type": "error",
     "traceback": [
      "\u001b[0;31m---------------------------------------------------------------------------\u001b[0m",
      "\u001b[0;31mNameError\u001b[0m                                 Traceback (most recent call last)",
      "Cell \u001b[0;32mIn[1], line 1\u001b[0m\n\u001b[0;32m----> 1\u001b[0m \u001b[38;5;28;01mclass\u001b[39;00m\u001b[38;5;250m \u001b[39m\u001b[38;5;21;01mSolution\u001b[39;00m:\n\u001b[1;32m      2\u001b[0m     \u001b[38;5;28;01mdef\u001b[39;00m\u001b[38;5;250m \u001b[39m\u001b[38;5;21mreturnToBoundaryCount\u001b[39m(\u001b[38;5;28mself\u001b[39m, nums: List[\u001b[38;5;28mint\u001b[39m]) \u001b[38;5;241m-\u001b[39m\u001b[38;5;241m>\u001b[39m \u001b[38;5;28mint\u001b[39m:\n\u001b[1;32m      3\u001b[0m         prefix_sum, count \u001b[38;5;241m=\u001b[39m\u001b[38;5;241m0\u001b[39m, \u001b[38;5;241m0\u001b[39m\n",
      "Cell \u001b[0;32mIn[1], line 2\u001b[0m, in \u001b[0;36mSolution\u001b[0;34m()\u001b[0m\n\u001b[1;32m      1\u001b[0m \u001b[38;5;28;01mclass\u001b[39;00m\u001b[38;5;250m \u001b[39m\u001b[38;5;21;01mSolution\u001b[39;00m:\n\u001b[0;32m----> 2\u001b[0m     \u001b[38;5;28;01mdef\u001b[39;00m\u001b[38;5;250m \u001b[39m\u001b[38;5;21mreturnToBoundaryCount\u001b[39m(\u001b[38;5;28mself\u001b[39m, nums: \u001b[43mList\u001b[49m[\u001b[38;5;28mint\u001b[39m]) \u001b[38;5;241m-\u001b[39m\u001b[38;5;241m>\u001b[39m \u001b[38;5;28mint\u001b[39m:\n\u001b[1;32m      3\u001b[0m         prefix_sum, count \u001b[38;5;241m=\u001b[39m\u001b[38;5;241m0\u001b[39m, \u001b[38;5;241m0\u001b[39m\n\u001b[1;32m      5\u001b[0m         \u001b[38;5;28;01mfor\u001b[39;00m i \u001b[38;5;129;01min\u001b[39;00m nums:\n",
      "\u001b[0;31mNameError\u001b[0m: name 'List' is not defined"
     ]
    }
   ],
   "source": [
    "class Solution:\n",
    "    def returnToBoundaryCount(self, nums: List[int]) -> int:\n",
    "        prefix_sum, count =0, 0\n",
    "\n",
    "        for i in nums:\n",
    "            prefix_sum+=i\n",
    "            if prefix_sum==0:\n",
    "                count+=1\n",
    "        return count\n",
    "        # return sum(n == 0 for n in accumulate(nums))\n"
   ]
  },
  {
   "cell_type": "markdown",
   "id": "5b6e0dc7-76a0-4c24-acff-07760f1b7260",
   "metadata": {},
   "source": [
    "## 1732. Find the Highest Altitude"
   ]
  },
  {
   "cell_type": "code",
   "execution_count": 2,
   "id": "0f5a2e4f-ef7e-40a1-85e0-f657a7342d44",
   "metadata": {},
   "outputs": [
    {
     "ename": "NameError",
     "evalue": "name 'List' is not defined",
     "output_type": "error",
     "traceback": [
      "\u001b[0;31m---------------------------------------------------------------------------\u001b[0m",
      "\u001b[0;31mNameError\u001b[0m                                 Traceback (most recent call last)",
      "Cell \u001b[0;32mIn[2], line 1\u001b[0m\n\u001b[0;32m----> 1\u001b[0m \u001b[38;5;28;01mclass\u001b[39;00m\u001b[38;5;250m \u001b[39m\u001b[38;5;21;01mSolution\u001b[39;00m:\n\u001b[1;32m      2\u001b[0m     \u001b[38;5;28;01mdef\u001b[39;00m\u001b[38;5;250m \u001b[39m\u001b[38;5;21mlargestAltitude\u001b[39m(\u001b[38;5;28mself\u001b[39m, gain: List[\u001b[38;5;28mint\u001b[39m]) \u001b[38;5;241m-\u001b[39m\u001b[38;5;241m>\u001b[39m \u001b[38;5;28mint\u001b[39m:\n\u001b[1;32m      3\u001b[0m         \u001b[38;5;28;01mreturn\u001b[39;00m \u001b[38;5;28mmax\u001b[39m(\u001b[38;5;241m0\u001b[39m,\u001b[38;5;28mmax\u001b[39m(accumulate(gain)))\n",
      "Cell \u001b[0;32mIn[2], line 2\u001b[0m, in \u001b[0;36mSolution\u001b[0;34m()\u001b[0m\n\u001b[1;32m      1\u001b[0m \u001b[38;5;28;01mclass\u001b[39;00m\u001b[38;5;250m \u001b[39m\u001b[38;5;21;01mSolution\u001b[39;00m:\n\u001b[0;32m----> 2\u001b[0m     \u001b[38;5;28;01mdef\u001b[39;00m\u001b[38;5;250m \u001b[39m\u001b[38;5;21mlargestAltitude\u001b[39m(\u001b[38;5;28mself\u001b[39m, gain: \u001b[43mList\u001b[49m[\u001b[38;5;28mint\u001b[39m]) \u001b[38;5;241m-\u001b[39m\u001b[38;5;241m>\u001b[39m \u001b[38;5;28mint\u001b[39m:\n\u001b[1;32m      3\u001b[0m         \u001b[38;5;28;01mreturn\u001b[39;00m \u001b[38;5;28mmax\u001b[39m(\u001b[38;5;241m0\u001b[39m,\u001b[38;5;28mmax\u001b[39m(accumulate(gain)))\n",
      "\u001b[0;31mNameError\u001b[0m: name 'List' is not defined"
     ]
    }
   ],
   "source": [
    "class Solution:\n",
    "    def largestAltitude(self, gain: List[int]) -> int:\n",
    "        return max(0,max(accumulate(gain)))\n",
    "        "
   ]
  },
  {
   "cell_type": "markdown",
   "id": "e1cf17e5-e666-4f16-94cf-9cb102f75d34",
   "metadata": {},
   "source": [
    "## 523. Continuous Subarray Sum"
   ]
  },
  {
   "cell_type": "code",
   "execution_count": 3,
   "id": "6ae63b82-b66c-48b8-b4c5-a6e20d6a3db1",
   "metadata": {},
   "outputs": [
    {
     "ename": "NameError",
     "evalue": "name 'List' is not defined",
     "output_type": "error",
     "traceback": [
      "\u001b[0;31m---------------------------------------------------------------------------\u001b[0m",
      "\u001b[0;31mNameError\u001b[0m                                 Traceback (most recent call last)",
      "Cell \u001b[0;32mIn[3], line 1\u001b[0m\n\u001b[0;32m----> 1\u001b[0m \u001b[38;5;28;01mclass\u001b[39;00m\u001b[38;5;250m \u001b[39m\u001b[38;5;21;01mSolution\u001b[39;00m:\n\u001b[1;32m      2\u001b[0m     \u001b[38;5;28;01mdef\u001b[39;00m\u001b[38;5;250m \u001b[39m\u001b[38;5;21mcheckSubarraySum\u001b[39m(\u001b[38;5;28mself\u001b[39m, nums: List[\u001b[38;5;28mint\u001b[39m], k: \u001b[38;5;28mint\u001b[39m):\n\u001b[1;32m      3\u001b[0m         \u001b[38;5;66;03m# sums=[0]\u001b[39;00m\n\u001b[1;32m      4\u001b[0m         sums \u001b[38;5;241m=\u001b[39m accumulate(nums)\n",
      "Cell \u001b[0;32mIn[3], line 2\u001b[0m, in \u001b[0;36mSolution\u001b[0;34m()\u001b[0m\n\u001b[1;32m      1\u001b[0m \u001b[38;5;28;01mclass\u001b[39;00m\u001b[38;5;250m \u001b[39m\u001b[38;5;21;01mSolution\u001b[39;00m:\n\u001b[0;32m----> 2\u001b[0m     \u001b[38;5;28;01mdef\u001b[39;00m\u001b[38;5;250m \u001b[39m\u001b[38;5;21mcheckSubarraySum\u001b[39m(\u001b[38;5;28mself\u001b[39m, nums: \u001b[43mList\u001b[49m[\u001b[38;5;28mint\u001b[39m], k: \u001b[38;5;28mint\u001b[39m):\n\u001b[1;32m      3\u001b[0m         \u001b[38;5;66;03m# sums=[0]\u001b[39;00m\n\u001b[1;32m      4\u001b[0m         sums \u001b[38;5;241m=\u001b[39m accumulate(nums)\n\u001b[1;32m      6\u001b[0m         x \u001b[38;5;241m=\u001b[39m \u001b[38;5;28;01mlambda\u001b[39;00m a,k :[ i\u001b[38;5;241m%\u001b[39mk \u001b[38;5;28;01mfor\u001b[39;00m i \u001b[38;5;129;01min\u001b[39;00m a]\n",
      "\u001b[0;31mNameError\u001b[0m: name 'List' is not defined"
     ]
    }
   ],
   "source": [
    "class Solution:\n",
    "    def checkSubarraySum(self, nums: List[int], k: int):\n",
    "        # sums=[0]\n",
    "        sums = accumulate(nums)\n",
    "\n",
    "        x = lambda a,k :[ i%k for i in a]\n",
    "\n",
    "        sums = x(sums, k)\n",
    "\n",
    "        index_dict ={}\n",
    "        for i in range(len(sums)):\n",
    "            if sums[i]==0 and i>=1:\n",
    "                return True\n",
    "            if sums[i] in index_dict:\n",
    "                # print(i, sums[i], index_dict)\n",
    "                if i-index_dict[sums[i]] >= 2:\n",
    "                    return True\n",
    "                \n",
    "            else:\n",
    "                index_dict[sums[i]] = i\n",
    "        \n",
    "        # print(index_dict)\n",
    "        \n",
    "        return False"
   ]
  },
  {
   "cell_type": "markdown",
   "id": "1d4681c9-bafa-4577-b544-8b62761ecad4",
   "metadata": {},
   "source": [
    "## 303. Range Sum Query - Immutable"
   ]
  },
  {
   "cell_type": "code",
   "execution_count": 4,
   "id": "d1da773d-847b-4e7b-b0f5-f825ad454422",
   "metadata": {},
   "outputs": [
    {
     "ename": "NameError",
     "evalue": "name 'List' is not defined",
     "output_type": "error",
     "traceback": [
      "\u001b[0;31m---------------------------------------------------------------------------\u001b[0m",
      "\u001b[0;31mNameError\u001b[0m                                 Traceback (most recent call last)",
      "Cell \u001b[0;32mIn[4], line 1\u001b[0m\n\u001b[0;32m----> 1\u001b[0m \u001b[38;5;28;01mclass\u001b[39;00m\u001b[38;5;250m \u001b[39m\u001b[38;5;21;01mNumArray\u001b[39;00m:\n\u001b[1;32m      3\u001b[0m     \u001b[38;5;28;01mdef\u001b[39;00m\u001b[38;5;250m \u001b[39m\u001b[38;5;21m__init__\u001b[39m(\u001b[38;5;28mself\u001b[39m, nums: List[\u001b[38;5;28mint\u001b[39m]):\n\u001b[1;32m      4\u001b[0m         \u001b[38;5;66;03m# print(accumulate(nums))\u001b[39;00m\n\u001b[1;32m      5\u001b[0m         \u001b[38;5;66;03m# print(nums)\u001b[39;00m\n\u001b[1;32m      6\u001b[0m         \u001b[38;5;28mself\u001b[39m\u001b[38;5;241m.\u001b[39mnums \u001b[38;5;241m=\u001b[39m \u001b[38;5;28mlist\u001b[39m(accumulate(nums))\n",
      "Cell \u001b[0;32mIn[4], line 3\u001b[0m, in \u001b[0;36mNumArray\u001b[0;34m()\u001b[0m\n\u001b[1;32m      1\u001b[0m \u001b[38;5;28;01mclass\u001b[39;00m\u001b[38;5;250m \u001b[39m\u001b[38;5;21;01mNumArray\u001b[39;00m:\n\u001b[0;32m----> 3\u001b[0m     \u001b[38;5;28;01mdef\u001b[39;00m\u001b[38;5;250m \u001b[39m\u001b[38;5;21m__init__\u001b[39m(\u001b[38;5;28mself\u001b[39m, nums: \u001b[43mList\u001b[49m[\u001b[38;5;28mint\u001b[39m]):\n\u001b[1;32m      4\u001b[0m         \u001b[38;5;66;03m# print(accumulate(nums))\u001b[39;00m\n\u001b[1;32m      5\u001b[0m         \u001b[38;5;66;03m# print(nums)\u001b[39;00m\n\u001b[1;32m      6\u001b[0m         \u001b[38;5;28mself\u001b[39m\u001b[38;5;241m.\u001b[39mnums \u001b[38;5;241m=\u001b[39m \u001b[38;5;28mlist\u001b[39m(accumulate(nums))\n\u001b[1;32m      7\u001b[0m         \u001b[38;5;66;03m# print(self.nums)\u001b[39;00m\n",
      "\u001b[0;31mNameError\u001b[0m: name 'List' is not defined"
     ]
    }
   ],
   "source": [
    "class NumArray:\n",
    "\n",
    "    def __init__(self, nums: List[int]):\n",
    "        # print(accumulate(nums))\n",
    "        # print(nums)\n",
    "        self.nums = list(accumulate(nums))\n",
    "        # print(self.nums)\n",
    "        \n",
    "\n",
    "\n",
    "    def sumRange(self, left: int, right: int) -> int:\n",
    "        if left ==0:\n",
    "            return self.nums[right]\n",
    "        return self.nums[right]- self.nums[left-1]"
   ]
  },
  {
   "cell_type": "markdown",
   "id": "00f5e6c0-d6ec-4f90-a664-1fb04a5631ec",
   "metadata": {},
   "source": [
    "## 2389. Longest Subsequence With Limited Sum"
   ]
  },
  {
   "cell_type": "code",
   "execution_count": 5,
   "id": "76277e79-5ebe-45fa-93d3-62c13fca54ce",
   "metadata": {},
   "outputs": [
    {
     "ename": "NameError",
     "evalue": "name 'List' is not defined",
     "output_type": "error",
     "traceback": [
      "\u001b[0;31m---------------------------------------------------------------------------\u001b[0m",
      "\u001b[0;31mNameError\u001b[0m                                 Traceback (most recent call last)",
      "Cell \u001b[0;32mIn[5], line 1\u001b[0m\n\u001b[0;32m----> 1\u001b[0m \u001b[38;5;28;01mclass\u001b[39;00m\u001b[38;5;250m \u001b[39m\u001b[38;5;21;01mSolution\u001b[39;00m:\n\u001b[1;32m      2\u001b[0m     \u001b[38;5;28;01mdef\u001b[39;00m\u001b[38;5;250m \u001b[39m\u001b[38;5;21manswerQueries\u001b[39m(\u001b[38;5;28mself\u001b[39m, nums: List[\u001b[38;5;28mint\u001b[39m], queries: List[\u001b[38;5;28mint\u001b[39m]) \u001b[38;5;241m-\u001b[39m\u001b[38;5;241m>\u001b[39m List[\u001b[38;5;28mint\u001b[39m]:\n\u001b[1;32m      3\u001b[0m         nums\u001b[38;5;241m.\u001b[39msort()\n",
      "Cell \u001b[0;32mIn[5], line 2\u001b[0m, in \u001b[0;36mSolution\u001b[0;34m()\u001b[0m\n\u001b[1;32m      1\u001b[0m \u001b[38;5;28;01mclass\u001b[39;00m\u001b[38;5;250m \u001b[39m\u001b[38;5;21;01mSolution\u001b[39;00m:\n\u001b[0;32m----> 2\u001b[0m     \u001b[38;5;28;01mdef\u001b[39;00m\u001b[38;5;250m \u001b[39m\u001b[38;5;21manswerQueries\u001b[39m(\u001b[38;5;28mself\u001b[39m, nums: \u001b[43mList\u001b[49m[\u001b[38;5;28mint\u001b[39m], queries: List[\u001b[38;5;28mint\u001b[39m]) \u001b[38;5;241m-\u001b[39m\u001b[38;5;241m>\u001b[39m List[\u001b[38;5;28mint\u001b[39m]:\n\u001b[1;32m      3\u001b[0m         nums\u001b[38;5;241m.\u001b[39msort()\n\u001b[1;32m      4\u001b[0m         nums \u001b[38;5;241m=\u001b[39m(\u001b[38;5;28mlist\u001b[39m(accumulate(nums)))\n",
      "\u001b[0;31mNameError\u001b[0m: name 'List' is not defined"
     ]
    }
   ],
   "source": [
    "class Solution:\n",
    "    def answerQueries(self, nums: List[int], queries: List[int]) -> List[int]:\n",
    "        nums.sort()\n",
    "        nums =(list(accumulate(nums)))\n",
    "        # print(nums)\n",
    "        result_dict={}\n",
    "        results =[]\n",
    "\n",
    "        for query in queries:\n",
    "            if result_dict.get(query):\n",
    "                results.append(result_dict[query])\n",
    "            else:\n",
    "                count=0\n",
    "                for i in nums:\n",
    "                    if query >= i:\n",
    "                        print(query<i)\n",
    "                        count+=1\n",
    "                    else:\n",
    "                        break\n",
    "                # print(count)\n",
    "                \n",
    "                # else:\n",
    "                result_dict[query]  = count\n",
    "                results.append(count)\n",
    "        \n",
    "        return results"
   ]
  },
  {
   "cell_type": "markdown",
   "id": "0acdbbe4-15fd-44ee-b1cc-2dae9b5b6bc3",
   "metadata": {},
   "source": [
    "## 525. Contiguous Array"
   ]
  },
  {
   "cell_type": "code",
   "execution_count": 6,
   "id": "e1dec0eb-dc23-472a-8c77-132455db3f92",
   "metadata": {},
   "outputs": [
    {
     "ename": "NameError",
     "evalue": "name 'List' is not defined",
     "output_type": "error",
     "traceback": [
      "\u001b[0;31m---------------------------------------------------------------------------\u001b[0m",
      "\u001b[0;31mNameError\u001b[0m                                 Traceback (most recent call last)",
      "Cell \u001b[0;32mIn[6], line 1\u001b[0m\n\u001b[0;32m----> 1\u001b[0m \u001b[38;5;28;01mclass\u001b[39;00m\u001b[38;5;250m \u001b[39m\u001b[38;5;21;01mSolution\u001b[39;00m:\n\u001b[1;32m      2\u001b[0m     \u001b[38;5;28;01mdef\u001b[39;00m\u001b[38;5;250m \u001b[39m\u001b[38;5;21mfindMaxLength\u001b[39m(\u001b[38;5;28mself\u001b[39m, nums: List[\u001b[38;5;28mint\u001b[39m]) \u001b[38;5;241m-\u001b[39m\u001b[38;5;241m>\u001b[39m \u001b[38;5;28mint\u001b[39m:\n\u001b[1;32m      3\u001b[0m         \u001b[38;5;28;01mif\u001b[39;00m \u001b[38;5;28mlen\u001b[39m(nums)\u001b[38;5;241m<\u001b[39m\u001b[38;5;241m2\u001b[39m :\n",
      "Cell \u001b[0;32mIn[6], line 2\u001b[0m, in \u001b[0;36mSolution\u001b[0;34m()\u001b[0m\n\u001b[1;32m      1\u001b[0m \u001b[38;5;28;01mclass\u001b[39;00m\u001b[38;5;250m \u001b[39m\u001b[38;5;21;01mSolution\u001b[39;00m:\n\u001b[0;32m----> 2\u001b[0m     \u001b[38;5;28;01mdef\u001b[39;00m\u001b[38;5;250m \u001b[39m\u001b[38;5;21mfindMaxLength\u001b[39m(\u001b[38;5;28mself\u001b[39m, nums: \u001b[43mList\u001b[49m[\u001b[38;5;28mint\u001b[39m]) \u001b[38;5;241m-\u001b[39m\u001b[38;5;241m>\u001b[39m \u001b[38;5;28mint\u001b[39m:\n\u001b[1;32m      3\u001b[0m         \u001b[38;5;28;01mif\u001b[39;00m \u001b[38;5;28mlen\u001b[39m(nums)\u001b[38;5;241m<\u001b[39m\u001b[38;5;241m2\u001b[39m :\n\u001b[1;32m      4\u001b[0m             \u001b[38;5;28;01mreturn\u001b[39;00m \u001b[38;5;241m0\u001b[39m\n",
      "\u001b[0;31mNameError\u001b[0m: name 'List' is not defined"
     ]
    }
   ],
   "source": [
    "class Solution:\n",
    "    def findMaxLength(self, nums: List[int]) -> int:\n",
    "        if len(nums)<2 :\n",
    "            return 0\n",
    "\n",
    "        accumulate_nums = [0]\n",
    "\n",
    "        nums =[-1 if x ==0 else x for x in nums]\n",
    "        # print(accumulate_nums+list(accumulate(nums)))\n",
    "\n",
    "        accumulate_nums +=  list(accumulate(nums))\n",
    "        # print(accumulate_nums)\n",
    "\n",
    "        accumulate_dict ={}\n",
    "        max_length =0\n",
    "\n",
    "        for i in range(len(accumulate_nums)):\n",
    "            if accumulate_nums[i]!=0 and  accumulate_nums[i] in accumulate_dict:\n",
    "                max_length = max( i -  accumulate_dict[accumulate_nums[i]], max_length)\n",
    "            \n",
    "            elif accumulate_nums[i] ==0:\n",
    "                max_length = max(max_length, i)\n",
    "            \n",
    "            else:\n",
    "                \n",
    "                accumulate_dict[accumulate_nums[i]] =i\n",
    "\n",
    "        return max_length\n",
    "\n",
    "\"\"\"\n",
    "class Solution:\n",
    "    def findMaxLength(self, nums: List[int]) -> int:\n",
    "        n=len(nums)\n",
    "        n1=0\n",
    "        n0=0\n",
    "        maxLen=0\n",
    "        mp={}\n",
    "        mp[0]=-1\n",
    "        for i in range(n):\n",
    "            n1+=nums[i]\n",
    "            n0=(i+1)-n1\n",
    "            if (n1-n0) in mp:\n",
    "                maxLen=max(maxLen, i-mp[n1-n0])\n",
    "            else:\n",
    "                mp[n1-n0]=i\n",
    "        return maxLen\n",
    "\"\"\"\n",
    "# commented if the best solution"
   ]
  },
  {
   "cell_type": "markdown",
   "id": "4a9f0e09",
   "metadata": {},
   "source": [
    "# 1413. Minimum Value to Get Positive Step by Step Sum"
   ]
  },
  {
   "cell_type": "code",
   "execution_count": null,
   "id": "adc47cbb",
   "metadata": {},
   "outputs": [],
   "source": [
    "class Solution:\n",
    "    def minStartValue(self, nums: List[int]) -> int:\n",
    "        sum=0\n",
    "        prefix_nums =[]\n",
    "        for i in nums:\n",
    "            sum +=i\n",
    "            prefix_nums.append(sum)\n",
    "        return -1*min(prefix_nums) +1 if min(prefix_nums) <0 else 1\n",
    "    \n",
    "# commented code is the best solution\n",
    "class Solution:\n",
    "    def minStartValue(self, nums: List[int]) -> int:\n",
    "        min_sum = float('inf')\n",
    "        current_sum = 0\n",
    "        \n",
    "        for num in nums:\n",
    "            current_sum += num\n",
    "            min_sum = min(min_sum, current_sum)\n",
    "        \n",
    "        return max(1, 1 - min_sum)  # Ensure at least a start value of 1\n"
   ]
  },
  {
   "cell_type": "markdown",
   "id": "fe7f1458",
   "metadata": {},
   "source": [
    "# 2848. Points That Intersect With Cars"
   ]
  },
  {
   "cell_type": "code",
   "execution_count": null,
   "id": "1816b148",
   "metadata": {},
   "outputs": [],
   "source": [
    "class Solution:\n",
    "    def numberOfPoints(self, nums: List[List[int]]) -> int:\n",
    "        # max_ =  float('-inf')\n",
    "        # min_= float('inf')\n",
    "        # count=0\n",
    "\n",
    "        # for start, end in nums:\n",
    "        #     min_ = min(min_, start)\n",
    "        #     max_ = max(max_, end)\n",
    "\n",
    "        # for i in range(min_, max_):\n",
    "        #     for j,k in nums:\n",
    "        #         if  i in range(j, k+1):\n",
    "        #             count+=1\n",
    "        #             break\n",
    "                \n",
    "        # return  count+1\n",
    "        nums_=set()\n",
    "        for i, j in nums:\n",
    "            nums_.update(range(i,j+1))\n",
    "        return len((nums_))"
   ]
  },
  {
   "cell_type": "markdown",
   "id": "d76dfa7d",
   "metadata": {},
   "source": [
    "# 3427. Sum of Variable Length Subarrays"
   ]
  },
  {
   "cell_type": "code",
   "execution_count": null,
   "id": "de1ffb27",
   "metadata": {},
   "outputs": [],
   "source": [
    "class Solution:\n",
    "    def subarraySum(self, nums: List[int]) -> int:\n",
    "        start = [max(0,i-nums[i]) for i in range(len(nums))]\n",
    "        ans =0\n",
    "        for i, v in enumerate(start):\n",
    "            if v ==0:\n",
    "                ans+= sum(nums[:i+1])\n",
    "            else:\n",
    "                ans+= sum(nums[v:i+1])\n",
    "        return ans"
   ]
  },
  {
   "cell_type": "code",
   "execution_count": null,
   "id": "4d63979e",
   "metadata": {},
   "outputs": [],
   "source": []
  }
 ],
 "metadata": {
  "kernelspec": {
   "display_name": "Python 3 (ipykernel)",
   "language": "python",
   "name": "python3"
  },
  "language_info": {
   "codemirror_mode": {
    "name": "ipython",
    "version": 3
   },
   "file_extension": ".py",
   "mimetype": "text/x-python",
   "name": "python",
   "nbconvert_exporter": "python",
   "pygments_lexer": "ipython3",
   "version": "3.8.20"
  }
 },
 "nbformat": 4,
 "nbformat_minor": 5
}
