{
 "cells": [
  {
   "cell_type": "markdown",
   "id": "9e276f10",
   "metadata": {},
   "source": [
    "# 13. Roman to Integer (easy)\n"
   ]
  },
  {
   "cell_type": "code",
   "execution_count": 22,
   "id": "590280d3",
   "metadata": {},
   "outputs": [
    {
     "data": {
      "text/plain": [
       "1476"
      ]
     },
     "execution_count": 22,
     "metadata": {},
     "output_type": "execute_result"
    }
   ],
   "source": [
    "def romanToInt(s: str) -> int:\n",
    "        \n",
    "    values = {\"I\":1, \"V\":5, \"X\":10, \"L\":50, \"C\":100, \"D\":500, \"M\":1000}\n",
    "    numbers =[values[s[0]]]\n",
    "    for i in s[1:]:\n",
    "        if values[i] > numbers[-1]:\n",
    "            numbers[-1]*= -1\n",
    "        numbers.append(values[i])\n",
    "\n",
    "    return sum(numbers)"
   ]
  },
  {
   "cell_type": "markdown",
   "id": "87016d85",
   "metadata": {},
   "source": [
    "##  58. Length of Last Word (easy)"
   ]
  },
  {
   "cell_type": "code",
   "execution_count": 33,
   "id": "38f8ee71",
   "metadata": {},
   "outputs": [
    {
     "data": {
      "text/plain": [
       "0"
      ]
     },
     "execution_count": 33,
     "metadata": {},
     "output_type": "execute_result"
    }
   ],
   "source": [
    "def lengthOfLastWord(s: str) -> int:\n",
    "    # return len(s.split()[-1])\n",
    "    i=len(s)-1\n",
    "    count=0\n",
    "    condition = True\n",
    "    while condition and i>=0 :\n",
    "        if s[i] !=' ':\n",
    "            count+=1\n",
    "            i-=1\n",
    "        elif s[i]==' ' and count ==0:\n",
    "            i-=1\n",
    "        else:\n",
    "            condition = False\n",
    "    return count"
   ]
  },
  {
   "cell_type": "markdown",
   "id": "d68ef80e",
   "metadata": {},
   "source": [
    "## 14. Longest Common Prefix(easy) not done"
   ]
  },
  {
   "cell_type": "code",
   "execution_count": 41,
   "id": "b2e836ff",
   "metadata": {},
   "outputs": [],
   "source": [
    "strs = [\"flower\",\"flow\",\"flight\"]\n",
    "# count=0\n",
    "# while True:\n",
    "#     for i in strs:\n",
    "#         if strs[0][count] != strs[i][count]:\n",
    "#             if count ==0:\n",
    "#                 return \"\"\n",
    "#             else:\n",
    "#                 return strs[0][:count]\n",
    "def longestCommonPrefix( strs) -> str:\n",
    "        count=0\n",
    "        while True:\n",
    "            for i in strs:\n",
    "                if strs[0][count] != i[count]:\n",
    "                    if count ==0:\n",
    "                        return \"\"\n",
    "                    else:\n",
    "                        return strs[0][:count]\n",
    "            count+=1\n",
    "    "
   ]
  },
  {
   "cell_type": "markdown",
   "id": "ad4a4ea7",
   "metadata": {},
   "source": [
    "##  28. Find the Index of the First Occurrence in a String (easy)"
   ]
  },
  {
   "cell_type": "code",
   "execution_count": 50,
   "id": "477fc5f0",
   "metadata": {},
   "outputs": [
    {
     "data": {
      "text/plain": [
       "['he', 'o']"
      ]
     },
     "execution_count": 50,
     "metadata": {},
     "output_type": "execute_result"
    }
   ],
   "source": [
    "def strStr( haystack: str, needle: str) -> int:\n",
    "        \n",
    "        for i in range(0, len(haystack)):\n",
    "            if haystack[i:i+len(needle)] == needle:\n",
    "                return i\n",
    "            i+=1\n",
    "        return -1"
   ]
  },
  {
   "cell_type": "markdown",
   "id": "fd727a01",
   "metadata": {},
   "source": [
    "## 125. Valid Palindrome (easy)"
   ]
  },
  {
   "cell_type": "code",
   "execution_count": 63,
   "id": "87dda618",
   "metadata": {},
   "outputs": [
    {
     "data": {
      "text/plain": [
       "True"
      ]
     },
     "execution_count": 63,
     "metadata": {},
     "output_type": "execute_result"
    }
   ],
   "source": [
    "def isPalindrome(s: str) -> bool: #my answer\n",
    "        alphas=[]\n",
    "        for i in range(len(s)):\n",
    "            if s[i].isalpha() or s[i].isnumeric():\n",
    "                alphas.append(s[i].lower())\n",
    "        return alphas == alphas[::-1]\n",
    "\n",
    "def isPalindrome( s: str) -> bool: #better code\n",
    "        l = 0\n",
    "        r = len(s) - 1\n",
    "        while l < r:\n",
    "            if not s[l].isalnum():\n",
    "                l += 1\n",
    "            elif not s[r].isalnum():\n",
    "                r -= 1\n",
    "            elif s[l].lower() == s[r].lower():\n",
    "                l += 1\n",
    "                r -= 1\n",
    "            else:\n",
    "                return False\n",
    "\n",
    "        return True\n",
    "        \n",
    "\n",
    "        \n",
    "        \n",
    "    "
   ]
  },
  {
   "cell_type": "markdown",
   "id": "123d7000",
   "metadata": {},
   "source": [
    "## 392. Is Subsequence(easy) "
   ]
  },
  {
   "cell_type": "code",
   "execution_count": null,
   "id": "6f5ed83c",
   "metadata": {},
   "outputs": [],
   "source": [
    "s = \"abc\"\n",
    "t = \"ahbgdc\"\n",
    "\n",
    "def isSubsequence(s: str, t: str) -> bool: #my solution\n",
    "        i,j=0,0\n",
    "        if s=='':\n",
    "            return True\n",
    "        while i < len(s) and j < len(t):\n",
    "            if s[i] == t[j]:\n",
    "                if i == len(s)-1:\n",
    "                    return True\n",
    "                i+=1\n",
    "                j+=1\n",
    "            else:\n",
    "                j+=1\n",
    "        return False\n",
    "\n",
    "    "
   ]
  },
  {
   "cell_type": "markdown",
   "id": "e186205c",
   "metadata": {},
   "source": [
    "##  383. Ransom Note(easy)"
   ]
  },
  {
   "cell_type": "code",
   "execution_count": 1,
   "id": "14957663",
   "metadata": {},
   "outputs": [],
   "source": [
    "def canConstruct(ransomNote: str, magazine: str) -> bool: #my solution\n",
    "        _dict ={}\n",
    "        for i in ransomNote:\n",
    "            if i in _dict:\n",
    "                _dict[i]+=1\n",
    "            else:\n",
    "                _dict[i]=1\n",
    "        for i in magazine:\n",
    "            if i in _dict:\n",
    "                _dict[i]-=1\n",
    "                if _dict[i] ==0:\n",
    "                    del _dict[i]\n",
    "                    \n",
    "        return _dict=={}\n",
    "\n",
    "def canConstruct( ransomNote: str, magazine: str) -> bool: #efficient sol\n",
    "        for i in ransomNote :\n",
    "            if i not in magazine :\n",
    "                return False \n",
    "            magazine = magazine.replace(i,'',1)\n",
    "        return True \n",
    "        \n",
    "        "
   ]
  },
  {
   "cell_type": "markdown",
   "id": "c7b8d5ce",
   "metadata": {},
   "source": [
    "##  205. Isomorphic Strings(easy)"
   ]
  },
  {
   "cell_type": "code",
   "execution_count": 2,
   "id": "ca11f7b9",
   "metadata": {},
   "outputs": [],
   "source": [
    "def isIsomorphic( s: str, t: str) -> bool: #my solution\n",
    "    _dict1={}\n",
    "    _dict2={}\n",
    "    for i in range(len(s)):\n",
    "        if s[i] in _dict1:\n",
    "            if t[i]!=_dict1[s[i]]:\n",
    "                return False   \n",
    "        elif t[i] in _dict2:\n",
    "            if s[i] != _dict2[t[i]]:\n",
    "                return False\n",
    "        else:\n",
    "            _dict1[s[i]]=t[i]\n",
    "            _dict2[t[i]]=s[i]\n",
    "\n",
    "    return True\n",
    "\n",
    "def isIsomorphic(self, s, t): #better solution\n",
    "    map1 = []\n",
    "    map2 = []\n",
    "    for idx in s:\n",
    "        map1.append(s.index(idx))\n",
    "    for idx in t:\n",
    "        map2.append(t.index(idx))\n",
    "    if map1 == map2:\n",
    "        return True\n",
    "    return False\n",
    "\n",
    "def isIsomorphic(self, s: str, t: str) -> bool: #python3 solution\n",
    "        return [*map(s.index, s)] == [*map(t.index, t)]\n",
    "    "
   ]
  },
  {
   "cell_type": "markdown",
   "id": "522b8519",
   "metadata": {},
   "source": [
    "##  290. Word Pattern(easy)"
   ]
  },
  {
   "cell_type": "code",
   "execution_count": 4,
   "id": "f26df342",
   "metadata": {},
   "outputs": [],
   "source": [
    "def wordPattern( pattern: str, s: str) -> bool: #my solution\n",
    "    l2= s.split()\n",
    "    return [*map(pattern.index, pattern)]==[*map(l2.index, l2)]\n",
    "\n",
    "def wordPattern( pattern: str, s: str) -> bool: #better solution\n",
    "\n",
    "        s = s.split()\n",
    "\n",
    "        return (len(set(pattern)) ==\n",
    "                len(set(s)) ==\n",
    "                len(set(zip_longest(pattern,s))))"
   ]
  },
  {
   "cell_type": "markdown",
   "id": "1ea2b3b1",
   "metadata": {},
   "source": [
    "##  242. Valid Anagram(easy)"
   ]
  },
  {
   "cell_type": "code",
   "execution_count": 6,
   "id": "e8eeb21b",
   "metadata": {},
   "outputs": [
    {
     "data": {
      "text/plain": [
       "True"
      ]
     },
     "execution_count": 6,
     "metadata": {},
     "output_type": "execute_result"
    }
   ],
   "source": [
    "def isAnagram( s: str, t: str) -> bool: # my solution\n",
    "        return sorted(s) ==sorted(t)\n",
    "\n",
    "def isAnagram( s: str, t: str) -> bool: #best solution, counter is much faster than sorted\n",
    "        return Counter(s) == Counter(t) "
   ]
  },
  {
   "cell_type": "markdown",
   "id": "0ff42f6a",
   "metadata": {},
   "source": [
    "## 1. Two Sum(easy) "
   ]
  },
  {
   "cell_type": "code",
   "execution_count": 1,
   "id": "a9f21845",
   "metadata": {},
   "outputs": [
    {
     "ename": "NameError",
     "evalue": "name 'List' is not defined",
     "output_type": "error",
     "traceback": [
      "\u001b[0;31m---------------------------------------------------------------------------\u001b[0m",
      "\u001b[0;31mNameError\u001b[0m                                 Traceback (most recent call last)",
      "Cell \u001b[0;32mIn [1], line 1\u001b[0m\n\u001b[0;32m----> 1\u001b[0m \u001b[38;5;28;01mdef\u001b[39;00m \u001b[38;5;21mtwoSum\u001b[39m( nums: \u001b[43mList\u001b[49m[\u001b[38;5;28mint\u001b[39m], target: \u001b[38;5;28mint\u001b[39m) \u001b[38;5;241m-\u001b[39m\u001b[38;5;241m>\u001b[39m List[\u001b[38;5;28mint\u001b[39m]: \u001b[38;5;66;03m#my solution\u001b[39;00m\n\u001b[1;32m      2\u001b[0m     \u001b[38;5;28;01mfor\u001b[39;00m i \u001b[38;5;129;01min\u001b[39;00m \u001b[38;5;28mrange\u001b[39m(\u001b[38;5;28mlen\u001b[39m(nums)):\n\u001b[1;32m      3\u001b[0m         \u001b[38;5;28;01mif\u001b[39;00m target \u001b[38;5;241m-\u001b[39m nums[i] \u001b[38;5;129;01min\u001b[39;00m nums[i\u001b[38;5;241m+\u001b[39m\u001b[38;5;241m1\u001b[39m:]:\n",
      "\u001b[0;31mNameError\u001b[0m: name 'List' is not defined"
     ]
    }
   ],
   "source": [
    "def twoSum( nums: List[int], target: int) -> List[int]: #my solution\n",
    "    for i in range(len(nums)):\n",
    "        if target - nums[i] in nums[i+1:]:\n",
    "            return [i, nums[i+1:].index(target-nums[i])+i+1]\n",
    "\n",
    "        \n",
    "def twoSum(nums: List[int], target: int) -> List[int]: #same logic but better\n",
    "    numMap = {}\n",
    "    n = len(nums)\n",
    "\n",
    "    # Build the hash table\n",
    "    for i in range(n):\n",
    "        numMap[nums[i]] = i\n",
    "\n",
    "    # Find the complement\n",
    "    for i in range(n):\n",
    "        complement = target - nums[i]\n",
    "        if complement in numMap and numMap[complement] != i:\n",
    "            return [i, numMap[complement]]\n",
    "\n",
    "    return []  # No solution found\n"
   ]
  },
  {
   "cell_type": "markdown",
   "id": "a4d8d5a8",
   "metadata": {},
   "source": [
    "##  202. Happy Number(easy)"
   ]
  },
  {
   "cell_type": "code",
   "execution_count": 2,
   "id": "fc7ce881",
   "metadata": {},
   "outputs": [],
   "source": [
    "def isHappy( n: int) -> bool: #my solution\n",
    "    values =[]\n",
    "    def sumofsquare(m:int):\n",
    "        m= str(m)\n",
    "        count=0\n",
    "        for i in m:\n",
    "            count+= int(i)**2\n",
    "        return count\n",
    "\n",
    "    while True:\n",
    "        n= sumofsquare(n)\n",
    "        if n==1:\n",
    "            return True\n",
    "        if n in values:\n",
    "            return False\n",
    "        values.append(n)\n",
    "\n",
    "def isHappy(self, n: int) -> bool: #almost same logic but much faster\n",
    "        \n",
    "    seen_numbers=set()\n",
    "    while n not in seen_numbers:\n",
    "        print(n)\n",
    "        seen_numbers.add(n)\n",
    "        string=str(n)\n",
    "        squares_sum=0\n",
    "        for i in string:\n",
    "            squares_sum+=pow(int(i),2)\n",
    "        if squares_sum==1:\n",
    "            return True\n",
    "        n=squares_sum\n",
    "    return False\n",
    "\n",
    "\n",
    "        "
   ]
  },
  {
   "cell_type": "markdown",
   "id": "3fc7ad51",
   "metadata": {},
   "source": [
    "##  219. Contains Duplicate II(easy)"
   ]
  },
  {
   "cell_type": "code",
   "execution_count": 3,
   "id": "23af4d08",
   "metadata": {},
   "outputs": [
    {
     "ename": "NameError",
     "evalue": "name 'List' is not defined",
     "output_type": "error",
     "traceback": [
      "\u001b[0;31m---------------------------------------------------------------------------\u001b[0m",
      "\u001b[0;31mNameError\u001b[0m                                 Traceback (most recent call last)",
      "Cell \u001b[0;32mIn [3], line 1\u001b[0m\n\u001b[0;32m----> 1\u001b[0m \u001b[38;5;28;01mdef\u001b[39;00m \u001b[38;5;21mcontainsNearbyDuplicate\u001b[39m( nums: \u001b[43mList\u001b[49m[\u001b[38;5;28mint\u001b[39m], k: \u001b[38;5;28mint\u001b[39m) \u001b[38;5;241m-\u001b[39m\u001b[38;5;241m>\u001b[39m \u001b[38;5;28mbool\u001b[39m: \u001b[38;5;66;03m#my solution has redundant data allocation\u001b[39;00m\n\u001b[1;32m      2\u001b[0m         _dict\u001b[38;5;241m=\u001b[39m{}\n\u001b[1;32m      3\u001b[0m         \u001b[38;5;28;01mfor\u001b[39;00m i \u001b[38;5;129;01min\u001b[39;00m \u001b[38;5;28mrange\u001b[39m(\u001b[38;5;28mlen\u001b[39m(nums)):\n",
      "\u001b[0;31mNameError\u001b[0m: name 'List' is not defined"
     ]
    }
   ],
   "source": [
    "def containsNearbyDuplicate( nums: List[int], k: int) -> bool: #my solution has redundant data allocation\n",
    "        _dict={}\n",
    "        for i in range(len(nums)):\n",
    "            if nums[i] in _dict:\n",
    "                if i-_dict[nums[i]][-1]<=k:\n",
    "                    return True\n",
    "                else:\n",
    "                    _dict[nums[i]].append(i)\n",
    "                \n",
    "            else:\n",
    "                _dict[nums[i]] = [i]\n",
    "        return False\n",
    "\n",
    "def containsNearbyDuplicate( nums: List[int], k: int) -> bool: #this solution is efficient in both space and time\n",
    "        _dict={}\n",
    "        for i in range(len(nums)):\n",
    "            if (nums[i] in _dict) and i-_dict[nums[i]]<=k:\n",
    "                    return True \n",
    "            _dict[nums[i]] = i\n",
    "        return False\n",
    "\n",
    "    \n",
    "\n",
    "\n",
    "\n",
    "\n",
    "\n",
    "\n",
    "\n",
    "    "
   ]
  },
  {
   "cell_type": "markdown",
   "id": "4fd384a5",
   "metadata": {},
   "source": [
    "## 20. Valid Parentheses(easy)"
   ]
  },
  {
   "cell_type": "code",
   "execution_count": 6,
   "id": "48e4de4c",
   "metadata": {},
   "outputs": [],
   "source": [
    "def isValid( s: str) -> bool: #my solution\n",
    "        _dict ={\"(\":\")\",  \"[\":\"]\", \"{\":\"}\"}\n",
    "        ans=[]\n",
    "        for i in s:\n",
    "            if i in _dict.values():\n",
    "                if not ans:\n",
    "                    return False\n",
    "                if _dict[ans[-1]] != i:\n",
    "                    return False\n",
    "                else:\n",
    "                    ans.pop()\n",
    "            else:\n",
    "                ans.append(i)\n",
    "        return ans ==[]\n",
    "\n",
    "def isValid( s): #better solution but same logic\n",
    "       \n",
    "        opcl = dict(('()', '[]', '{}'))\n",
    "        # Create stack data structure...\n",
    "        stack = []\n",
    "        # Traverse each charater in input string...\n",
    "        for idx in s:\n",
    "            # If open parentheses are present, append it to stack...\n",
    "            if idx in '([{':\n",
    "                stack.append(idx)\n",
    "            # If the character is closing parentheses, check that the same type opening parentheses is being pushed to the stack or not...\n",
    "            # If not, we need to return false...\n",
    "            elif len(stack) == 0 or idx != opcl[stack.pop()]:\n",
    "                return False\n",
    "        # At last, we check if the stack is empty or not...\n",
    "        # If the stack is empty it means every opened parenthesis is being closed and we can return true, otherwise we return false...\n",
    "        return len(stack) == 0"
   ]
  },
  {
   "cell_type": "markdown",
   "id": "b63fd287",
   "metadata": {},
   "source": [
    "##  141. Linked List Cycle(easy)"
   ]
  },
  {
   "cell_type": "code",
   "execution_count": 7,
   "id": "23c75727",
   "metadata": {},
   "outputs": [
    {
     "ename": "NameError",
     "evalue": "name 'Optional' is not defined",
     "output_type": "error",
     "traceback": [
      "\u001b[0;31m---------------------------------------------------------------------------\u001b[0m",
      "\u001b[0;31mNameError\u001b[0m                                 Traceback (most recent call last)",
      "Cell \u001b[0;32mIn [7], line 1\u001b[0m\n\u001b[0;32m----> 1\u001b[0m \u001b[38;5;28;01mdef\u001b[39;00m \u001b[38;5;21mhasCycle\u001b[39m(head: \u001b[43mOptional\u001b[49m[ListNode]) \u001b[38;5;241m-\u001b[39m\u001b[38;5;241m>\u001b[39m \u001b[38;5;28mbool\u001b[39m: \u001b[38;5;66;03m#dumb and very slow\u001b[39;00m\n\u001b[1;32m      2\u001b[0m         x \u001b[38;5;241m=\u001b[39m[]\n\u001b[1;32m      3\u001b[0m         \u001b[38;5;28;01mwhile\u001b[39;00m \u001b[38;5;28;01mTrue\u001b[39;00m:\n",
      "\u001b[0;31mNameError\u001b[0m: name 'Optional' is not defined"
     ]
    }
   ],
   "source": [
    "def hasCycle(head: Optional[ListNode]) -> bool: #dumb and very slow\n",
    "        x =[]\n",
    "        while True:\n",
    "            if head and head.next:\n",
    "                if head in x:\n",
    "                    return True\n",
    "                x.append(head)\n",
    "                head = head.next\n",
    "\n",
    "            else:\n",
    "                return False\n",
    "def hasCycle(head: Optional[ListNode]) -> bool: #smart and very fast\n",
    "        fast=head\n",
    "        slow=head\n",
    "        while(fast!=None and fast.next!=None):\n",
    "            fast=fast.next.next\n",
    "            slow=slow.next\n",
    "            if(fast==slow):\n",
    "                return True\n",
    "        return False\n"
   ]
  },
  {
   "cell_type": "markdown",
   "id": "d945dc50",
   "metadata": {},
   "source": [
    "##  21. Merge Two Sorted Lists(easy)"
   ]
  },
  {
   "cell_type": "code",
   "execution_count": null,
   "id": "bc43db64",
   "metadata": {},
   "outputs": [],
   "source": [
    "# Definition for singly-linked list.\n",
    "# class ListNode:\n",
    "#     def __init__(self, val=0, next=None):\n",
    "#         self.val = val\n",
    "#         self.next = next\n",
    "class Solution: #my solution\n",
    "    def mergeTwoLists(self, list1: Optional[ListNode], list2: Optional[ListNode]) -> Optional[ListNode]:\n",
    "        _ans =ListNode()\n",
    "        ans= _ans #to store the head position\n",
    "        while list1 and list2: \n",
    "            if list1.val <=list2.val:\n",
    "                ans.next = list1\n",
    "                list1=list1.next\n",
    "            else:\n",
    "                ans.next=list2\n",
    "                list2=list2.next\n",
    "            ans=ans.next\n",
    "\n",
    "        if list1:\n",
    "            ans.next = list1\n",
    "        if list2:\n",
    "            ans.next= list2\n",
    "        return _ans.next\n",
    "            "
   ]
  },
  {
   "cell_type": "markdown",
   "id": "b49bf431",
   "metadata": {},
   "source": [
    "## 104. Maximum Depth of Binary Tree(easy)"
   ]
  },
  {
   "cell_type": "code",
   "execution_count": null,
   "id": "57f59d99",
   "metadata": {},
   "outputs": [],
   "source": [
    "# Definition for a binary tree node.\n",
    "# class TreeNode:\n",
    "#     def __init__(self, val=0, left=None, right=None):\n",
    "#         self.val = val\n",
    "#         self.left = left\n",
    "#         self.right = right\n",
    "class Solution: #used recursive function to calculate the depth\n",
    "    def maxDepth(self, root: Optional[TreeNode]) -> int:\n",
    "\n",
    "        def depth(root,count=0):\n",
    "            if root :\n",
    "                count +=1\n",
    "                count_l = depth(root.left,count )\n",
    "                count_r = depth(root.right,count)\n",
    "                if count_l<=count_r:\n",
    "                    return count_r\n",
    "                return count_l\n",
    "            return count\n",
    "        \n",
    "        return depth(root=root)\n",
    "\n",
    "class Solution: #very optimised solution\n",
    "    def maxDepth(self, root):\n",
    "        if not root:\n",
    "            return 0\n",
    "        else:\n",
    "            left_depth = self.maxDepth(root.left)\n",
    "            right_depth = self.maxDepth(root.right)\n",
    "            return max(left_depth, right_depth) + 1\n"
   ]
  },
  {
   "cell_type": "markdown",
   "id": "7bb14441",
   "metadata": {},
   "source": [
    "##  100. Same Tree(easy)"
   ]
  },
  {
   "cell_type": "code",
   "execution_count": null,
   "id": "41c7f1d1",
   "metadata": {},
   "outputs": [],
   "source": [
    "while p and q:\n",
    "    if p.val != q.val:\n",
    "        return False\n",
    "    self.isSameTree(p.left, q.left)\n",
    "    self.isSameTree(p.right, q.right)\n",
    "return True\n"
   ]
  },
  {
   "cell_type": "markdown",
   "id": "3a4c43d6",
   "metadata": {},
   "source": [
    "## 228. Summary Ranges"
   ]
  },
  {
   "cell_type": "code",
   "execution_count": null,
   "id": "bb7f0251",
   "metadata": {},
   "outputs": [],
   "source": [
    "class Solution:\n",
    "    def summaryRanges(self, nums: List[int]) -> List[str]:\n",
    "        if len(nums)==1:\n",
    "            return [f\"{nums[0]}\"]\n",
    "        if len(nums)==0:\n",
    "            return []\n",
    "        ans =[]\n",
    "        fn=nums[0]   \n",
    "        for i in range(1, len(nums)+1):\n",
    "\n",
    "            if i <=len(nums)-1:\n",
    "                if nums[i] != nums[i-1]+1:\n",
    "                    if fn == nums[i-1]:\n",
    "                        ans.append(f\"{fn}\")\n",
    "                    else:\n",
    "                        ans.append(f\"{fn}->{nums[i-1]}\")\n",
    "                    fn=nums[i]\n",
    "            else:\n",
    "                if nums[i-2] != nums[i-1]-1:\n",
    "                    ans.append(f\"{nums[i-1]}\")\n",
    "                else:\n",
    "                    ans.append(f\"{fn}->{nums[i-1]}\")\n",
    "            i+=1\n",
    "        \n",
    "        return ans\n",
    "\n",
    "class Solution: ##easy and optimised solution\n",
    "    def summaryRanges(self, nums: List[int]) -> List[str]:\n",
    "        if nums == []:\n",
    "            return []\n",
    "\n",
    "        res = [[nums[0], nums[0]]]\n",
    "        for i in range(1, len(nums)):\n",
    "            if nums[i] == res[-1][-1] + 1:\n",
    "                res[-1][-1] = nums[i]\n",
    "            else:\n",
    "                res.append([nums[i], nums[i]])\n",
    "\n",
    "        res_str = []\n",
    "        for interval in res:\n",
    "            if interval[0] == interval[1]:\n",
    "                res_str.append(str(interval[0]))\n",
    "            else:\n",
    "                res_str.append(str(interval[0]) + '->' + str(interval[1]))\n",
    "        \n",
    "        return res_str"
   ]
  },
  {
   "cell_type": "markdown",
   "id": "feb06b4d",
   "metadata": {},
   "source": [
    "## 637. Average of Levels in Binary Tree"
   ]
  },
  {
   "cell_type": "code",
   "execution_count": null,
   "id": "23a165d7",
   "metadata": {},
   "outputs": [],
   "source": [
    "class Solution:\n",
    "    def averageOfLevels(self, root: Optional[TreeNode]) -> List[float]:\n",
    "        values ={}\n",
    "        i=0\n",
    "        def return_dict(root, pos, values:dict):\n",
    "            if str(root.val):\n",
    "                if pos in values.keys():\n",
    "                    values[pos].append(root.val)\n",
    "                else:\n",
    "                    values[pos]= [root.val]\n",
    "            if (root.left) :\n",
    "                return_dict(root.left, pos+1, values)\n",
    "            if (root.right):\n",
    "                return_dict(root.right, pos+1, values)\n",
    "\n",
    "            return values\n",
    "        values = return_dict(root, i, values)\n",
    "        return [mean(l) for l in values.values()]\n",
    "    \n",
    "class Solution: ##easy and better solution\n",
    "    def averageOfLevels(self, root: Optional[TreeNode]) -> List[float]:\n",
    "        level_sum, level_count = [], []\n",
    "        def dfs(root, height):\n",
    "            if not root:\n",
    "                return\n",
    "            if height > len(level_sum):\n",
    "                level_sum.append(root.val)\n",
    "                level_count.append(1)\n",
    "            else:\n",
    "                level_sum[height-1] += root.val\n",
    "                level_count[height-1] += 1\n",
    "            dfs(root.left, height+1)\n",
    "            dfs(root.right, height+1)\n",
    "\n",
    "        result = dfs(root, 1)\n",
    "        return [level_sum[i]/level_count[i] for i in range(len(level_sum))]"
   ]
  },
  {
   "cell_type": "markdown",
   "id": "a90bd69e",
   "metadata": {},
   "source": [
    "## 35. Search Insert Position"
   ]
  },
  {
   "cell_type": "code",
   "execution_count": null,
   "id": "240e2b44",
   "metadata": {},
   "outputs": [],
   "source": [
    "class Solution:\n",
    "    def searchInsert(self, nums: List[int], target: int) -> int:\n",
    "        left = 0\n",
    "        right = len(nums)\n",
    "\n",
    "        if nums[left] >= target:\n",
    "            return 0\n",
    "        if nums[right-1] < target:\n",
    "            return right\n",
    "\n",
    "        while True:\n",
    "            if  right-left !=1:\n",
    "                if (left+right)%2==0  :\n",
    "                    n = (left+right)//2\n",
    "                else:\n",
    "                    n=(left+right-1)//2 \n",
    "            else:\n",
    "                return left+1\n",
    "            print(n)\n",
    "\n",
    "\n",
    "            if nums[n] > target:\n",
    "                right= n\n",
    "            elif nums[n] < target:\n",
    "                left = n\n",
    "            else:\n",
    "                return n\n",
    "            \n",
    "class Solution: ##easy and clean solution\n",
    "    def searchInsert(self, nums: List[int], target: int) -> int:\n",
    "        left, right = 0, len(nums) - 1\n",
    "        \n",
    "        while left <= right:\n",
    "            mid = left + (right - left) // 2\n",
    "            \n",
    "            if nums[mid] == target:\n",
    "                return mid\n",
    "            elif nums[mid] < target:\n",
    "                left = mid + 1\n",
    "            else:\n",
    "                right = mid - 1\n",
    "        \n",
    "        return left"
   ]
  },
  {
   "cell_type": "markdown",
   "id": "80352581",
   "metadata": {},
   "source": [
    "## 67. Add Binary"
   ]
  },
  {
   "cell_type": "code",
   "execution_count": null,
   "id": "3c816366",
   "metadata": {},
   "outputs": [],
   "source": [
    "class Solution:\n",
    "    def addBinary(self, a: str, b: str) -> str:\n",
    "        ans=''\n",
    "        n =0\n",
    "        i, j = len(a)-1, len(b)-1\n",
    "        \n",
    "        while i >=0 or j >=0:\n",
    "             \n",
    "            if i >=0 and j>=0:\n",
    "                sum = int(a[i])+int(b[j])\n",
    "            if i>=0 and  j<0:\n",
    "                sum =int(a[i])\n",
    "            if i<0 and j>=0:\n",
    "                sum=int(b[j])\n",
    "\n",
    "            temp=sum+n \n",
    "            n= (temp)//2\n",
    "            ans = str(temp%2)+ans\n",
    "            # if sum+n ==0:\n",
    "            #     ans ='0'+ans\n",
    "            # elif sum+n ==1:\n",
    "            #     ans ='1'+ans\n",
    "            #     n=0\n",
    "            # elif sum+n ==2:\n",
    "            #     ans ='0'+ans\n",
    "            #     n=1\n",
    "            # elif sum+n ==3:\n",
    "            #     ans ='1'+ans\n",
    "            #     n=1\n",
    "            # print(ans)\n",
    "            i-=1\n",
    "            j-=1\n",
    "        if n==1:\n",
    "            return str(n)+ans\n",
    "        return ans\n",
    "    \n",
    "class Solution: ##clean and clear solution but almost same logic\n",
    "      def addBinary(self, a: str, b: str) -> str:\n",
    "        s = []\n",
    "        carry = 0\n",
    "        i = len(a) - 1\n",
    "        j = len(b) - 1\n",
    "\n",
    "        while i >= 0 or j >= 0 or carry:\n",
    "          if i >= 0:\n",
    "            carry += int(a[i])\n",
    "            i -= 1\n",
    "          if j >= 0:\n",
    "            carry += int(b[j])\n",
    "            j -= 1\n",
    "          s.append(str(carry % 2))\n",
    "          carry //= 2\n",
    "\n",
    "        return ''.join(reversed(s))"
   ]
  },
  {
   "cell_type": "markdown",
   "id": "64f66088",
   "metadata": {},
   "source": [
    "## 190. Reverse Bits"
   ]
  },
  {
   "cell_type": "code",
   "execution_count": null,
   "id": "973661c8",
   "metadata": {},
   "outputs": [],
   "source": [
    "def reverseBits( n: int) -> int:\n",
    "        sum=0\n",
    "        count =0\n",
    "        while n != 0:\n",
    "            r = n%2 \n",
    "            n=n//2\n",
    "            sum = sum*2+r\n",
    "            count+=1\n",
    "        \n",
    "        return sum*(2**(32-count))\n",
    "\n",
    "def reverseBits( n: int) -> int: #best solution\n",
    "        ans = 0\n",
    "\n",
    "        for i in range(32):\n",
    "            ans |= (n & 1) << (31 - i)\n",
    "            n >>= 1\n",
    "\n",
    "        return ans"
   ]
  },
  {
   "cell_type": "markdown",
   "id": "ae70c00e",
   "metadata": {},
   "source": [
    "## 191. Number of 1 Bits"
   ]
  },
  {
   "cell_type": "code",
   "execution_count": 1,
   "id": "43de76f3",
   "metadata": {},
   "outputs": [],
   "source": [
    "class Solution:\n",
    "    def hammingWeight(self, n: int) -> int:\n",
    "        count=0\n",
    "        while n!=0:\n",
    "            r = n%2\n",
    "            if r==1:\n",
    "                count+=1\n",
    "            n=n//2\n",
    "        return count\n",
    "\n",
    "#best solutions\n",
    "class Solution:\n",
    "    def hammingWeight(self, n: int) -> int:\n",
    "        count = 0\n",
    "        while n != 0:\n",
    "            n &= (n - 1)\n",
    "            count += 1\n",
    "        return count\n",
    "\n",
    "class Solution:\n",
    "    def hammingWeight(self, n: int) -> int:\n",
    "        count = 0\n",
    "        while n != 0:\n",
    "            count += n & 1\n",
    "            n >>= 1\n",
    "        return count\n"
   ]
  },
  {
   "cell_type": "markdown",
   "id": "4dfb4934",
   "metadata": {},
   "source": [
    "## 136. Single Number"
   ]
  },
  {
   "cell_type": "code",
   "execution_count": 5,
   "id": "f290ddc2",
   "metadata": {},
   "outputs": [
    {
     "ename": "NameError",
     "evalue": "name 'List' is not defined",
     "output_type": "error",
     "traceback": [
      "\u001b[0;31m---------------------------------------------------------------------------\u001b[0m",
      "\u001b[0;31mNameError\u001b[0m                                 Traceback (most recent call last)",
      "Cell \u001b[0;32mIn [5], line 1\u001b[0m\n\u001b[0;32m----> 1\u001b[0m \u001b[38;5;28;01mclass\u001b[39;00m \u001b[38;5;21;01mSolution\u001b[39;00m:\n\u001b[1;32m      2\u001b[0m     \u001b[38;5;28;01mdef\u001b[39;00m \u001b[38;5;21msingleNumber\u001b[39m(\u001b[38;5;28mself\u001b[39m, nums: List[\u001b[38;5;28mint\u001b[39m]) \u001b[38;5;241m-\u001b[39m\u001b[38;5;241m>\u001b[39m \u001b[38;5;28mint\u001b[39m:\n\u001b[1;32m      5\u001b[0m         \u001b[38;5;28;01mreturn\u001b[39;00m \u001b[38;5;241m2\u001b[39m\u001b[38;5;241m*\u001b[39m\u001b[38;5;28msum\u001b[39m(\u001b[38;5;28mlist\u001b[39m(\u001b[38;5;28mset\u001b[39m(nums)))\u001b[38;5;241m-\u001b[39m\u001b[38;5;28msum\u001b[39m(nums)\n",
      "Cell \u001b[0;32mIn [5], line 2\u001b[0m, in \u001b[0;36mSolution\u001b[0;34m()\u001b[0m\n\u001b[1;32m      1\u001b[0m \u001b[38;5;28;01mclass\u001b[39;00m \u001b[38;5;21;01mSolution\u001b[39;00m:\n\u001b[0;32m----> 2\u001b[0m     \u001b[38;5;28;01mdef\u001b[39;00m \u001b[38;5;21msingleNumber\u001b[39m(\u001b[38;5;28mself\u001b[39m, nums: \u001b[43mList\u001b[49m[\u001b[38;5;28mint\u001b[39m]) \u001b[38;5;241m-\u001b[39m\u001b[38;5;241m>\u001b[39m \u001b[38;5;28mint\u001b[39m:\n\u001b[1;32m      5\u001b[0m         \u001b[38;5;28;01mreturn\u001b[39;00m \u001b[38;5;241m2\u001b[39m\u001b[38;5;241m*\u001b[39m\u001b[38;5;28msum\u001b[39m(\u001b[38;5;28mlist\u001b[39m(\u001b[38;5;28mset\u001b[39m(nums)))\u001b[38;5;241m-\u001b[39m\u001b[38;5;28msum\u001b[39m(nums)\n",
      "\u001b[0;31mNameError\u001b[0m: name 'List' is not defined"
     ]
    }
   ],
   "source": [
    "class Solution:\n",
    "    def singleNumber(self, nums: List[int]) -> int:\n",
    "        \n",
    "        \n",
    "        return 2*sum(list(set(nums)))-sum(nums)\n",
    "\n",
    "#best solution\n",
    "class Solution(object):\n",
    "    def singleNumber(self, nums):\n",
    "        result = 0\n",
    "        for num in nums:\n",
    "            result ^= num\n",
    "        return result\n",
    "\n",
    "    \n"
   ]
  },
  {
   "cell_type": "markdown",
   "id": "c0f0cd64",
   "metadata": {},
   "source": [
    "## 9. Palindrome Number"
   ]
  },
  {
   "cell_type": "code",
   "execution_count": null,
   "id": "b5fd4fd6",
   "metadata": {},
   "outputs": [],
   "source": [
    "class Solution:\n",
    "    def isPalindrome(self, x: int) -> bool:\n",
    "        return str(x) == str(x)[::-1] and x >=0\n",
    "    \n",
    "# better solution\n",
    "class Solution:\n",
    "    def isPalindrome(self, x: int) -> bool:\n",
    "        temp=0\n",
    "        c=0\n",
    "        new=x\n",
    "        for i in range(0,len(str(x))):\n",
    "            c=x%10\n",
    "            x//=10\n",
    "            temp=temp*10+c\n",
    "        if temp==new:\n",
    "            return True\n",
    "        else:\n",
    "            return False\n"
   ]
  },
  {
   "cell_type": "markdown",
   "id": "aa9a8e0f",
   "metadata": {},
   "source": [
    "## 66. Plus One"
   ]
  },
  {
   "cell_type": "code",
   "execution_count": null,
   "id": "a190b67c",
   "metadata": {},
   "outputs": [],
   "source": [
    "class Solution:\n",
    "    def plusOne(self, digits: List[int]) -> List[int]:\n",
    "#         not a great solution\n",
    "        # i=len(digits)-1\n",
    "        # while i >=0:\n",
    "        #     digits[i]+=1\n",
    "        #     if digits[i] ==10:\n",
    "        #         digits[i]=0\n",
    "        #         i-=1\n",
    "        #     else:\n",
    "        #         return digits\n",
    "        # digits.insert(0,1)\n",
    "        # return digits\n",
    "        \n",
    "        \n",
    "        sum =0\n",
    "        ans =[]\n",
    "        for i in digits:\n",
    "            sum =sum*10+i\n",
    "        sum+=1\n",
    "        while sum >0:\n",
    "            r = sum%10\n",
    "            sum= sum//10\n",
    "            ans.insert(0,r)\n",
    "        return ans\n",
    "    \n",
    "# better solution\n",
    "class Solution:\n",
    "    def plusOne(self, digits: List[int]) -> List[int]:\n",
    "        for i in reversed(range(len(digits))):\n",
    "            if digits[i] == 9:\n",
    "                digits[i] = 0\n",
    "            else:\n",
    "                digits[i] += 1\n",
    "                return digits\n",
    "        return [1] + digits\n"
   ]
  },
  {
   "cell_type": "markdown",
   "id": "e7c72cba",
   "metadata": {},
   "source": [
    "## 69. Sqrt(x)"
   ]
  },
  {
   "cell_type": "code",
   "execution_count": 1,
   "id": "c1faefa4",
   "metadata": {},
   "outputs": [],
   "source": [
    "\n",
    "# worst solution ever\n",
    "class Solution:\n",
    "    def mySqrt(self, x: int) -> int:\n",
    "        \n",
    "\n",
    "        for i in range(x//2+2):\n",
    "            if (i+1)*(i+1) > x and i*i <=x:\n",
    "                return i\n",
    "            i+=1\n",
    "\n",
    "# best solution\n",
    "class Solution:\n",
    "    def mySqrt(self, x: int) -> int:\n",
    "        if x < 4: return 1 if x else 0\n",
    "        s, e, m = 1, x, -1\n",
    "        while(s <= e):\n",
    "            m = (s + e)//2\n",
    "            if m*m == x:\n",
    "                return m\n",
    "            elif m*m > x:\n",
    "                e = m - 1\n",
    "            else:\n",
    "                s = m + 1\n",
    "        return m - 1 if m * m > x else m\n",
    "        "
   ]
  },
  {
   "cell_type": "markdown",
   "id": "f885a2ba",
   "metadata": {},
   "source": [
    "## 70. Climbing Stairs"
   ]
  },
  {
   "cell_type": "code",
   "execution_count": null,
   "id": "dce731ca",
   "metadata": {},
   "outputs": [],
   "source": [
    "class Solution:\n",
    "    def climbStairs(self, n: int) -> int:\n",
    "        count=[1,2]\n",
    "        while len(count) < n:\n",
    "            count.append(count[len(count)-1]+count[len(count)-2])\n",
    "        return count[n-1] \n",
    "\n",
    "    \n",
    "# better solution(Applied recursion)\n",
    "class Solution:\n",
    "    def climbStairs(self, n: int) -> int:\n",
    "        if n == 0 or n == 1:\n",
    "            return 1\n",
    "        return self.climbStairs(n-1) + self.climbStairs(n-2)"
   ]
  },
  {
   "cell_type": "markdown",
   "id": "5d0367b8",
   "metadata": {},
   "source": [
    "##  88.Merge Sorted Array"
   ]
  },
  {
   "cell_type": "code",
   "execution_count": null,
   "id": "5886f86e",
   "metadata": {},
   "outputs": [],
   "source": [
    "class Solution:\n",
    "    def merge(self, nums1: List[int], m: int, nums2: List[int], n: int) -> None:\n",
    "        \"\"\"\n",
    "        Do not return anything, modify nums1 in-place instead.\n",
    "        \"\"\"\n",
    "       \n",
    "        i=0\n",
    "        j=0\n",
    "        if m==0:\n",
    "            nums1 [:] = nums2\n",
    "            return nums1\n",
    "        if n==0:\n",
    "            return nums1\n",
    "        \n",
    "        while j<n and i<m:\n",
    "            if nums2[j] <= nums1[i]:\n",
    "                nums1.insert(i, nums2[j])\n",
    "                nums1.pop()\n",
    "                m+=1\n",
    "                j+=1\n",
    "            i+=1\n",
    "        \n",
    "        if i>=m:\n",
    "            nums1[m:] =nums2[j:]\n",
    "        return nums1\n",
    "\n",
    "\n",
    "#best solution\n",
    "class Solution(object):\n",
    "    def merge(self, nums1, m, nums2, n):\n",
    "        \"\"\"\n",
    "        :type nums1: List[int]\n",
    "        :type m: int\n",
    "        :type nums2: List[int]\n",
    "        :type n: int\n",
    "        :rtype: None Do not return anything, modify nums1 in-place instead.\n",
    "        \"\"\"\n",
    "        if n == 0 :return\n",
    "        len1 = len(nums1)\n",
    "        end_idx = len1-1\n",
    "        while n > 0 and m > 0 :\n",
    "            if nums2[n-1] >= nums1[m-1]:\n",
    "                nums1[end_idx] = nums2[n-1]\n",
    "                n-=1\n",
    "            else:\n",
    "                nums1[end_idx] = nums1[m-1]\n",
    "                m-=1\n",
    "            end_idx-=1\n",
    "        while n > 0:\n",
    "            nums1[end_idx] = nums2[n-1]\n",
    "            n-=1\n",
    "            end_idx-=1"
   ]
  },
  {
   "cell_type": "markdown",
   "id": "4ebf3af2",
   "metadata": {},
   "source": [
    "## 121. Best Time to Buy and Sell Stock"
   ]
  },
  {
   "cell_type": "code",
   "execution_count": null,
   "id": "67e08349",
   "metadata": {},
   "outputs": [],
   "source": [
    "class Solution: #works but extremely slow\n",
    "    def maxProfit(self, prices: List[int]) -> int:\n",
    "        max=0\n",
    "        j=1\n",
    "        while j <=len(prices)-1:\n",
    "            diff =[ prices[i+j]- prices[i] for i in range(len(prices)-j)]\n",
    "            for i in diff:\n",
    "                if i>=max:\n",
    "                    max=i\n",
    "            j+=1\n",
    "        return max\n",
    "    \n",
    "class Solution:\n",
    "    def maxProfit(self, prices:List[int]) ->int:\n",
    "        profit =0\n",
    "        buy = prices[0]\n",
    "        for i in prices:\n",
    "            if i < buy:\n",
    "                buy =i\n",
    "            elif profit < i- buy:\n",
    "                profit = i-buy\n",
    "        return profit"
   ]
  },
  {
   "cell_type": "markdown",
   "id": "3f401e8d",
   "metadata": {},
   "source": [
    "## 14. Longest Common Prefix"
   ]
  },
  {
   "cell_type": "code",
   "execution_count": 1,
   "id": "f4c5ca14",
   "metadata": {},
   "outputs": [
    {
     "ename": "NameError",
     "evalue": "name 'List' is not defined",
     "output_type": "error",
     "traceback": [
      "\u001b[0;31m---------------------------------------------------------------------------\u001b[0m",
      "\u001b[0;31mNameError\u001b[0m                                 Traceback (most recent call last)",
      "Cell \u001b[0;32mIn [1], line 1\u001b[0m\n\u001b[0;32m----> 1\u001b[0m \u001b[38;5;28;01mclass\u001b[39;00m \u001b[38;5;21;01mSolution\u001b[39;00m:\n\u001b[1;32m      2\u001b[0m     \u001b[38;5;28;01mdef\u001b[39;00m \u001b[38;5;21mlongestCommonPrefix\u001b[39m(\u001b[38;5;28mself\u001b[39m, strs: List[\u001b[38;5;28mstr\u001b[39m]) \u001b[38;5;241m-\u001b[39m\u001b[38;5;241m>\u001b[39m \u001b[38;5;28mstr\u001b[39m:\n\u001b[1;32m      3\u001b[0m         size \u001b[38;5;241m=\u001b[39m \u001b[38;5;28mlen\u001b[39m(strs)\n",
      "Cell \u001b[0;32mIn [1], line 2\u001b[0m, in \u001b[0;36mSolution\u001b[0;34m()\u001b[0m\n\u001b[1;32m      1\u001b[0m \u001b[38;5;28;01mclass\u001b[39;00m \u001b[38;5;21;01mSolution\u001b[39;00m:\n\u001b[0;32m----> 2\u001b[0m     \u001b[38;5;28;01mdef\u001b[39;00m \u001b[38;5;21mlongestCommonPrefix\u001b[39m(\u001b[38;5;28mself\u001b[39m, strs: \u001b[43mList\u001b[49m[\u001b[38;5;28mstr\u001b[39m]) \u001b[38;5;241m-\u001b[39m\u001b[38;5;241m>\u001b[39m \u001b[38;5;28mstr\u001b[39m:\n\u001b[1;32m      3\u001b[0m         size \u001b[38;5;241m=\u001b[39m \u001b[38;5;28mlen\u001b[39m(strs)\n\u001b[1;32m      4\u001b[0m         strs\u001b[38;5;241m.\u001b[39msort()\n",
      "\u001b[0;31mNameError\u001b[0m: name 'List' is not defined"
     ]
    }
   ],
   "source": [
    "class Solution:\n",
    "    def longestCommonPrefix(self, strs: List[str]) -> str:\n",
    "        size = len(strs)\n",
    "        strs.sort()\n",
    "\n",
    "        if len(strs)==0:\n",
    "            return ''\n",
    "        if len(strs) ==1:\n",
    "            return strs[0]\n",
    "        \n",
    "        if strs[0]:\n",
    "\n",
    "            min_len = min(len(strs[0]), len(strs[size-1]))\n",
    "            i=0\n",
    "            while i <min_len:\n",
    "                if strs[0][i] != strs[-1][i]:\n",
    "                    return strs[0][:i]\n",
    "                i+=1\n",
    "            return strs[0][:i+1]\n",
    "        else:\n",
    "            return ''\n",
    "        \n",
    "class Solution:  ##better solution\n",
    "    def longestCommonPrefix(self, v: List[str]) -> str:\n",
    "        ans=\"\"\n",
    "        v=sorted(v)\n",
    "        first=v[0]\n",
    "        last=v[-1]\n",
    "        for i in range(min(len(first),len(last))):\n",
    "            if(first[i]!=last[i]):\n",
    "                return ans\n",
    "            ans+=first[i]\n",
    "        return ans "
   ]
  },
  {
   "cell_type": "markdown",
   "id": "6efbf7ba",
   "metadata": {},
   "source": [
    "## 100. Same Tree"
   ]
  },
  {
   "cell_type": "code",
   "execution_count": null,
   "id": "26364803",
   "metadata": {},
   "outputs": [],
   "source": [
    "# Definition for a binary tree node.\n",
    "# class TreeNode:\n",
    "#     def __init__(self, val=0, left=None, right=None):\n",
    "#         self.val = val\n",
    "#         self.left = left\n",
    "#         self.right = right\n",
    "class Solution:\n",
    "    def isSameTree(self, p: Optional[TreeNode], q: Optional[TreeNode]) -> bool:\n",
    "        if not p and not q:\n",
    "            return True\n",
    "        if not p  and q:\n",
    "            return False\n",
    "        if not q and p:\n",
    "            return False\n",
    "\n",
    "        if (p and q):\n",
    "\n",
    "            if p.val == q.val and self.isSameTree(p.left, q.left) and self.isSameTree(p.right, q.right) :\n",
    "                return True\n",
    "            else:\n",
    "                return False\n",
    "            \n",
    "\n",
    "#cleaner and better solution\n",
    "class Solution:\n",
    "    def isSameTree(self, p: Optional[TreeNode], q: Optional[TreeNode]) -> bool:\n",
    "        if not p and not q:\n",
    "            return True\n",
    "        elif not p  :\n",
    "            return False\n",
    "        elif not q :\n",
    "            return False\n",
    "\n",
    "\n",
    "\n",
    "        elif p.val == q.val and self.isSameTree(p.left, q.left) and self.isSameTree(p.right, q.right) :\n",
    "            return True\n",
    "        else:\n",
    "            return False"
   ]
  }
 ],
 "metadata": {
  "kernelspec": {
   "display_name": "Python 3 (ipykernel)",
   "language": "python",
   "name": "python3"
  },
  "language_info": {
   "codemirror_mode": {
    "name": "ipython",
    "version": 3
   },
   "file_extension": ".py",
   "mimetype": "text/x-python",
   "name": "python",
   "nbconvert_exporter": "python",
   "pygments_lexer": "ipython3",
   "version": "3.10.12"
  }
 },
 "nbformat": 4,
 "nbformat_minor": 5
}
